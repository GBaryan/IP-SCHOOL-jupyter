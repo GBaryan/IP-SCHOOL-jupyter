{
 "cells": [
  {
   "cell_type": "markdown",
   "id": "390f6aeb",
   "metadata": {},
   "source": [
    "# DATA FRAMES"
   ]
  },
  {
   "cell_type": "markdown",
   "id": "1664abe2",
   "metadata": {},
   "source": [
    "## Creation of an empty DataFrame"
   ]
  },
  {
   "cell_type": "code",
   "execution_count": 4,
   "id": "b611ae75",
   "metadata": {},
   "outputs": [
    {
     "name": "stdout",
     "output_type": "stream",
     "text": [
      "Empty DataFrame\n",
      "Columns: []\n",
      "Index: []\n"
     ]
    }
   ],
   "source": [
    "import pandas as pd\n",
    "dFrameEmt = pd.DataFrame()\n",
    "print(dFrameEmt)"
   ]
  },
  {
   "cell_type": "markdown",
   "id": "79e34d79",
   "metadata": {},
   "source": [
    "## Creation of DataFrame from NumPy ndarrays"
   ]
  },
  {
   "cell_type": "code",
   "execution_count": 8,
   "id": "b510a758",
   "metadata": {},
   "outputs": [
    {
     "name": "stdout",
     "output_type": "stream",
     "text": [
      "    0\n",
      "0  10\n",
      "1  20\n",
      "2  30\n",
      "     A    B    C     D\n",
      "0   10   20   30   NaN\n",
      "1  -10  -20  -30 -40.0\n",
      "2  100  200  300   NaN\n"
     ]
    }
   ],
   "source": [
    "import numpy as np\n",
    "array1 = np.array([10,20,30])\n",
    "array2 = np.array([100,200,300])\n",
    "array3 = np.array([-10,-20,-30, -40])\n",
    "dFrame4 = pd.DataFrame(array1)\n",
    "print(dFrame4)\n",
    "\n",
    "#We can create a DataFrame using more than one\n",
    "#ndarrays, as shown in the following example:\n",
    "\n",
    "dFrame5 = pd.DataFrame([array1, array3,array2], columns=[ 'A', 'B', 'C', 'D'])\n",
    "print(dFrame5)"
   ]
  },
  {
   "cell_type": "markdown",
   "id": "81aaeccf",
   "metadata": {},
   "source": [
    "## Creation of DataFrame from List of Dictionaries"
   ]
  },
  {
   "cell_type": "code",
   "execution_count": 9,
   "id": "e4c1ceff",
   "metadata": {},
   "outputs": [
    {
     "name": "stdout",
     "output_type": "stream",
     "text": [
      "    a   b     c\n",
      "0  10  20   NaN\n",
      "1   5  10  20.0\n"
     ]
    }
   ],
   "source": [
    "import pandas as pd\n",
    "listDict = [{'a':10, 'b':20}, {'a':5,'b':10, 'c':20}]\n",
    "dFrameListDict = pd.DataFrame(listDict)\n",
    "print(dFrameListDict)\n"
   ]
  },
  {
   "cell_type": "markdown",
   "id": "027ac421",
   "metadata": {},
   "source": [
    "## Creation of DataFrame from Dictionary of Lists"
   ]
  },
  {
   "cell_type": "code",
   "execution_count": 12,
   "id": "e4fc2caa",
   "metadata": {},
   "outputs": [
    {
     "name": "stdout",
     "output_type": "stream",
     "text": [
      "    State  GArea      VDF\n",
      "0   Assam  78438  2797.00\n",
      "1   Delhi   1483     6.72\n",
      "2  Kerala  38852  1663.00\n"
     ]
    }
   ],
   "source": [
    "import pandas as pd\n",
    "dictForest = {'State': ['Assam', 'Delhi','Kerala'],'GArea': [78438, 1483, 38852] ,'VDF' : [2797, 6.72,1663]}\n",
    "dFrameForest= pd.DataFrame(dictForest)\n",
    "print(dFrameForest)"
   ]
  },
  {
   "cell_type": "markdown",
   "id": "93e95d08",
   "metadata": {},
   "source": [
    "## Creation of DataFrame from Series"
   ]
  },
  {
   "cell_type": "code",
   "execution_count": 13,
   "id": "ee209012",
   "metadata": {},
   "outputs": [
    {
     "name": "stdout",
     "output_type": "stream",
     "text": [
      "   0\n",
      "a  1\n",
      "b  2\n",
      "c  3\n",
      "d  4\n",
      "e  5\n"
     ]
    }
   ],
   "source": [
    "import pandas as pd\n",
    "seriesA = pd.Series([1,2,3,4,5],index = ['a', 'b', 'c', 'd', 'e'])\n",
    "seriesB = pd.Series ([1000,2000,-1000,-5000,1000],index = ['a', 'b', 'c', 'd', 'e'])\n",
    "seriesC = pd.Series([10,20,-10,-50,100],index = ['z', 'y', 'a', 'c', 'e'])\n",
    "#We can create a DataFrame using a single series asshown below:\n",
    "dFrame6 = pd.DataFrame(seriesA)\n",
    "print(dFrame6)\n"
   ]
  },
  {
   "cell_type": "code",
   "execution_count": null,
   "id": "d82a7f0e",
   "metadata": {},
   "outputs": [],
   "source": []
  }
 ],
 "metadata": {
  "kernelspec": {
   "display_name": "Python 3 (ipykernel)",
   "language": "python",
   "name": "python3"
  },
  "language_info": {
   "codemirror_mode": {
    "name": "ipython",
    "version": 3
   },
   "file_extension": ".py",
   "mimetype": "text/x-python",
   "name": "python",
   "nbconvert_exporter": "python",
   "pygments_lexer": "ipython3",
   "version": "3.9.7"
  }
 },
 "nbformat": 4,
 "nbformat_minor": 5
}
