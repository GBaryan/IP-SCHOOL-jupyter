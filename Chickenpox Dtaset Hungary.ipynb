{
 "cells": [
  {
   "cell_type": "markdown",
   "id": "5f0cff08",
   "metadata": {},
   "source": [
    "# Chickenpox cases in Hungary from 2006 to 2014"
   ]
  },
  {
   "cell_type": "code",
   "execution_count": 1,
   "id": "cd1e0206",
   "metadata": {},
   "outputs": [],
   "source": [
    "# Q.1 WRITE A CODE TO READ HUNGARY_CHICKENPOX_DATA.CSV .\n",
    "\n",
    "# Q.2 WRITE A CODE TO DISPLAY FIRST 20 RECORDS OF THE GIVEN DATASET .\n",
    "\n",
    "# Q.3 WRITE A CODE TO DISPLAY LAST 10 RECORDS OF THE DATASET  .\n",
    "\n",
    "# Q.4 WRITE A CODE TO CHECK THE SHAPE , DIMENSION , TOTAL NO. OF RECORDS COLUMNS AND INDEXES OF THE GIVEN DATASET .\n",
    "\n",
    "# Q.5 WRITE A CODE TO SAVE FIRST 20 RECORDS OF THE GIVEN DATASET IN A NEW CSV FILE .\n",
    "\n",
    "# Q.6 WRITE A CODE TO CALCULATE THE SUM OF EACH COUNTRIES AND TO STORE THAT SUM IN ANOTHER CSV FILE .\n",
    "\n",
    "# Q.7 USING THE CREATED CSV FILE WHERE THE SUM OF ALL CASES IS STORED TO CREATE A BAR GRAPH ."
   ]
  },
  {
   "cell_type": "markdown",
   "id": "364d7c30",
   "metadata": {},
   "source": [
    "# 1"
   ]
  },
  {
   "cell_type": "code",
   "execution_count": 5,
   "id": "6a71dc08",
   "metadata": {},
   "outputs": [
    {
     "name": "stdout",
     "output_type": "stream",
     "text": [
      "           Date  BUDAPEST  BARANYA  BACS  BEKES  BORSOD  CSONGRAD  FEJER  \\\n",
      "0     3/01/2005       168       79    30    173     169        42    136   \n",
      "1    10/01/2005       157       60    30     92     200        53     51   \n",
      "2    17/01/2005        96       44    31     86      93        30     93   \n",
      "3    24/01/2005       163       49    43    126      46        39     52   \n",
      "4    31/01/2005       122       78    53     87     103        34     95   \n",
      "..          ...       ...      ...   ...    ...     ...       ...    ...   \n",
      "517   1/12/2014        95       12    41      6      39         0     16   \n",
      "518   8/12/2014        43       39    31     10      34         3      2   \n",
      "519  15/12/2014        35        7    15      0       0         0      7   \n",
      "520  22/12/2014        30       23     8      0      11         4      1   \n",
      "521  29/12/2014       259       42    49     32      38        15     11   \n",
      "\n",
      "     GYOR  HAJDU  ...  JASZ  KOMAROM  NOGRAD  PEST  SOMOGY  SZABOLCS  TOLNA  \\\n",
      "0     120    162  ...   130       57       2   178      66        64     11   \n",
      "1      70     84  ...    80       50      29   141      48        29     58   \n",
      "2      84    191  ...    64       46       4   157      33        33     24   \n",
      "3     114    107  ...    63       54      14   107      66        50     25   \n",
      "4     131    172  ...    61       49      11   124      63        56      7   \n",
      "..    ...    ...  ...   ...      ...     ...   ...     ...       ...    ...   \n",
      "517    15     14  ...    56        7      13   122       4        23      4   \n",
      "518    30     25  ...    34       20      18    70      36         5     23   \n",
      "519     7      4  ...    30       36       4    72       5        21     14   \n",
      "520     9     10  ...    27       17      21    12       5        17      1   \n",
      "521    98     61  ...   112       61      53   256      45        39     27   \n",
      "\n",
      "     VAS  VESZPREM  ZALA  \n",
      "0     29        87    68  \n",
      "1     53        68    26  \n",
      "2     18        62    44  \n",
      "3     21        43    31  \n",
      "4     47        85    60  \n",
      "..   ...       ...   ...  \n",
      "517   11       110    10  \n",
      "518   22        63     9  \n",
      "519    0        17    10  \n",
      "520    1        83     2  \n",
      "521   11       103    25  \n",
      "\n",
      "[522 rows x 21 columns]\n"
     ]
    }
   ],
   "source": [
    "import pandas as pd\n",
    "a=pd.read_csv('hungary_chickenpox_data.csv')\n",
    "print(a)"
   ]
  },
  {
   "cell_type": "markdown",
   "id": "8568e9fe",
   "metadata": {},
   "source": [
    "# 2"
   ]
  },
  {
   "cell_type": "code",
   "execution_count": 11,
   "id": "b0d3ca29",
   "metadata": {},
   "outputs": [
    {
     "name": "stdout",
     "output_type": "stream",
     "text": [
      "          Date  BUDAPEST  BARANYA  BACS  BEKES  BORSOD  CSONGRAD  FEJER  GYOR  \\\n",
      "0    3/01/2005       168       79    30    173     169        42    136   120   \n",
      "1   10/01/2005       157       60    30     92     200        53     51    70   \n",
      "2   17/01/2005        96       44    31     86      93        30     93    84   \n",
      "3   24/01/2005       163       49    43    126      46        39     52   114   \n",
      "4   31/01/2005       122       78    53     87     103        34     95   131   \n",
      "5    7/02/2005       174       76    77    152     189        26     74   181   \n",
      "6   14/02/2005       153      103    54    192     148        65    100   118   \n",
      "7   21/02/2005       115       74    64    174     140        56    111   175   \n",
      "8   28/02/2005       119       86    57    171      90        65    118   105   \n",
      "9    7/03/2005       114       81   129    217     167        64     93   154   \n",
      "10  14/03/2005       127       59    81    243      99        81     72   107   \n",
      "11  21/03/2005       135       74    51    271     215        48    115   148   \n",
      "12  28/03/2005       116       63    98    119      51        48     51    92   \n",
      "13   4/04/2005       132       83    59    130     152        54     78   128   \n",
      "14  11/04/2005       129       53    84    111     103        41     58    91   \n",
      "15  18/04/2005       113       74    62    101      84        66     83   111   \n",
      "16  25/04/2005       114       50   120    126     111        48     77   119   \n",
      "17   2/05/2005        98       66    81     86      48        40     59   131   \n",
      "18   9/05/2005       140       81   103    116     129        51     89   146   \n",
      "19  16/05/2005       120       46    86     94     135        25     93   123   \n",
      "\n",
      "    HAJDU  ...  JASZ  KOMAROM  NOGRAD  PEST  SOMOGY  SZABOLCS  TOLNA  VAS  \\\n",
      "0     162  ...   130       57       2   178      66        64     11   29   \n",
      "1      84  ...    80       50      29   141      48        29     58   53   \n",
      "2     191  ...    64       46       4   157      33        33     24   18   \n",
      "3     107  ...    63       54      14   107      66        50     25   21   \n",
      "4     172  ...    61       49      11   124      63        56      7   47   \n",
      "5     157  ...    95       97      26   146      59        54     27   54   \n",
      "6     129  ...    88       56      10   119     104        85     20   32   \n",
      "7     138  ...   112       70      21   178      70        75      5   66   \n",
      "8     194  ...    67       46      12   112     116        76     22   45   \n",
      "9     119  ...   118       73       6   130      68        59     31   85   \n",
      "10    117  ...    72       91       9   113      62        22     26   19   \n",
      "11    171  ...   114       82      10   141      55        45     23   83   \n",
      "12     76  ...    82       72      25   162      49       203     40   47   \n",
      "13    207  ...   138       66       6   121      41        92      8   52   \n",
      "14    123  ...    91       51      26   144      50        41     25   64   \n",
      "15    134  ...   124       63       7   125      55        49     13   46   \n",
      "16    157  ...   141       59      26   138      57        41      6   98   \n",
      "17    111  ...    97       64      27    83      42        29      2   42   \n",
      "18     65  ...   224      124      22   159      66        57     15  111   \n",
      "19     99  ...    97       83      52   153      42        36     28   56   \n",
      "\n",
      "    VESZPREM  ZALA  \n",
      "0         87    68  \n",
      "1         68    26  \n",
      "2         62    44  \n",
      "3         43    31  \n",
      "4         85    60  \n",
      "5         48    60  \n",
      "6        153    70  \n",
      "7        149    54  \n",
      "8        102    42  \n",
      "9         96    54  \n",
      "10       118    43  \n",
      "11       127    36  \n",
      "12        63    36  \n",
      "13       108    38  \n",
      "14        59    30  \n",
      "15        87    22  \n",
      "16        64    23  \n",
      "17        39    32  \n",
      "18        76    47  \n",
      "19        44    21  \n",
      "\n",
      "[20 rows x 21 columns]\n"
     ]
    }
   ],
   "source": [
    "df = pd.DataFrame(a)\n",
    "b=df.head(20)\n",
    "print(b)"
   ]
  },
  {
   "cell_type": "markdown",
   "id": "c149f85c",
   "metadata": {},
   "source": [
    "# 3"
   ]
  },
  {
   "cell_type": "code",
   "execution_count": 12,
   "id": "3d2dce5e",
   "metadata": {},
   "outputs": [
    {
     "name": "stdout",
     "output_type": "stream",
     "text": [
      "           Date  BUDAPEST  BARANYA  BACS  BEKES  BORSOD  CSONGRAD  FEJER  \\\n",
      "512  27/10/2014        28        7     1      2      13         2     13   \n",
      "513   3/11/2014        44        4     7      0      16         0     18   \n",
      "514  10/11/2014        33        5    10      0      29         3     20   \n",
      "515  17/11/2014        85       15    26      7      14         3     28   \n",
      "516  24/11/2014        16       15    14      2       3         0      9   \n",
      "517   1/12/2014        95       12    41      6      39         0     16   \n",
      "518   8/12/2014        43       39    31     10      34         3      2   \n",
      "519  15/12/2014        35        7    15      0       0         0      7   \n",
      "520  22/12/2014        30       23     8      0      11         4      1   \n",
      "521  29/12/2014       259       42    49     32      38        15     11   \n",
      "\n",
      "     GYOR  HAJDU  ...  JASZ  KOMAROM  NOGRAD  PEST  SOMOGY  SZABOLCS  TOLNA  \\\n",
      "512    11      3  ...    11        3       6    32      16         7     21   \n",
      "513    11     11  ...    11        1       5    46      28        28      4   \n",
      "514     7      3  ...    14       10       6    87       5        15      4   \n",
      "515    13      9  ...    14        8      25    33      28         7     25   \n",
      "516    23      6  ...    24        2       9    25      16         0      9   \n",
      "517    15     14  ...    56        7      13   122       4        23      4   \n",
      "518    30     25  ...    34       20      18    70      36         5     23   \n",
      "519     7      4  ...    30       36       4    72       5        21     14   \n",
      "520     9     10  ...    27       17      21    12       5        17      1   \n",
      "521    98     61  ...   112       61      53   256      45        39     27   \n",
      "\n",
      "     VAS  VESZPREM  ZALA  \n",
      "512    0        34    10  \n",
      "513    0        30     7  \n",
      "514   31        21     1  \n",
      "515   23        24     4  \n",
      "516    3        25     0  \n",
      "517   11       110    10  \n",
      "518   22        63     9  \n",
      "519    0        17    10  \n",
      "520    1        83     2  \n",
      "521   11       103    25  \n",
      "\n",
      "[10 rows x 21 columns]\n"
     ]
    }
   ],
   "source": [
    "c=df.tail(10)\n",
    "print(c)"
   ]
  },
  {
   "cell_type": "markdown",
   "id": "e631b432",
   "metadata": {},
   "source": [
    "# 4"
   ]
  },
  {
   "cell_type": "code",
   "execution_count": 9,
   "id": "755d926d",
   "metadata": {},
   "outputs": [
    {
     "ename": "TypeError",
     "evalue": "'tuple' object is not callable",
     "output_type": "error",
     "traceback": [
      "\u001b[0;31m---------------------------------------------------------------------------\u001b[0m",
      "\u001b[0;31mTypeError\u001b[0m                                 Traceback (most recent call last)",
      "\u001b[0;32m/tmp/ipykernel_3813/4127725658.py\u001b[0m in \u001b[0;36m<module>\u001b[0;34m\u001b[0m\n\u001b[0;32m----> 1\u001b[0;31m \u001b[0me\u001b[0m\u001b[0;34m=\u001b[0m\u001b[0ma\u001b[0m\u001b[0;34m.\u001b[0m\u001b[0mshape\u001b[0m\u001b[0;34m(\u001b[0m\u001b[0;34m)\u001b[0m\u001b[0;34m\u001b[0m\u001b[0;34m\u001b[0m\u001b[0m\n\u001b[0m\u001b[1;32m      2\u001b[0m \u001b[0mprint\u001b[0m\u001b[0;34m(\u001b[0m\u001b[0me\u001b[0m\u001b[0;34m)\u001b[0m\u001b[0;34m\u001b[0m\u001b[0;34m\u001b[0m\u001b[0m\n",
      "\u001b[0;31mTypeError\u001b[0m: 'tuple' object is not callable"
     ]
    }
   ],
   "source": [
    "e=a.shape()\n",
    "print(e)"
   ]
  },
  {
   "cell_type": "code",
   "execution_count": null,
   "id": "0d8c1a60",
   "metadata": {},
   "outputs": [],
   "source": []
  }
 ],
 "metadata": {
  "kernelspec": {
   "display_name": "Python 3 (ipykernel)",
   "language": "python",
   "name": "python3"
  },
  "language_info": {
   "codemirror_mode": {
    "name": "ipython",
    "version": 3
   },
   "file_extension": ".py",
   "mimetype": "text/x-python",
   "name": "python",
   "nbconvert_exporter": "python",
   "pygments_lexer": "ipython3",
   "version": "3.9.7"
  }
 },
 "nbformat": 4,
 "nbformat_minor": 5
}
