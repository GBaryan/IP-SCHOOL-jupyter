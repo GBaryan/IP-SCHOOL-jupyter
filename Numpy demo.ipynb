{
 "cells": [
  {
   "cell_type": "markdown",
   "id": "29db6e33",
   "metadata": {},
   "source": [
    "# Working with Numpy"
   ]
  },
  {
   "cell_type": "markdown",
   "id": "baa9ede8",
   "metadata": {},
   "source": [
    "## Why we use numpy inseated of list"
   ]
  },
  {
   "cell_type": "markdown",
   "id": "d0fa32c0",
   "metadata": {},
   "source": [
    "### Demonstration of Consuming Less memory by Numpy , Fast and Convenient"
   ]
  },
  {
   "cell_type": "code",
   "execution_count": 1,
   "id": "b69d0b68",
   "metadata": {},
   "outputs": [],
   "source": [
    "import numpy as np\n",
    "import math as ml\n",
    "import time\n",
    "import sys"
   ]
  },
  {
   "cell_type": "code",
   "execution_count": 2,
   "id": "afdc699e",
   "metadata": {},
   "outputs": [
    {
     "name": "stdout",
     "output_type": "stream",
     "text": [
      "range(0, 100)\n"
     ]
    }
   ],
   "source": [
    "li = range(100)\n",
    "print(li)"
   ]
  },
  {
   "cell_type": "code",
   "execution_count": 3,
   "id": "c5adea01",
   "metadata": {},
   "outputs": [
    {
     "name": "stdout",
     "output_type": "stream",
     "text": [
      "2800\n"
     ]
    }
   ],
   "source": [
    "print(sys.getsizeof(2)*len(li))"
   ]
  },
  {
   "cell_type": "code",
   "execution_count": 4,
   "id": "b9e0cac6",
   "metadata": {},
   "outputs": [
    {
     "name": "stdout",
     "output_type": "stream",
     "text": [
      "400\n"
     ]
    }
   ],
   "source": [
    "a = np.arange(100)\n",
    "print(a.size*a.itemsize)"
   ]
  },
  {
   "cell_type": "code",
   "execution_count": 5,
   "id": "9df96966",
   "metadata": {},
   "outputs": [
    {
     "name": "stdout",
     "output_type": "stream",
     "text": [
      "393.7568664550781\n"
     ]
    }
   ],
   "source": [
    "s= 1000000\n",
    "l1 = range(s)\n",
    "l2 = range(s)\n",
    "start = time.time()\n",
    "l3 = [(x,y)for x,y in zip(l1,l2)]\n",
    "print((time.time()-start)*1000)"
   ]
  },
  {
   "cell_type": "code",
   "execution_count": 6,
   "id": "0763d54b",
   "metadata": {},
   "outputs": [
    {
     "name": "stdout",
     "output_type": "stream",
     "text": [
      "5.9967041015625\n"
     ]
    }
   ],
   "source": [
    "a1 = np.arange(s)\n",
    "a2 = np.arange(s)\n",
    "start = time.time()\n",
    "a3 = a1+a2\n",
    "print((time.time()-start)*1000)"
   ]
  },
  {
   "cell_type": "markdown",
   "id": "7770f082",
   "metadata": {},
   "source": [
    "# Array Creation: Conversion from other python structure "
   ]
  },
  {
   "cell_type": "code",
   "execution_count": 7,
   "id": "3b2ec7ae",
   "metadata": {},
   "outputs": [
    {
     "name": "stdout",
     "output_type": "stream",
     "text": [
      "([2, 6, 888], [6, 5, 9], [6, 5, 4])\n",
      "<class 'tuple'>\n",
      "[[  2   6 888]\n",
      " [  6   5   9]\n",
      " [  6   5   4]] [[2 5 8]\n",
      " [5 7 8]\n",
      " [6 7 1]]\n",
      "<class 'numpy.ndarray'>\n",
      "2\n"
     ]
    }
   ],
   "source": [
    "### Creating numpy array using list\n",
    "li = [2,6,888],[6,5,9],[6,5,4]\n",
    "li2 = [2,5,8], [5,7,8],[6,7,1]\n",
    "li1 = np.array(li,np.int32)\n",
    "li3 = np.array(li2)\n",
    "print(li)\n",
    "print(type(li))\n",
    "print(li1, li3)\n",
    "print(type(li1))\n",
    "li1.dtype\n",
    "print(li1.ndim)"
   ]
  },
  {
   "cell_type": "code",
   "execution_count": 8,
   "id": "a7899669",
   "metadata": {},
   "outputs": [
    {
     "name": "stdout",
     "output_type": "stream",
     "text": [
      "1\n",
      "2\n"
     ]
    }
   ],
   "source": [
    "#Find the dimension of an Array\n",
    "arr = np.array([(1,2,3,4,5),(6,7,8,9,10),(11,12,13,14,15)],np.int16)\n",
    "a = np.array([1,2,3])\n",
    "print(a.ndim)\n",
    "print(arr.ndim)"
   ]
  },
  {
   "cell_type": "code",
   "execution_count": 9,
   "id": "eac4db51",
   "metadata": {},
   "outputs": [
    {
     "name": "stdout",
     "output_type": "stream",
     "text": [
      "2\n",
      "4\n"
     ]
    }
   ],
   "source": [
    "#Find the byte size of each of the array element\n",
    "print(arr.itemsize)\n",
    "print(a.itemsize)"
   ]
  },
  {
   "cell_type": "code",
   "execution_count": 10,
   "id": "f6e7002d",
   "metadata": {},
   "outputs": [
    {
     "name": "stdout",
     "output_type": "stream",
     "text": [
      "int16\n",
      "int32\n"
     ]
    }
   ],
   "source": [
    "#FInd the data type or dtype of array\n",
    "print(arr.dtype)\n",
    "print(a.dtype)"
   ]
  },
  {
   "cell_type": "code",
   "execution_count": 11,
   "id": "9c98a1b1",
   "metadata": {},
   "outputs": [
    {
     "name": "stdout",
     "output_type": "stream",
     "text": [
      "3\n",
      "15\n"
     ]
    }
   ],
   "source": [
    "#Find the size of Array\n",
    "print(a.size)\n",
    "print(arr.size)"
   ]
  },
  {
   "cell_type": "code",
   "execution_count": 12,
   "id": "7bb0bc17",
   "metadata": {},
   "outputs": [
    {
     "name": "stdout",
     "output_type": "stream",
     "text": [
      "(3,)\n",
      "(3, 5)\n"
     ]
    }
   ],
   "source": [
    "#find the shape of array\n",
    "print(a.shape)\n",
    "print(arr.shape)"
   ]
  },
  {
   "cell_type": "code",
   "execution_count": 13,
   "id": "a3323150",
   "metadata": {},
   "outputs": [
    {
     "name": "stdout",
     "output_type": "stream",
     "text": [
      "[0. 0. 0. 0. 0.]\n",
      "[[[0 0 0]\n",
      "  [0 0 0]\n",
      "  [0 0 0]]\n",
      "\n",
      " [[0 0 0]\n",
      "  [0 0 0]\n",
      "  [0 0 0]]\n",
      "\n",
      " [[0 0 0]\n",
      "  [0 0 0]\n",
      "  [0 0 0]]]\n",
      "<class 'numpy.ndarray'>\n"
     ]
    },
    {
     "data": {
      "text/plain": [
       "dtype('int32')"
      ]
     },
     "execution_count": 13,
     "metadata": {},
     "output_type": "execute_result"
    }
   ],
   "source": [
    "# Arrays creation using zeros() method\n",
    "z = np.zeros(5)\n",
    "print(z)\n",
    "z1 =np.zeros([3,3,3], dtype =  np.int32)\n",
    "print(z1)\n",
    "print(type(z1))\n",
    "z1.dtype"
   ]
  },
  {
   "cell_type": "code",
   "execution_count": 14,
   "id": "0a7ab85f",
   "metadata": {},
   "outputs": [
    {
     "name": "stdout",
     "output_type": "stream",
     "text": [
      "[1 1 1]\n",
      "[[[1. 1.]\n",
      "  [1. 1.]\n",
      "  [1. 1.]\n",
      "  [1. 1.]]\n",
      "\n",
      " [[1. 1.]\n",
      "  [1. 1.]\n",
      "  [1. 1.]\n",
      "  [1. 1.]]\n",
      "\n",
      " [[1. 1.]\n",
      "  [1. 1.]\n",
      "  [1. 1.]\n",
      "  [1. 1.]]\n",
      "\n",
      " [[1. 1.]\n",
      "  [1. 1.]\n",
      "  [1. 1.]\n",
      "  [1. 1.]]]\n"
     ]
    }
   ],
   "source": [
    "#Array creations using ones() method\n",
    "o = np.ones(3, dtype = np.int16)\n",
    "print(o)\n",
    "o1 = np.ones((4,4,2))\n",
    "print(o1)\n"
   ]
  },
  {
   "cell_type": "code",
   "execution_count": 15,
   "id": "3266a90c",
   "metadata": {},
   "outputs": [
    {
     "name": "stdout",
     "output_type": "stream",
     "text": [
      "[2 2 2]\n",
      "[[4 4]\n",
      " [4 4]\n",
      " [4 4]]\n"
     ]
    }
   ],
   "source": [
    "# Array Creation using full() methods\n",
    "f = np.full(3,2)\n",
    "print(f)\n",
    "f1 =np.full((3,2),4)\n",
    "print(f1)"
   ]
  },
  {
   "cell_type": "code",
   "execution_count": 16,
   "id": "82bbc5b4",
   "metadata": {},
   "outputs": [
    {
     "name": "stdout",
     "output_type": "stream",
     "text": [
      "[8.83803888e-312 0.00000000e+000 4.94065646e-324]\n",
      "[[0.0e+000 0.0e+000]\n",
      " [0.0e+000 0.0e+000]\n",
      " [0.0e+000 6.8e-321]\n",
      " [0.0e+000 0.0e+000]]\n",
      "Round ndarray upto decimal places [[0. 0.]\n",
      " [0. 0.]\n",
      " [0. 0.]\n",
      " [0. 0.]]\n"
     ]
    }
   ],
   "source": [
    "# Array creations using empty() funtion\n",
    "e = np.empty(3)\n",
    "print(e)\n",
    "e.dtype\n",
    "e1 = np.empty([4,2])\n",
    "print(e1)\n",
    "print(\"Round ndarray upto decimal places\",np.around(e1, decimals=1))"
   ]
  },
  {
   "cell_type": "code",
   "execution_count": 17,
   "id": "4c7e3aba",
   "metadata": {},
   "outputs": [
    {
     "name": "stdout",
     "output_type": "stream",
     "text": [
      "[0 1 2 3 4 5 6 7 8 9]\n",
      "[1 3 5 7 9]\n",
      "1\n",
      "3\n",
      "5\n",
      "7\n",
      "9\n",
      "int32\n",
      "<class 'int'>\n"
     ]
    }
   ],
   "source": [
    "ar= np.arange(10)\n",
    "print(ar)\n",
    "ar1= np.arange(1,10,2)\n",
    "print(ar1)\n",
    "for a in range(1,10,2):\n",
    "    print(a)\n",
    "print(ar1.dtype)\n",
    "\n",
    "print(type(a))"
   ]
  },
  {
   "cell_type": "code",
   "execution_count": 18,
   "id": "220e309f",
   "metadata": {},
   "outputs": [
    {
     "name": "stdout",
     "output_type": "stream",
     "text": [
      "[0.16734496 0.21101985 0.59566183 0.21978524 0.65148206 0.69382717\n",
      " 0.62843358 0.1606262  0.6915412  0.51481418]\n"
     ]
    }
   ],
   "source": [
    "# Generate Random float\n",
    "rf = np.random.rand(10)   # 1-D arrays using Random function\n",
    "print(rf)"
   ]
  },
  {
   "cell_type": "code",
   "execution_count": 19,
   "id": "784ae10b",
   "metadata": {},
   "outputs": [
    {
     "name": "stdout",
     "output_type": "stream",
     "text": [
      "[[0.86792896 0.44981102 0.5840064 ]\n",
      " [0.35697908 0.79279106 0.61132729]\n",
      " [0.3424443  0.587851   0.50384064]] 2\n"
     ]
    }
   ],
   "source": [
    "#Generate 2-D array using random float\n",
    "rf1= np.random.rand(3,3)\n",
    "print(rf1, rf1.ndim)\n"
   ]
  },
  {
   "cell_type": "code",
   "execution_count": 20,
   "id": "a1492f30",
   "metadata": {},
   "outputs": [
    {
     "name": "stdout",
     "output_type": "stream",
     "text": [
      "[6 2 2]\n"
     ]
    }
   ],
   "source": [
    "#generate 1 d array containg random integers\n",
    "ri= np.random.randint(1,10,3)\n",
    "print(ri)"
   ]
  },
  {
   "cell_type": "code",
   "execution_count": 21,
   "id": "3786c3b7",
   "metadata": {},
   "outputs": [
    {
     "name": "stdout",
     "output_type": "stream",
     "text": [
      "(array([ 1.  ,  3.25,  5.5 ,  7.75, 10.  ]), 2.25)\n"
     ]
    }
   ],
   "source": [
    "#Numpy array creation using linspace() function\n",
    "ali = np.linspace(1,10,5, retstep= True, endpoint= True)\n",
    "print(ali)"
   ]
  },
  {
   "cell_type": "markdown",
   "id": "af7741e9",
   "metadata": {},
   "source": [
    "# Numpy array Indexing"
   ]
  },
  {
   "cell_type": "code",
   "execution_count": 22,
   "id": "4f3a454d",
   "metadata": {},
   "outputs": [
    {
     "name": "stdout",
     "output_type": "stream",
     "text": [
      "1\n",
      "50\n"
     ]
    }
   ],
   "source": [
    "# Accessing 1-D array elements\n",
    "arr = np.array([1,23,4,50])\n",
    "print(arr[0])  # Get the first elements from the array\n",
    "print(arr[3])  # gets the fourth element from the array"
   ]
  },
  {
   "cell_type": "code",
   "execution_count": 23,
   "id": "f52b5e3d",
   "metadata": {},
   "outputs": [
    {
     "name": "stdout",
     "output_type": "stream",
     "text": [
      "51\n"
     ]
    }
   ],
   "source": [
    "arr1 = np.array([1,23,4,50])\n",
    "print(arr1[0]+arr1[3]) # gets first element and fourth element from the array add them"
   ]
  },
  {
   "cell_type": "code",
   "execution_count": 24,
   "id": "06ef6caa",
   "metadata": {},
   "outputs": [
    {
     "name": "stdout",
     "output_type": "stream",
     "text": [
      " 3rd element on 1st dimension:- 3\n"
     ]
    }
   ],
   "source": [
    "# Accessing 2-D Array\n",
    "arr3 = np.array([[1,2,3,4,5],[6,7,8,9,10]])\n",
    "print(' 3rd element on 1st dimension:-',arr3[0,2])        "
   ]
  },
  {
   "cell_type": "code",
   "execution_count": 25,
   "id": "f8e102d0",
   "metadata": {},
   "outputs": [
    {
     "name": "stdout",
     "output_type": "stream",
     "text": [
      " 4th element on 2nd dimension:- 9\n"
     ]
    }
   ],
   "source": [
    "# Accessing 2-D Array\n",
    "arr4 = np.array([[1,2,3,4,5],[6,7,8,9,10]])\n",
    "print(' 4th element on 2nd dimension:-',arr3[1,3]) "
   ]
  },
  {
   "cell_type": "code",
   "execution_count": 26,
   "id": "e5a7927d",
   "metadata": {},
   "outputs": [
    {
     "name": "stdout",
     "output_type": "stream",
     "text": [
      "6\n",
      "87\n"
     ]
    }
   ],
   "source": [
    "# Accessing 3-D Array\n",
    "arr5 = np.array([[[1,2,3],[4,5,6]],[[7,87,9],[10,11,12]]])\n",
    "print(arr5[0,1,2])\n",
    "print(arr5[1,0,-2])"
   ]
  },
  {
   "cell_type": "markdown",
   "id": "4f12cca7",
   "metadata": {},
   "source": [
    "# Numpy Array Slilcing"
   ]
  },
  {
   "cell_type": "code",
   "execution_count": 27,
   "id": "71a2f631",
   "metadata": {},
   "outputs": [
    {
     "name": "stdout",
     "output_type": "stream",
     "text": [
      "[1 2 3 4 5]\n",
      "[6 7]\n",
      "[1 2 3 4 5]\n",
      "[5 6]\n"
     ]
    }
   ],
   "source": [
    "#Slicing elements \n",
    "import numpy as np\n",
    "sarr1= np.array([1,2,3,4,5,6,7])\n",
    "print(sarr1[0:5])\n",
    "print(sarr1[5:])\n",
    "print(sarr1[:5])\n",
    "print(sarr1[-3:-1])"
   ]
  },
  {
   "cell_type": "code",
   "execution_count": 28,
   "id": "a1c16f10",
   "metadata": {},
   "outputs": [
    {
     "name": "stdout",
     "output_type": "stream",
     "text": [
      "[2 4]\n",
      "[1 3 5 7]\n"
     ]
    }
   ],
   "source": [
    "#slicing arrays using step\n",
    "sarr2= np.array([1,2,3,4,5,6,7])\n",
    "print(sarr2[1:5:2])\n",
    "print(sarr2[::2])"
   ]
  },
  {
   "cell_type": "code",
   "execution_count": 29,
   "id": "62ae058a",
   "metadata": {},
   "outputs": [
    {
     "name": "stdout",
     "output_type": "stream",
     "text": [
      "[7]\n",
      "[[2]\n",
      " [7]]\n"
     ]
    }
   ],
   "source": [
    "sarr3 = np.array([[1,2,3,4,5],[6,7,8,9,10]])\n",
    "print(sarr3[1,1:4:3])\n",
    "print(sarr3[0:2,1:2])"
   ]
  },
  {
   "cell_type": "code",
   "execution_count": 30,
   "id": "bb22f9be",
   "metadata": {},
   "outputs": [
    {
     "name": "stdout",
     "output_type": "stream",
     "text": [
      "[101 102 103 104 105]\n"
     ]
    }
   ],
   "source": [
    "# Basic operation using scalars\n",
    "import numpy as np\n",
    "a = np.array([1,2,3,4,5])\n",
    "print(a+100)"
   ]
  },
  {
   "cell_type": "code",
   "execution_count": 31,
   "id": "f3a56dd9",
   "metadata": {},
   "outputs": [
    {
     "name": "stdout",
     "output_type": "stream",
     "text": [
      "[10 20 30 40 50]\n"
     ]
    }
   ],
   "source": [
    "# Basic operation using scalars\n",
    "import numpy as np\n",
    "a1 = np.array([1,2,3,4,5])\n",
    "print(a1*10)"
   ]
  },
  {
   "cell_type": "code",
   "execution_count": 32,
   "id": "14722ede",
   "metadata": {},
   "outputs": [
    {
     "name": "stdout",
     "output_type": "stream",
     "text": [
      "[-99 -98 -97 -96 -95]\n"
     ]
    }
   ],
   "source": [
    "# Basic operation using scalars\n",
    "import numpy as np\n",
    "a2 = np.array([1,2,3,4,5])\n",
    "print(a2-100)"
   ]
  },
  {
   "cell_type": "code",
   "execution_count": 33,
   "id": "2672e3cb",
   "metadata": {},
   "outputs": [
    {
     "name": "stdout",
     "output_type": "stream",
     "text": [
      "[0.5 1.  1.5 2.  2.5]\n"
     ]
    }
   ],
   "source": [
    "# Basic operation using scalars\n",
    "import numpy as np\n",
    "a2 = np.array([1,2,3,4,5])\n",
    "a3 = np.array([1,2,3,4,5])\n",
    "print(a2/2)"
   ]
  },
  {
   "cell_type": "code",
   "execution_count": 34,
   "id": "72b1f274",
   "metadata": {},
   "outputs": [
    {
     "name": "stdout",
     "output_type": "stream",
     "text": [
      "[1 0 1 0 1]\n"
     ]
    }
   ],
   "source": [
    "# Basic operation using scalars\n",
    "import numpy as np\n",
    "a2 = np.array([1,2,3,4,5])\n",
    "a3 = np.array([1,2,3,4,5])\n",
    "print(a3%2)"
   ]
  },
  {
   "cell_type": "markdown",
   "id": "b37e8419",
   "metadata": {},
   "source": [
    "# Using Numpy Function"
   ]
  },
  {
   "cell_type": "code",
   "execution_count": 35,
   "id": "f376c7d1",
   "metadata": {},
   "outputs": [
    {
     "name": "stdout",
     "output_type": "stream",
     "text": [
      "Array First:\n",
      "[[0 1 2]\n",
      " [3 4 5]\n",
      " [6 7 8]]\n",
      "Add the two arrays:-\n",
      "[[10 11 12]\n",
      " [13 14 15]\n",
      " [16 17 18]]\n",
      "Subtract the two arrays:-\n",
      "[[-10  -9  -8]\n",
      " [ -7  -6  -5]\n",
      " [ -4  -3  -2]]\n",
      "multiply the two arrays:-\n",
      "[[ 0 10 20]\n",
      " [30 40 50]\n",
      " [60 70 80]]\n",
      "Divide the two arrays:-\n",
      "[[0.  0.1 0.2]\n",
      " [0.3 0.4 0.5]\n",
      " [0.6 0.7 0.8]]\n"
     ]
    }
   ],
   "source": [
    "#Using numpy fuction add(), subtract(),, multiply(),divide(),mod() or remainder()\n",
    "import numpy as np\n",
    "ab = np.arange(9).reshape(3,3)\n",
    "bb = np.array([10,10,10])\n",
    "print(\"Array First:\")\n",
    "print(ab)\n",
    "print(\"Add the two arrays:-\")\n",
    "print(np.add(ab,bb))\n",
    "print(\"Subtract the two arrays:-\")\n",
    "print(np.subtract(ab,bb))\n",
    "print(\"multiply the two arrays:-\")\n",
    "print(np.multiply(ab,bb))\n",
    "print(\"Divide the two arrays:-\")\n",
    "print(np.divide(ab,bb))"
   ]
  },
  {
   "cell_type": "code",
   "execution_count": 36,
   "id": "cdc93264",
   "metadata": {},
   "outputs": [
    {
     "name": "stdout",
     "output_type": "stream",
     "text": [
      "[[         0          1       1024]\n",
      " [     59049    1048576    9765625]\n",
      " [  60466176  282475249 1073741824]]\n"
     ]
    }
   ],
   "source": [
    "# Using Power ()function\n",
    "ab1 = np.arange(9).reshape(3,3)\n",
    "bb1 = np.array([10,10,10])\n",
    "c = np.power(ab1,bb1)\n",
    "print(c)\n"
   ]
  },
  {
   "cell_type": "code",
   "execution_count": 37,
   "id": "0100ceba",
   "metadata": {},
   "outputs": [
    {
     "name": "stdout",
     "output_type": "stream",
     "text": [
      "Mod/Remainder of the value: [10  0  0  5  2  0]\n",
      "Remainder of the value: [10  0  0  5  2  0]\n",
      "Mod/Remainder of the value: [10  0  0  5  2  0]\n",
      "Returns Remainder and quotient of the value: (array([0, 4, 5, 5, 6, 5], dtype=int32), array([10,  0,  0,  5,  2,  0], dtype=int32))\n"
     ]
    }
   ],
   "source": [
    "#Using mod(),fmod(),remainder() function\n",
    "p = np.array([10,20,30,40,50,60])\n",
    "q = np.array([13,5,6,7,8,12])\n",
    "pq = np.mod(p,q)\n",
    "print(\"Mod/Remainder of the value:\",pq)\n",
    "qp= np.remainder(p,q)\n",
    "print(\"Remainder of the value:\",qp)\n",
    "p1 = np.fmod(p,q)\n",
    "print(\"Mod/Remainder of the value:\",p1)\n",
    "p2 = np.divmod(p,q)\n",
    "print(\"Returns Remainder and quotient of the value:\",p2)"
   ]
  },
  {
   "cell_type": "code",
   "execution_count": 38,
   "id": "67b6e05d",
   "metadata": {},
   "outputs": [
    {
     "name": "stdout",
     "output_type": "stream",
     "text": [
      "Natural Log [2.30258509 2.99573227 3.40119738 3.68887945 3.91202301 4.09434456]\n",
      "Log base 2 [3.32192809 4.32192809 4.9068906  5.32192809 5.64385619 5.9068906 ]\n",
      "Log base 10 [1.         1.30103    1.47712125 1.60205999 1.69897    1.77815125]\n"
     ]
    }
   ],
   "source": [
    "#using log, log2, log10 functions\n",
    "r = np.array([10,20,30,40,50,60])\n",
    "print(\"Natural Log\", np.log(r))\n",
    "print(\"Log base 2\",np.log2(r))\n",
    "print(\"Log base 10\",np.log10(r))"
   ]
  },
  {
   "cell_type": "code",
   "execution_count": 71,
   "id": "4ddce425",
   "metadata": {},
   "outputs": [
    {
     "name": "stdout",
     "output_type": "stream",
     "text": [
      "int32\n",
      "Square root [3.2 4.5 5.  6.3 7.1 7.7]\n",
      "Square [ 100  400  625 1600 2500 3600]\n"
     ]
    }
   ],
   "source": [
    "#using sqrt, square functions\n",
    "r1 = np.array([10,20,25,40,50,60], dtype = int)\n",
    "print(r1.dtype)\n",
    "print(\"Square root\", np.around(np.sqrt(r1), decimals = 1))\n",
    "print(\"Square\", np.square(r1))"
   ]
  },
  {
   "cell_type": "markdown",
   "id": "2a1c464c",
   "metadata": {},
   "source": [
    "# Sum, MIn and max Methods of NUmpy Array"
   ]
  },
  {
   "cell_type": "code",
   "execution_count": 40,
   "id": "79af468a",
   "metadata": {},
   "outputs": [
    {
     "name": "stdout",
     "output_type": "stream",
     "text": [
      "Sum of Arrary Elements 600\n",
      "Maximum value in Array: 300\n",
      "Minimum Value in Array: 100\n",
      "600\n"
     ]
    }
   ],
   "source": [
    "import numpy as np\n",
    "num = np.array([100,200,300])\n",
    "print(\"Sum of Arrary Elements\", num.sum())\n",
    "print(\"Maximum value in Array:\",num.max())\n",
    "print(\"Minimum Value in Array:\", num.min())\n",
    "print(num.sum(axis=0))"
   ]
  },
  {
   "cell_type": "code",
   "execution_count": 42,
   "id": "1e98673a",
   "metadata": {},
   "outputs": [
    {
     "name": "stdout",
     "output_type": "stream",
     "text": [
      "[[100 200 300]\n",
      " [200 300 400]]\n",
      "(2, 3)\n",
      "[[100 200]\n",
      " [300 200]\n",
      " [300 400]]\n",
      "(3, 2)\n",
      "[300 500 700]\n",
      "[700 800]\n",
      "250.0\n"
     ]
    }
   ],
   "source": [
    "num1 = np.array([[100,200,300],[200,300,400]])\n",
    "print(num1)\n",
    "print(num1.shape)\n",
    "a = num1.reshape(3,2)\n",
    "print(a)\n",
    "print(a.shape)\n",
    "print(a.sum(axis=1))\n",
    "print(a.sum(axis=0))\n",
    "print(a.mean())\n"
   ]
  },
  {
   "cell_type": "code",
   "execution_count": 66,
   "id": "c2d3ed8b",
   "metadata": {},
   "outputs": [
    {
     "name": "stdout",
     "output_type": "stream",
     "text": [
      "[[0 1 2 3 4]\n",
      " [5 6 7 8 9]]\n",
      "[[0 1]\n",
      " [2 3]\n",
      " [4 5]\n",
      " [6 7]\n",
      " [8 9]]\n",
      "[0 1 2 3 4 5 6 7 8 9]\n",
      "[[0 5]\n",
      " [1 6]\n",
      " [2 7]\n",
      " [3 8]\n",
      " [4 9]]\n",
      "[[0 2 4 6 8]\n",
      " [1 3 5 7 9]]\n",
      "[[0 1]\n",
      " [2 3]\n",
      " [4 5]\n",
      " [6 7]\n",
      " [8 9]]\n",
      "[[0 2 4 6 8]\n",
      " [1 3 5 7 9]]\n"
     ]
    }
   ],
   "source": [
    "ax = np.arange(0,10).reshape(5,2)\n",
    "ax1= ax.reshape(2,5)\n",
    "ax2= ax.reshape(5,2)\n",
    "print(ax1)\n",
    "print(ax2)\n",
    "print(ax.ravel())\n",
    "print(ax1.T)\n",
    "print(ax2.transpose())\n",
    "print(ax)\n",
    "print(ax.T)"
   ]
  },
  {
   "cell_type": "markdown",
   "id": "5856e642",
   "metadata": {},
   "source": [
    "# Joining Numpy Arrary Using vstack() and hstack() mehtod"
   ]
  },
  {
   "cell_type": "code",
   "execution_count": 75,
   "id": "894f2f7d",
   "metadata": {},
   "outputs": [
    {
     "name": "stdout",
     "output_type": "stream",
     "text": [
      "array1 [[1 2 3]\n",
      " [2 3 4]]\n",
      "array2 [[ 5  6  7]\n",
      " [ 8  9 10]]\n",
      "Combining arrays vertically:\n",
      "[[ 1  2  3]\n",
      " [ 2  3  4]\n",
      " [ 5  6  7]\n",
      " [ 8  9 10]]\n",
      "Combining arrays horzontally:\n",
      " [[ 1  2  3  5  6  7]\n",
      " [ 2  3  4  8  9 10]]\n"
     ]
    }
   ],
   "source": [
    "import numpy as np\n",
    "av = np.array([[1,2,3],[2,3,4]])\n",
    "av1= np.array([[5,6,7],[8,9,10]])\n",
    "vst = np.vstack((av,av1))\n",
    "print(\"array1\",av)\n",
    "print(\"array2\",av1)\n",
    "print(\"Combining arrays vertically:\")\n",
    "print(vst)\n",
    "hst = np.hstack((av,av1))\n",
    "print(\"Combining arrays horzontally:\\n\",hst)\n",
    "               "
   ]
  },
  {
   "cell_type": "code",
   "execution_count": 2,
   "id": "4763a2cc",
   "metadata": {},
   "outputs": [
    {
     "name": "stdout",
     "output_type": "stream",
     "text": [
      "[0 1 2 3 4] [5 6 7 8 9]\n",
      "[0 1 2 3 4 5 6 7 8 9]\n"
     ]
    }
   ],
   "source": [
    "#combining arrays using concatenate() method\n",
    "import numpy as np\n",
    "ar1 = np.arange(5)\n",
    "ar2 = np.arange(5,10)\n",
    "ar3 = np.concatenate((ar1,ar2))\n",
    "print(ar1,ar2)\n",
    "print(ar3)"
   ]
  },
  {
   "cell_type": "code",
   "execution_count": 4,
   "id": "a97e532c",
   "metadata": {},
   "outputs": [
    {
     "name": "stdout",
     "output_type": "stream",
     "text": [
      "[[1 2 3 4]\n",
      " [5 6 7 8]]\n",
      "[[1 2]\n",
      " [5 6]]\n",
      "[[3 4]\n",
      " [7 8]]\n"
     ]
    }
   ],
   "source": [
    "a = np.arange(1,9).reshape(2,-1)\n",
    "p1,p2 = np.hsplit(a,2)\n",
    "print(a)\n",
    "print(p1)\n",
    "print(p2)"
   ]
  },
  {
   "cell_type": "code",
   "execution_count": 5,
   "id": "7e6cadce",
   "metadata": {},
   "outputs": [
    {
     "data": {
      "text/plain": [
       "[array([[1, 2, 3, 4]]), array([[5, 6, 7, 8]])]"
      ]
     },
     "execution_count": 5,
     "metadata": {},
     "output_type": "execute_result"
    }
   ],
   "source": [
    "np.vsplit(a,2)"
   ]
  },
  {
   "cell_type": "code",
   "execution_count": 10,
   "id": "fc45d607",
   "metadata": {},
   "outputs": [
    {
     "data": {
      "text/plain": [
       "[array([[1, 2, 3, 4],\n",
       "        [5, 6, 7, 8]]),\n",
       " array([], shape=(0, 4), dtype=int32),\n",
       " array([], shape=(0, 4), dtype=int32)]"
      ]
     },
     "execution_count": 10,
     "metadata": {},
     "output_type": "execute_result"
    }
   ],
   "source": [
    "np.split(a,(2,4))"
   ]
  },
  {
   "cell_type": "code",
   "execution_count": 19,
   "id": "353b6cb3",
   "metadata": {},
   "outputs": [
    {
     "data": {
      "text/plain": [
       "array([[100, 200,   4,   5,   6,   7],\n",
       "       [100, 200,   4,   5,   6,   7],\n",
       "       [100, 200,   4,   5,   6,   7],\n",
       "       [100, 200,   4,   5,   6,   7],\n",
       "       [100, 200,   4,   5,   6,   7],\n",
       "       [100, 200,   4,   5,   6,   7]])"
      ]
     },
     "execution_count": 19,
     "metadata": {},
     "output_type": "execute_result"
    }
   ],
   "source": [
    "np.loadtxt('data.txt', dtype= int, delimiter = ',')"
   ]
  },
  {
   "cell_type": "code",
   "execution_count": 22,
   "id": "00ec2aab",
   "metadata": {},
   "outputs": [
    {
     "data": {
      "text/plain": [
       "array([[100, 200,   4,   5,   6,   7],\n",
       "       [100, 200,   4,   5,   6,   7],\n",
       "       [100, 200,   4,   5,   6,   7]])"
      ]
     },
     "execution_count": 22,
     "metadata": {},
     "output_type": "execute_result"
    }
   ],
   "source": [
    "np.genfromtxt('data.txt',dtype = int, delimiter=',', skip_footer = 3)"
   ]
  },
  {
   "cell_type": "code",
   "execution_count": 32,
   "id": "3ac5b291",
   "metadata": {},
   "outputs": [],
   "source": [
    "newarr= np.genfromtxt('std123.txt',dtype = int, delimiter=',',skip_header=1)"
   ]
  },
  {
   "cell_type": "code",
   "execution_count": 33,
   "id": "63020eba",
   "metadata": {},
   "outputs": [],
   "source": [
    "np.savetxt(\"test.txt\",newarr, delimiter= ',')"
   ]
  },
  {
   "cell_type": "code",
   "execution_count": null,
   "id": "842d6511",
   "metadata": {},
   "outputs": [],
   "source": []
  }
 ],
 "metadata": {
  "kernelspec": {
   "display_name": "Python 3",
   "language": "python",
   "name": "python3"
  },
  "language_info": {
   "codemirror_mode": {
    "name": "ipython",
    "version": 3
   },
   "file_extension": ".py",
   "mimetype": "text/x-python",
   "name": "python",
   "nbconvert_exporter": "python",
   "pygments_lexer": "ipython3",
   "version": "3.8.3"
  }
 },
 "nbformat": 4,
 "nbformat_minor": 5
}
