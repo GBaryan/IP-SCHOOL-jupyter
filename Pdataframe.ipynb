{
 "cells": [
  {
   "cell_type": "markdown",
   "id": "c2532d54",
   "metadata": {},
   "source": [
    "# Examples or Demonstration of DataFrame by using Pandas"
   ]
  },
  {
   "cell_type": "code",
   "execution_count": 6,
   "id": "a9fe3ac9",
   "metadata": {},
   "outputs": [
    {
     "name": "stdout",
     "output_type": "stream",
     "text": [
      "Enter any name:-Rajesh\n",
      "The original string is:  Rajesh\n",
      "The reverse string is hsejaR\n"
     ]
    }
   ],
   "source": [
    "str = input(\"Enter any name:-\")\n",
    "#def reverse_string(str):  \n",
    "   # str = \"\"   # Declaring empty string to store the reversed string  \n",
    "str1 = \"\"\n",
    "for i in str:  \n",
    "    str1 = i + str1 \n",
    "\n",
    "#str = \"JavaTpoint\"    # Given String       \n",
    "print(\"The original string is: \",str)  \n",
    "print(\"The reverse string is\",str1) # Function call  "
   ]
  },
  {
   "cell_type": "code",
   "execution_count": 1,
   "id": "c51aec64",
   "metadata": {},
   "outputs": [
    {
     "name": "stdout",
     "output_type": "stream",
     "text": [
      "Empty DataFrame\n",
      "Columns: []\n",
      "Index: []\n"
     ]
    }
   ],
   "source": [
    "# Creating Empty DataFrame\n",
    "import pandas as pd\n",
    "df = pd.DataFrame()\n",
    "print(df)"
   ]
  },
  {
   "cell_type": "code",
   "execution_count": 17,
   "id": "daa1d0aa",
   "metadata": {},
   "outputs": [
    {
     "name": "stdout",
     "output_type": "stream",
     "text": [
      "Enter a number:-6\n",
      "not perfect\n",
      "perfect Number:\n"
     ]
    }
   ],
   "source": [
    "num = int(input(\"Enter a number:-\"))\n",
    "total = 1\n",
    "for i in range(2,num//2+1):\n",
    "    if (num%i)== 0:\n",
    "        total+=i\n",
    "    if total==num:\n",
    "        print(\"perfect Number:\")\n",
    "    else:\n",
    "        print(\"not perfect\")\n",
    "                "
   ]
  },
  {
   "cell_type": "code",
   "execution_count": 2,
   "id": "83a95971",
   "metadata": {},
   "outputs": [
    {
     "name": "stdout",
     "output_type": "stream",
     "text": [
      "[{101: 'Ansh', 102: 'Monnal', 103: 'Devansh'}, {102: 'Rashi', 103: 'Pranjal'}, {101: 'Raman', 102: 'Sujal'}, {101: 'Vanshika', 102: 'Akshit', 103: 'Rdihi'}]\n",
      "        101     102      103\n",
      "0      Ansh  Monnal  Devansh\n",
      "1       NaN   Rashi  Pranjal\n",
      "2     Raman   Sujal      NaN\n",
      "3  Vanshika  Akshit    Rdihi\n"
     ]
    }
   ],
   "source": [
    "# Creating DataFrame from the List of Dictionaries\n",
    "import pandas as pd\n",
    "list1 = [{101:'Ansh',102:'Monnal',103:'Devansh'},{102:'Rashi',103:'Pranjal'},\n",
    "         {101:'Raman',102:'Sujal'}, {101:'Vanshika',102:'Akshit',103:'Rdihi'}]\n",
    "print(list1)\n",
    "df1 = pd.DataFrame(list1)\n",
    "print(df1)"
   ]
  },
  {
   "cell_type": "code",
   "execution_count": 18,
   "id": "bfe76024",
   "metadata": {},
   "outputs": [
    {
     "name": "stdout",
     "output_type": "stream",
     "text": [
      "Enter a number: 41\n",
      "41 is a prime number\n"
     ]
    }
   ],
   "source": [
    "num = int(input(\"Enter a number: \"))  \n",
    "  \n",
    "if num > 1:  \n",
    "   for i in range(2,num):  \n",
    "       if (num % i) == 0:  \n",
    "           print(num,\"is not a prime number\")  \n",
    "           print(i,\"times\",num//i,\"is\",num)  \n",
    "           break  \n",
    "   else:  \n",
    "       print(num,\"is a prime number\")  \n",
    "         \n",
    "else:  \n",
    "   print(num,\"is not a prime number\")  "
   ]
  },
  {
   "cell_type": "code",
   "execution_count": 3,
   "id": "ddb9efbf",
   "metadata": {},
   "outputs": [
    {
     "name": "stdout",
     "output_type": "stream",
     "text": [
      "[[1, 'Amit'], [2, 'Rijul'], [3, 'Sujal'], [4, 'Akshit']]\n",
      "   0       1\n",
      "0  1    Amit\n",
      "1  2   Rijul\n",
      "2  3   Sujal\n",
      "3  4  Akshit\n"
     ]
    }
   ],
   "source": [
    "#Creating Dataframe from list of list\n",
    "\n",
    "import pandas as pd\n",
    "a = [[1,\"Amit\"],[2,'Rijul'],[3,'Sujal'],[4,'Akshit']]\n",
    "print(a)\n",
    "b = pd.DataFrame(a)\n",
    "print(b)"
   ]
  },
  {
   "cell_type": "code",
   "execution_count": 4,
   "id": "fe283317",
   "metadata": {},
   "outputs": [
    {
     "name": "stdout",
     "output_type": "stream",
     "text": [
      "   rollno   Name\n",
      "0       1  Raman\n",
      "1       2   Ansh\n",
      "2       3  Sujal\n"
     ]
    }
   ],
   "source": [
    "# Create datframe from dictionary  of list\n",
    "import pandas as pd\n",
    "d1 = {'rollno':[1,2,3], 'Name':['Raman','Ansh','Sujal']}\n",
    "df = pd.DataFrame(d1)\n",
    "print(df)\n"
   ]
  },
  {
   "cell_type": "code",
   "execution_count": 5,
   "id": "9bb8a49d",
   "metadata": {},
   "outputs": [
    {
     "name": "stdout",
     "output_type": "stream",
     "text": [
      "         Arnab  Ramit  Ayam\n",
      "Eng         90     78    87\n",
      "Maths       91     65    88\n",
      "IP          92     79    89\n",
      "Science     94     97    87\n"
     ]
    }
   ],
   "source": [
    "#Creating a DataFrame Dictionary of Series\n",
    "import pandas as pd\n",
    "marksheet = {'Arnab': pd.Series([90,91,92,94], index = ['Eng','Maths','IP','Science']),\n",
    "              'Ramit': pd.Series([78,65,79,97], index = ['Eng','Maths','IP','Science']),\n",
    "              'Ayam' : pd.Series([87,88,89,87], index = ['Eng','Maths','IP','Science'])}\n",
    "rdf = pd.DataFrame(marksheet)\n",
    "print(rdf)\n",
    "            "
   ]
  },
  {
   "cell_type": "code",
   "execution_count": 6,
   "id": "f293a1f9",
   "metadata": {},
   "outputs": [
    {
     "name": "stdout",
     "output_type": "stream",
     "text": [
      "    SepalLength  SepalWidthCm PetalLengthCm  PetalWidthCm\n",
      "0           NaN           3.5           1.4           0.2\n",
      "1           NaN           NaN           1.4           0.2\n",
      "2           NaN           3.2           1.3           0.2\n",
      "3           NaN           3.1           1.5           0.2\n",
      "4           NaN           3.6           ###           0.2\n",
      "5           NaN           3.9           NaN           0.4\n",
      "6           NaN           3.4           1.4           0.3\n",
      "7           NaN           3.4           1.5           0.2\n",
      "8           NaN           2.9           1.4           0.2\n",
      "9           NaN           3.1           1.5           0.1\n",
      "10          NaN           3.7           1.5           0.2\n",
      "11          NaN           3.4           1.6           0.2\n",
      "12          NaN           3.0           1.4           0.1\n",
      "13          NaN           3.0           1.1           0.1\n",
      "14          NaN           4.0           1.2           0.2\n",
      "15          NaN           4.4           1.5           0.4\n",
      "16          NaN           3.9           1.3           0.4\n",
      "17          NaN           3.5           1.4           0.3\n",
      "18          NaN           3.8           1.7           0.3\n",
      "19          NaN           3.8           1.5           0.3\n",
      "20          NaN           3.4           1.7           0.2\n",
      "21          NaN           3.7           1.5           0.4\n",
      "22          NaN           3.6             1           0.2\n",
      "23          NaN           3.3           1.7           0.5\n",
      "24          NaN           3.4           1.9           0.2\n",
      "25          NaN           3.0           1.6           0.2\n",
      "26          NaN           3.4           1.6           0.4\n",
      "27          NaN           3.5           1.5           0.2\n",
      "28          NaN           3.4           1.4           0.2\n",
      "29          NaN           3.2           1.6           0.2\n",
      "30          NaN           3.1           1.6           0.2\n",
      "31          NaN           3.4           1.5           0.4\n",
      "32          NaN           4.1           1.5           0.1\n",
      "33          NaN           4.2           1.4           0.2\n",
      "34          NaN           3.1           1.5           0.1\n",
      "35          NaN           3.2           1.2           0.2\n",
      "36          NaN           3.5           1.3           0.2\n",
      "37          NaN           3.1           1.5           0.1\n",
      "38          NaN           3.0           1.3           0.2\n",
      "39          NaN           3.4           1.5           0.2\n",
      "40          NaN           3.5           1.3           0.3\n",
      "41          NaN           2.3           1.3           0.3\n",
      "42          NaN           3.2           1.3           0.2\n",
      "43          NaN           3.5           1.6           0.6\n",
      "44          NaN           3.8           1.9           0.4\n",
      "45          NaN           3.0           1.4           0.3\n",
      "46          NaN           3.8           1.6           0.2\n",
      "47          NaN           3.2           1.4           0.2\n",
      "48          NaN           3.7           1.5           0.2\n",
      "49          NaN           3.3           1.4           0.2\n",
      "50          NaN           3.2           4.7           1.4\n",
      "51          NaN           3.2           4.5           1.5\n",
      "52          NaN           3.1           4.9           1.5\n",
      "53          NaN           2.3             4           1.3\n",
      "54          NaN           2.8           4.6           1.5\n",
      "55          NaN           2.8           4.5           1.3\n",
      "56          NaN           3.3           4.7           1.6\n",
      "57          NaN           2.4           3.3           1.0\n",
      "58          NaN           2.9           4.6           1.3\n",
      "59          NaN           2.7           3.9           1.4\n",
      "     SepalLength  SepalWidthCm PetalLengthCm  PetalWidthCm\n",
      "90           NaN           2.6           4.4           1.2\n",
      "91           NaN           3.0           4.6           1.4\n",
      "92           NaN           2.6             4           1.2\n",
      "93           NaN           2.3           3.3           1.0\n",
      "94           NaN           2.7           4.2           1.3\n",
      "95           NaN           3.0           4.2           1.2\n",
      "96           NaN           2.9           4.2           1.3\n",
      "97           NaN           2.9           4.3           1.3\n",
      "98           NaN           2.5             3           1.1\n",
      "99           NaN           2.8           4.1           1.3\n",
      "100          NaN           3.3             6           2.5\n",
      "101          NaN           2.7           5.1           1.9\n",
      "102          NaN           3.0           5.9           2.1\n",
      "103          NaN           2.9           5.6           1.8\n",
      "104          NaN           3.0           5.8           2.2\n",
      "105          NaN           3.0           6.6           2.1\n",
      "106          NaN           2.5           4.5           1.7\n",
      "107          NaN           2.9           6.3           1.8\n",
      "108          NaN           2.5           5.8           1.8\n",
      "109          NaN           3.6           6.1           2.5\n",
      "110          NaN           3.2           5.1           2.0\n",
      "111          NaN           2.7           5.3           1.9\n",
      "112          NaN           3.0           5.5           2.1\n",
      "113          NaN           2.5             5           2.0\n",
      "114          NaN           2.8           5.1           2.4\n",
      "115          NaN           3.2           5.3           2.3\n",
      "116          NaN           3.0           5.5           1.8\n",
      "117          NaN           3.8           6.7           2.2\n",
      "118          NaN           2.6           6.9           2.3\n",
      "119          NaN           2.2             5           1.5\n",
      "120          NaN           3.2           5.7           2.3\n",
      "121          NaN           2.8           4.9           2.0\n",
      "122          NaN           2.8           6.7           2.0\n",
      "123          NaN           2.7           4.9           1.8\n",
      "124          NaN           3.3           5.7           2.1\n",
      "125          NaN           3.2             6           1.8\n",
      "126          NaN           2.8           4.8           1.8\n",
      "127          NaN           3.0           4.9           1.8\n",
      "128          NaN           2.8           5.6           2.1\n",
      "129          NaN           3.0           5.8           1.6\n",
      "130          NaN           2.8           6.1           1.9\n",
      "131          NaN           3.8           6.4           2.0\n",
      "132          NaN           2.8           5.6           2.2\n",
      "133          NaN           2.8           5.1           1.5\n",
      "134          NaN           2.6           5.6           1.4\n",
      "135          NaN           3.0           6.1           2.3\n",
      "136          NaN           3.4           5.6           2.4\n",
      "137          NaN           3.1           5.5           1.8\n",
      "138          NaN           3.0           4.8           1.8\n",
      "139          NaN           3.1           5.4           2.1\n",
      "140          NaN           3.1           5.6           2.4\n",
      "141          NaN           3.1           5.1           2.3\n",
      "142          NaN           2.7           5.1           1.9\n",
      "143          NaN           3.2           5.9           2.3\n",
      "144          NaN           3.3           5.7           2.5\n",
      "145          NaN           3.0           5.2           2.3\n",
      "146          NaN           2.5             5           1.9\n",
      "147          NaN           3.0           5.2           2.0\n",
      "148          NaN           3.4           5.4           2.3\n",
      "149          NaN           3.0           5.1           1.8\n"
     ]
    }
   ],
   "source": [
    "import pandas as pd\n",
    "data1 = pd.read_csv('iris_data_sample.csv')\n",
    "df4 = pd.DataFrame(data1, columns=['SepalLength','SepalWidthCm','PetalLengthCm','PetalWidthCm'])\n",
    "df5 = df4.head(60)\n",
    "df6 = df4.tail(60)\n",
    "print(df5)\n",
    "print(df6)"
   ]
  },
  {
   "cell_type": "code",
   "execution_count": 11,
   "id": "dfe0e0d5",
   "metadata": {},
   "outputs": [
    {
     "name": "stdout",
     "output_type": "stream",
     "text": [
      "    RollNo    Name\n",
      "r1       1   Raman\n",
      "r2       2  Moonal\n",
      "r3       3   Rashi\n"
     ]
    }
   ],
   "source": [
    "#customizing lables using index and columns parameter\n",
    "import pandas as pd\n",
    "a = [[1,'Raman'],[2,'Moonal'],[3,'Rashi']]\n",
    "b = pd.DataFrame(a, index = ['r1','r2','r3'], columns = ['SerialNo','Name'])\n",
    "print(b)\n"
   ]
  },
  {
   "cell_type": "code",
   "execution_count": 12,
   "id": "57a26080",
   "metadata": {},
   "outputs": [
    {
     "name": "stdout",
     "output_type": "stream",
     "text": [
      "   ROllNO      Name  Percentage\n",
      "1       1      Ansh          90\n",
      "2       2  Vanshika          95\n",
      "3       3    Yuvraj          96\n",
      "4       4     Raman          92\n",
      "5       5    Pranav          98\n",
      "6       6     Sujal          97\n",
      "7       7   Pranjal          96\n",
      "Represent no of elements:- 21\n",
      "Returns tuples representing dimension:- (7, 3)\n",
      "Returns the no of array dimensons:- 2\n",
      "Retuns list of axes:- [Int64Index([1, 2, 3, 4, 5, 6, 7], dtype='int64'), Index(['ROllNO', 'Name', 'Percentage'], dtype='object')]\n",
      "Returns the column labels:- Index(['ROllNO', 'Name', 'Percentage'], dtype='object')\n",
      "Returns the numpy representation:-\n",
      " [[1 'Ansh' 90]\n",
      " [2 'Vanshika' 95]\n",
      " [3 'Yuvraj' 96]\n",
      " [4 'Raman' 92]\n",
      " [5 'Pranav' 98]\n",
      " [6 'Sujal' 97]\n",
      " [7 'Pranjal' 96]]\n",
      "Returns boolean values Dataframe empty:- False\n"
     ]
    }
   ],
   "source": [
    "# Data Frames Attributes\n",
    "import pandas  as pd\n",
    "data = {'ROllNO':[1,2,3,4,5,6,7],'Name':['Ansh','Vanshika','Yuvraj','Raman','Pranav','Sujal','Pranjal'],\n",
    "        'Percentage':[90,95,96,92,98,97,96]}\n",
    "df5 = pd.DataFrame(data, index= [1,2,3,4,5,6,7])\n",
    "print(df5)\n",
    "print(\"Represent no of elements:-\",df5.size)\n",
    "print(\"Returns tuples representing dimension:-\", df5.shape)\n",
    "print(\"Returns the no of array dimensons:-\", df5.ndim)\n",
    "print(\"Retuns list of axes:-\", df5.axes)\n",
    "print(\"Returns the column labels:-\", df5.columns)\n",
    "print(\"Returns the numpy representation:-\\n\", df5.values)\n",
    "df = pd.DataFrame()\n",
    "print(\"Returns boolean values Dataframe empty:-\",df5.empty)"
   ]
  },
  {
   "cell_type": "code",
   "execution_count": 1,
   "id": "69fdde8e",
   "metadata": {},
   "outputs": [
    {
     "name": "stdout",
     "output_type": "stream",
     "text": [
      "Data in Dataframe:\n",
      "    RollNo    Name  Total  Percentage\n",
      "0       1   Arnab    350          70\n",
      "1       2    Amit    400          80\n",
      "2       3   Raman    490          98\n",
      "3       4  Akshit    480          96\n",
      "New Dataframe:\n",
      "    RollNo    Name  Total  Percentage Grade  Age\n",
      "0       1   Arnab    350          70     C   14\n",
      "1       2    Amit    400          80     B   15\n",
      "2       3   Raman    490          98     A   24\n",
      "3       4  Akshit    480          96     A   16\n"
     ]
    }
   ],
   "source": [
    "import pandas as pd\n",
    "data1 = {'RollNo':[1,2,3,4],'Name':['Arnab','Amit','Raman','Akshit'],\n",
    "          'Total':[350,400,490,480],'Percentage':[70,80,98,96]}\n",
    "df6 = pd.DataFrame(data1)\n",
    "print(\"Data in Dataframe:\\n\",df6)\n",
    "#Adding Columns to Dataframe\n",
    "df6['Grade']= ['C','B','A','A']\n",
    "df6['Age']=[14,15,24,16]\n",
    "print(\"New Dataframe:\\n\",df6)"
   ]
  },
  {
   "cell_type": "code",
   "execution_count": 3,
   "id": "9acf072b",
   "metadata": {},
   "outputs": [
    {
     "name": "stdout",
     "output_type": "stream",
     "text": [
      "  Itemname  Quantity  Price\n",
      "0      Pen         2     10\n",
      "1   Pencil         5     15\n",
      "2   Eraser         7     20\n",
      "  Itemname  Quantity  Price  Amount\n",
      "0      Pen         2     10      20\n",
      "1   Pencil         5     15      75\n",
      "2   Eraser         7     20     140\n"
     ]
    }
   ],
   "source": [
    "#Add New Column using Mathematical Opeartion\n",
    "import pandas as pd\n",
    "bill = {'Itemname':['Pen','Pencil','Eraser'],\n",
    "        'Quantity':[2,5,7],\n",
    "         'Price':[10,15,20]}\n",
    "\n",
    "df = pd.DataFrame(bill)\n",
    "print(df)\n",
    "df['Amount'] = df['Quantity']*df['Price']\n",
    "print(df)"
   ]
  },
  {
   "cell_type": "code",
   "execution_count": 6,
   "id": "c7baf037",
   "metadata": {},
   "outputs": [
    {
     "name": "stdout",
     "output_type": "stream",
     "text": [
      "  Itemname  Amount  Quantity  Price\n",
      "1      Pen      20         2     10\n",
      "2   Pencil      30         5     15\n",
      "3   Eraser      40         7     20\n"
     ]
    }
   ],
   "source": [
    "#Add new column at desired position\n",
    "import pandas as pd\n",
    "bill = {'Itemname':['Pen','Pencil','Eraser'],\n",
    "        'Quantity':[2,5,7],\n",
    "         'Price':[10,15,20]}\n",
    "df = pd.DataFrame(bill, index = [1,2,3])\n",
    "df.insert(1,'Amount',[20,30,40])\n",
    "print(df)"
   ]
  },
  {
   "cell_type": "code",
   "execution_count": 14,
   "id": "a0854077",
   "metadata": {},
   "outputs": [
    {
     "name": "stdout",
     "output_type": "stream",
     "text": [
      "  Itemname  Quantity  Price\n",
      "0      Pen         2     10\n",
      "1   Pencil         5     15\n",
      "2   Eraser         7     20\n",
      "  Itemname  Quantity  Price  Amount  Sale Price\n",
      "0      Pen         2     10      20           8\n",
      "1   Pencil         5     15      75          13\n",
      "2   Eraser         7     20     140          18\n"
     ]
    }
   ],
   "source": [
    "#Column added using loc method\n",
    "import pandas as pd\n",
    "bill = {'Itemname':['Pen','Pencil','Eraser'],\n",
    "        'Quantity':[2,5,7],\n",
    "         'Price':[10,15,20]}\n",
    "df = pd.DataFrame(bill)\n",
    "print(df)\n",
    "df['Amount'] = df['Quantity']*df['Price']\n",
    "df.loc[:,'Sale Price'] = [8,13,18]\n",
    "print(df)"
   ]
  },
  {
   "cell_type": "code",
   "execution_count": 24,
   "id": "e305e595",
   "metadata": {},
   "outputs": [
    {
     "name": "stdout",
     "output_type": "stream",
     "text": [
      "   Itemname  Quantity  Price\n",
      "r1      Pen         2     10\n",
      "r2   Pencil         5     15\n",
      "r3   Eraser         7     20\n",
      "   Itemname  Quantity  Price  Amount  Sale Price\n",
      "r1      Pen         2     10      20           8\n",
      "r2   Pencil         5     15      75          13\n",
      "r3   Eraser         7     20     140          18\n",
      "3      Copy         5      6      30          13\n"
     ]
    }
   ],
   "source": [
    "#adding row using loc method\n",
    "import pandas as pd\n",
    "bill = {'Itemname':['Pen','Pencil','Eraser'],\n",
    "        'Quantity':[2,5,7],\n",
    "         'Price':[10,15,20]}\n",
    "df = pd.DataFrame(bill, index=['r1','r2','r3'])\n",
    "print(df)\n",
    "df['Amount'] = df['Quantity']*df['Price']\n",
    "df.loc[:,'Sale Price'] = [8,13,18]\n",
    "df.loc[3] = ['Copy', 5,6,30,13]\n",
    "print(df)"
   ]
  },
  {
   "cell_type": "code",
   "execution_count": 5,
   "id": "fed84029",
   "metadata": {},
   "outputs": [
    {
     "name": "stdout",
     "output_type": "stream",
     "text": [
      "  itemname  Quantity  Price\n",
      "1      Pen         4     10\n",
      "2     Copy         5     11\n",
      "3   Eraser         5      5\n",
      "4   Pencil         6      7\n",
      "  itemname  Quantity  Price  Amount  Saleprice\n",
      "1      Pen         4     10      40         10\n",
      "2     Copy         5     11      55         12\n",
      "3   Eraser         5      5      25         15\n",
      "4   Pencil         6      7      42         10\n",
      "  itemname  Quantity  Price  Amount\n",
      "1      Pen         4     10      40\n",
      "2     Copy         5     11      55\n",
      "3   Eraser         5      5      25\n",
      "4   Pencil         6      7      42\n"
     ]
    }
   ],
   "source": [
    "#deleting Column using drop method\n",
    "import pandas as pd\n",
    "bill1 = [{'itemname':'Pen','Quantity': 4, 'Price':10},\n",
    "         {'itemname':'Copy','Quantity': 5, 'Price':11},\n",
    "          {'itemname':'Eraser','Quantity': 5, 'Price':5},\n",
    "            {'itemname':'Pencil','Quantity': 6,'Price':7}]\n",
    "df4 = pd.DataFrame(bill1, index = [1,2,3,4])\n",
    "print(df4)\n",
    "df4['Amount'] = df4['Quantity'] * df4['Price']\n",
    "df4['Saleprice'] = [10,12,15,10]\n",
    "print(df4)\n",
    "x = df4.drop('Saleprice',axis = 1)\n",
    "print(x)"
   ]
  },
  {
   "cell_type": "code",
   "execution_count": 30,
   "id": "f46eb951",
   "metadata": {},
   "outputs": [
    {
     "name": "stdout",
     "output_type": "stream",
     "text": [
      "  ItemName  Quantity  Price\n",
      "1      Pen        10     10\n",
      "2   Pencil        11      5\n",
      "3   Eraser        12      8\n",
      "4     copy        14     10\n",
      "  ItemName  Quantity  Price  Amount  Saleprice\n",
      "1      Pen        10     10     100         10\n",
      "2   Pencil        11      5      55         12\n",
      "3   Eraser        12      8      96         15\n",
      "4     copy        14     10     140         10\n",
      "  ItemName  Quantity  Price  Amount  Saleprice\n",
      "2   Pencil        11      5      55         12\n",
      "3   Eraser        12      8      96         15\n",
      "  ItemName  Quantity  Price\n",
      "2   Pencil        11      5\n",
      "3   Eraser        12      8\n"
     ]
    }
   ],
   "source": [
    "#deleting Rows using drop method\n",
    "import pandas as pd\n",
    "bill2 = {'ItemName':pd.Series(['Pen','Pencil','Eraser','copy'],index = [1,2,3,4]),\n",
    "        'Quantity':pd.Series([10,11,12,14],index = [1,2,3,4]),\n",
    "        'Price':pd.Series([10,5,8,10],index = [1,2,3,4])}\n",
    "df6 = pd.DataFrame(bill2)\n",
    "print(df6)\n",
    "df6['Amount'] = df6['Quantity'] * df6['Price']\n",
    "df6['Saleprice'] = [10,12,15,10]\n",
    "print(df6)\n",
    "y = x.drop(['Amount','Saleprice'], axis = 1)\n",
    "x= df6.drop([1,4], axis = 0)\n",
    "\n",
    "print(x)\n",
    "print(y)"
   ]
  },
  {
   "cell_type": "code",
   "execution_count": 18,
   "id": "c97db9f5",
   "metadata": {},
   "outputs": [
    {
     "name": "stdout",
     "output_type": "stream",
     "text": [
      "     Name  RollNo  Eng  Hindi  Maths  Total\n",
      "0   Divya       1   50     74     70    194\n",
      "1   Vipul       2   65     71     67    203\n",
      "2  Simran       3   66     72     69    207\n",
      "3  Rishab       4   65     65     75    205\n",
      "     Name  RollNo  Eng  Hindi  Maths  Total\n",
      "0   Divya       1   50     74     70    194\n",
      "1   Vipul       2   65     71     67    203\n",
      "2  Simran       3   70     72     69    207\n",
      "3  Rishab       4   65     65     75    205\n",
      "     Name  RollNo  Eng  Hindi  Maths  Total\n",
      "0   Divya       1   60     74     70    194\n",
      "1   Vipul       2   70     71     67    203\n",
      "2  Simran       3   75     72     69    207\n",
      "3  Rishab       4   71     65     75    205\n",
      "     Name  RollNo  Eng  Hindi  Maths  Total\n",
      "0   Divya       1   60     74     70    194\n",
      "1   Vipul       2   70     71     67    203\n",
      "2  Simran       3   75     72     69    207\n",
      "3  Rishab       4   72     75     78    225\n"
     ]
    }
   ],
   "source": [
    "import pandas  as pd\n",
    "d2 = {\"Name\":pd.Series(['Divya','Vipul','Simran','Rishab']),\n",
    "      \"RollNo\":pd.Series([1,2,3,4,]),\n",
    "     \"Eng\":pd.Series([50,65,66,65]),\n",
    "      \"Hindi\":pd.Series([74,71,72,65]),\n",
    "       \"Maths\": pd.Series([70,67,69,75])}\n",
    "df10 = pd.DataFrame(d2)\n",
    "df10['Total'] = df10['Eng']+df10['Hindi']+df10['Maths']\n",
    "print(df10)\n",
    "df10.at[2,'Eng']=70\n",
    "print(df10)\n",
    "df10['Eng'] = [60,70,75,71]\n",
    "print(df10)\n",
    "df10.loc[3] = ['Rishab',4,72,75,78,225]\n",
    "print(df10)"
   ]
  },
  {
   "cell_type": "code",
   "execution_count": 19,
   "id": "04b37594",
   "metadata": {},
   "outputs": [
    {
     "name": "stdout",
     "output_type": "stream",
     "text": [
      "Old Dataframe\n",
      "      Name  RollNo  Eng  Hindi  Maths\n",
      "0   Divya       1   50     74     70\n",
      "1   Vipul       2   65     71     67\n",
      "2  Simran       3   66     72     69\n",
      "3  Rishab       4   65     65     75\n",
      "New DataFrame with renamed column:-\n",
      "   StudentName  RollNo  Eng  Hindi  Maths\n",
      "0       Divya       1   50     74     70\n",
      "1       Vipul       2   65     71     67\n",
      "2      Simran       3   66     72     69\n",
      "3      Rishab       4   65     65     75\n"
     ]
    }
   ],
   "source": [
    "import pandas  as pd\n",
    "d2 = {\"Name\":pd.Series(['Divya','Vipul','Simran','Rishab']),\n",
    "      \"RollNo\":pd.Series([1,2,3,4,]),\n",
    "     \"Eng\":pd.Series([50,65,66,65]),\n",
    "      \"Hindi\":pd.Series([74,71,72,65]),\n",
    "       \"Maths\": pd.Series([70,67,69,75])}\n",
    "df10 = pd.DataFrame(d2)\n",
    "print(\"Old Dataframe\\n\",df10)\n",
    "\n",
    "df11 = df10.rename({'Name':'StudentName'}, axis = 'columns')\n",
    "print(\"New DataFrame with renamed column:-\\n\",df11)"
   ]
  },
  {
   "cell_type": "code",
   "execution_count": 20,
   "id": "954b4d5a",
   "metadata": {},
   "outputs": [
    {
     "name": "stdout",
     "output_type": "stream",
     "text": [
      "Old Dataframe\n",
      "      Name  RollNo  Eng  Hindi  Maths\n",
      "0   Divya       1   50     74     70\n",
      "1   Vipul       2   65     71     67\n",
      "2  Simran       3   66     72     69\n",
      "3  Rishab       4   65     65     75\n",
      "Rename rows in Dataframe:\n",
      "       Name  RollNo  Eng  Hindi  Maths\n",
      "R1   Divya       1   50     74     70\n",
      "R2   Vipul       2   65     71     67\n",
      "R3  Simran       3   66     72     69\n",
      "R4  Rishab       4   65     65     75\n"
     ]
    }
   ],
   "source": [
    "import pandas  as pd\n",
    "d2 = {\"Name\":pd.Series(['Divya','Vipul','Simran','Rishab']),\n",
    "      \"RollNo\":pd.Series([1,2,3,4,]),\n",
    "     \"Eng\":pd.Series([50,65,66,65]),\n",
    "      \"Hindi\":pd.Series([74,71,72,65]),\n",
    "       \"Maths\": pd.Series([70,67,69,75])}\n",
    "df10 = pd.DataFrame(d2)\n",
    "print(\"Old Dataframe\\n\",df10)\n",
    "df12 = df10.rename({0:'R1',1:'R2',2:'R3',3:'R4'}, axis = 'index')\n",
    "print('Rename rows in Dataframe:\\n',df12)"
   ]
  },
  {
   "cell_type": "code",
   "execution_count": 25,
   "id": "106001e4",
   "metadata": {},
   "outputs": [
    {
     "name": "stdout",
     "output_type": "stream",
     "text": [
      "Single Column\n",
      " 0     Divya\n",
      "1     Vipul\n",
      "2    Simran\n",
      "3    Rishab\n",
      "Name: Name, dtype: object\n",
      "Multiple columns\n",
      "      Name  Maths\n",
      "0   Divya     70\n",
      "1   Vipul     67\n",
      "2  Simran     69\n",
      "3  Rishab     75\n"
     ]
    }
   ],
   "source": [
    "#Accessing DataFrame\n",
    "import pandas  as pd\n",
    "d2 = {\"Name\":pd.Series(['Divya','Vipul','Simran','Rishab']),\n",
    "      \"RollNo\":pd.Series([1,2,3,4,]),\n",
    "     \"Eng\":pd.Series([50,65,66,65]),\n",
    "      \"Hindi\":pd.Series([74,71,72,65]),\n",
    "       \"Maths\": pd.Series([70,67,69,75])}\n",
    "df10 = pd.DataFrame(d2)\n",
    "print(\"Single Column\\n\",df10.Name)\n",
    "print(\"Multiple columns\\n\",df10[['Name','Maths']])\n"
   ]
  },
  {
   "cell_type": "code",
   "execution_count": 26,
   "id": "9d6b3d89",
   "metadata": {},
   "outputs": [
    {
     "name": "stdout",
     "output_type": "stream",
     "text": [
      "Single Row\n",
      " Name      Divya\n",
      "RollNo        1\n",
      "Eng          50\n",
      "Hindi        74\n",
      "Maths        70\n",
      "Name: R1, dtype: object\n",
      "Multiple Row\n",
      "       Name  RollNo  Eng  Hindi  Maths\n",
      "R1   Divya       1   50     74     70\n",
      "R3  Simran       3   66     72     69\n",
      "Multiple Row\n",
      "       Name  RollNo  Eng  Hindi  Maths\n",
      "R2   Vipul       2   65     71     67\n",
      "R3  Simran       3   66     72     69\n",
      "R4  Rishab       4   65     65     75\n",
      "Multiple columns\n",
      "       Name\n",
      "R1   Divya\n",
      "R2   Vipul\n",
      "R3  Simran\n",
      "R4  Rishab\n",
      "TO display single column and all rows\n",
      " R1     Divya\n",
      "R2     Vipul\n",
      "R3    Simran\n",
      "R4    Rishab\n",
      "Name: Name, dtype: object\n",
      "TO display Multiple column and  all rows\n",
      "       Name  Hindi\n",
      "R1   Divya     74\n",
      "R2   Vipul     71\n",
      "R3  Simran     72\n",
      "R4  Rishab     65\n"
     ]
    }
   ],
   "source": [
    "#Accessing dataframe using loc method\n",
    "import pandas  as pd\n",
    "d2 = {\"Name\":pd.Series(['Divya','Vipul','Simran','Rishab'],index = pd.Index(['R1','R2','R3','R4'])),\n",
    "      \"RollNo\":pd.Series([1,2,3,4], index = ['R1','R2','R3','R4']),\n",
    "     \"Eng\":pd.Series([50,65,66,65], index =['R1','R2','R3','R4']),\n",
    "      \"Hindi\":pd.Series([74,71,72,65], index = ['R1','R2','R3','R4']),\n",
    "       \"Maths\": pd.Series([70,67,69,75], index = ['R1','R2','R3','R4'])}\n",
    "df10 = pd.DataFrame(d2)\n",
    "print(\"Single Row\\n\",df10.loc['R1'])\n",
    "print(\"Multiple Row\\n\",df10.loc[['R1','R3']])\n",
    "print(\"Multiple Row\\n\",df10.loc['R2':'R4'])\n",
    "print(\"Multiple columns\\n\",df10[['Name']])\n",
    "print(\"TO display single column and all rows\\n\", df10.loc[:,'Name'])\n",
    "print(\"TO display Multiple column and  all rows\\n\", df10.loc[:,['Name','Hindi']])\n"
   ]
  },
  {
   "cell_type": "code",
   "execution_count": 40,
   "id": "0116f490",
   "metadata": {},
   "outputs": [
    {
     "name": "stdout",
     "output_type": "stream",
     "text": [
      "      Name  Maths\n",
      "R1   Divya     70\n",
      "R4  Rishab     75\n",
      "    RollNo  Eng  Hindi  Maths\n",
      "R1       1   50     74     70\n",
      "R2       2   65     71     67\n",
      "R3       3   66     72     69\n",
      "R4       4   65     65     75\n",
      "    RollNo  Maths    Name\n",
      "R1       1     70   Divya\n",
      "R2       2     67   Vipul\n",
      "R3       3     69  Simran\n",
      "R4       4     75  Rishab\n",
      "      Name  RollNo  Eng  Hindi  Maths\n",
      "R1   Divya       1   50     74     70\n",
      "R2   Vipul       2   65     71     67\n",
      "R3  Simran       3   66     72     69\n",
      "R4  Rishab       4   65     65     75\n",
      "R1     True\n",
      "R2    False\n",
      "R3    False\n",
      "R4     True\n",
      "Name: Maths, dtype: bool\n"
     ]
    }
   ],
   "source": [
    "import pandas  as pd\n",
    "d2 = {\"Name\":pd.Series(['Divya','Vipul','Simran','Rishab'],index = pd.Index(['R1','R2','R3','R4'])),\n",
    "      \"RollNo\":pd.Series([1,2,3,4], index = ['R1','R2','R3','R4']),\n",
    "     \"Eng\":pd.Series([50,65,66,65], index =['R1','R2','R3','R4']),\n",
    "      \"Hindi\":pd.Series([74,71,72,65], index = ['R1','R2','R3','R4']),\n",
    "       \"Maths\": pd.Series([70,67,69,75], index = ['R1','R2','R3','R4'])}\n",
    "df10 = pd.DataFrame(d2)\n",
    "print(df10.loc[['R1','R4'],['Name','Maths']])\n",
    "print(df10.loc['R1':'R4','RollNo':'Maths'])\n",
    "print(df10.loc['R1':'R4',['RollNo','Maths','Name']])\n",
    "print(df10.loc[::])\n",
    "print(df10['Maths']>=70)"
   ]
  },
  {
   "cell_type": "code",
   "execution_count": null,
   "id": "f6f89aa7",
   "metadata": {},
   "outputs": [],
   "source": [
    "# Slicing with DataFrame\n",
    "import pandas as pd\n",
    "salelist = [{'Revenue':25000,Expenses, 20000},{'Revenue':5000,Expenses, 20000}]\n"
   ]
  },
  {
   "cell_type": "code",
   "execution_count": 6,
   "id": "e27a7b6e",
   "metadata": {},
   "outputs": [
    {
     "name": "stdout",
     "output_type": "stream",
     "text": [
      "   Name Adderess\n",
      "1  Arun    Solan\n",
      "2     B   shimla\n",
      "3     C      chd\n",
      "4     d     mall\n",
      "   Eng  Maths  IP\n",
      "1   70     80  90\n",
      "3   80     90  91\n",
      "4   80     85  93\n",
      "5   60     60  60\n",
      "   Name Adderess   Eng  Maths    IP\n",
      "1  Arun    Solan  70.0   80.0  90.0\n",
      "2     B   shimla   NaN    NaN   NaN\n",
      "3     C      chd  80.0   90.0  91.0\n",
      "4     d     mall  80.0   85.0  93.0\n"
     ]
    }
   ],
   "source": [
    "#Joining two dataframes using join with left method \n",
    "\n",
    "import pandas as pd \n",
    "std = {'Name':pd.Series(['Arun','B','C','d'],index = [1,2,3,4]),\n",
    "  'Adderess':pd.Series(['Solan','shimla','chd','mall'],index = [1,2,3,4])}\n",
    "dfstd = pd.DataFrame(std)\n",
    "\n",
    "marks = {'Eng':pd.Series([70,80,80,60],index = [1,3,4,5]),\n",
    "        'Maths':pd.Series([80,90,85,60],index = [1,3,4,5]),\n",
    "        'IP':pd.Series([90,91,93,60],index = [1,3,4,5])}\n",
    "print(dfstd)\n",
    "\n",
    "dfm= pd.DataFrame(marks)\n",
    "print(dfm)\n",
    "d3 = dfstd.join(dfm, how = 'left', sort = False)\n",
    "\n",
    "print(d3)"
   ]
  },
  {
   "cell_type": "code",
   "execution_count": 7,
   "id": "e893cdcd",
   "metadata": {},
   "outputs": [
    {
     "name": "stdout",
     "output_type": "stream",
     "text": [
      "   Name Adderess  Eng  Maths  IP\n",
      "1  Arun    Solan   70     80  90\n",
      "3     C      chd   80     90  91\n",
      "4     d     mall   80     85  93\n",
      "5   NaN      NaN   60     60  60\n"
     ]
    }
   ],
   "source": [
    "#Joining two dataframes using join with Right method \n",
    "import pandas as pd \n",
    "std = {'Name':pd.Series(['Arun','B','C','d'],index = [1,2,3,4]),\n",
    "  'Adderess':pd.Series(['Solan','shimla','chd','mall'],index = [1,2,3,4])}\n",
    "dfstd = pd.DataFrame(std)\n",
    "\n",
    "marks = {'Eng':pd.Series([70,80,80,60],index = [1,3,4,5]),\n",
    "        'Maths':pd.Series([80,90,85,60],index = [1,3,4,5]),\n",
    "        'IP':pd.Series([90,91,93,60],index = [1,3,4,5])}\n",
    "dms = pd.DataFrame(marks)\n",
    "d4 = dfstd.join(dms, how = 'right')\n",
    "print(d4)"
   ]
  },
  {
   "cell_type": "code",
   "execution_count": 8,
   "id": "3e802ca0",
   "metadata": {},
   "outputs": [
    {
     "name": "stdout",
     "output_type": "stream",
     "text": [
      "   Name Adderess  Eng  Maths  IP\n",
      "1  Arun    Solan   70     80  90\n",
      "3     C      chd   80     90  91\n",
      "4     d     mall   80     85  93\n"
     ]
    }
   ],
   "source": [
    "#Joining two dataframes using join with Right method \n",
    "import pandas as pd \n",
    "std = {'Name':pd.Series(['Arun','B','C','d'],index = [1,2,3,4]),\n",
    "  'Adderess':pd.Series(['Solan','shimla','chd','mall'],index = [1,2,3,4])}\n",
    "dfstd = pd.DataFrame(std)\n",
    "\n",
    "marks = {'Eng':pd.Series([70,80,80,60],index = [1,3,4,5]),\n",
    "        'Maths':pd.Series([80,90,85,60],index = [1,3,4,5]),\n",
    "        'IP':pd.Series([90,91,93,60],index = [1,3,4,5])}\n",
    "dms = pd.DataFrame(marks)\n",
    "d4 = dfstd.join(dms, how = 'inner')\n",
    "print(d4)"
   ]
  },
  {
   "cell_type": "code",
   "execution_count": 14,
   "id": "2fd8a95f",
   "metadata": {},
   "outputs": [
    {
     "name": "stdout",
     "output_type": "stream",
     "text": [
      "   Name Adderess   Eco   Eng  Maths    IP  Total\n",
      "1  Arun    Solan  20.0  70.0   80.0  90.0  260.0\n",
      "2     B   shimla  24.0   NaN    NaN   NaN    NaN\n",
      "3     C      chd  25.0  80.0   90.0  91.0  286.0\n",
      "4     d     mall  22.0  80.0   85.0  93.0  280.0\n",
      "5   NaN      NaN   NaN  60.0   60.0  60.0    NaN\n"
     ]
    }
   ],
   "source": [
    "#Joining two dataframes using join with Right method \n",
    "import pandas as pd \n",
    "std = {'Name':pd.Series(['Arun','B','C','d'],index = [1,2,3,4]),\n",
    "  'Adderess':pd.Series(['Solan','shimla','chd','mall'],index = [1,2,3,4]),\n",
    "      'Eco':pd.Series([20,24,25,22],index = [1,2,3,4])}\n",
    "dfstd = pd.DataFrame(std)\n",
    "\n",
    "marks = {'Eng':pd.Series([70,80,80,60],index = [1,3,4,5]),\n",
    "        'Maths':pd.Series([80,90,85,60],index = [1,3,4,5]),\n",
    "        'IP':pd.Series([90,91,93,60],index = [1,3,4,5])}\n",
    "\n",
    "dms = pd.DataFrame(marks)\n",
    "dms['Total']=dms['Eng']+dms['Maths']+dms['IP']+dfstd['Eco']\n",
    "d4 = dfstd.join(dms, how = 'outer', sort = True)\n",
    "\n",
    "print(d4)"
   ]
  },
  {
   "cell_type": "code",
   "execution_count": 3,
   "id": "402899c9",
   "metadata": {},
   "outputs": [
    {
     "name": "stdout",
     "output_type": "stream",
     "text": [
      "  key_x  data1 key_y\n",
      "0     b      0     a\n",
      "1     b      1     b\n",
      "2     a      2     d\n"
     ]
    }
   ],
   "source": [
    "import pandas as pd\n",
    "df1 = pd.DataFrame({'key':['b','b','a','c','a','a','b'],\"data1\":range(7)})\n",
    "df2 = pd.DataFrame({'key':['a','b','d'],\"data1\":range(3)})\n",
    "m = pd.merge(df1,df2,on = 'data1')\n",
    "print(m)"
   ]
  },
  {
   "cell_type": "code",
   "execution_count": 12,
   "id": "a0613fdd",
   "metadata": {},
   "outputs": [
    {
     "name": "stdout",
     "output_type": "stream",
     "text": [
      "   id Name_x Subject_id_x Name_y Subject_id_y\n",
      "0   1   Ajay          Eng   Ajay          Eng\n",
      "1   2   Amit         Math  Vivan         Math\n",
      "2   3  Aleen          Phy  Vinay          Eco\n",
      "3   4  Arick         Chem  Vansh           Cs\n",
      "4   5  Ayush           IP  Ayush           IP\n",
      "   id Name_x Subject_id Name_y\n",
      "0   1   Ajay        Eng   Ajay\n",
      "1   2   Amit       Math  Vivan\n",
      "2   3  Aleen        Phy    NaN\n",
      "3   4  Arick       Chem    NaN\n",
      "4   5  Ayush         IP  Ayush\n",
      "5   3    NaN        Eco  Vinay\n",
      "6   4    NaN         Cs  Vansh\n"
     ]
    }
   ],
   "source": [
    "import pandas as pd \n",
    "left = pd.DataFrame({'id':[1,2,3,4,5], 'Name':['Ajay','Amit','Aleen','Arick','Ayush'],\n",
    "                    'Subject_id':['Eng','Math','Phy','Chem','IP']})\n",
    "right =pd.DataFrame({'id':[1,2,3,4,5], 'Name':['Ajay','Vivan','Vinay','Vansh','Ayush'],\n",
    "                    'Subject_id':['Eng','Math','Eco','Cs','IP']})\n",
    "print(pd.merge(left,right, on = 'id'))\n",
    "print(pd.merge(left,right, on = ['id','Subject_id'], how = 'outer'))"
   ]
  },
  {
   "cell_type": "code",
   "execution_count": 17,
   "id": "c610d0bc",
   "metadata": {},
   "outputs": [
    {
     "name": "stdout",
     "output_type": "stream",
     "text": [
      "   Rollno   Name  Marksobt\n",
      "1       1   Ajay       450\n",
      "2       2   Amit       435\n",
      "3       3  Allen       465\n",
      "4       4  Arick       350\n",
      "   Rollno   Name  Marksobt\n",
      "1       1  Virat       420\n",
      "2       3  Viraj       380\n",
      "3       4  Vivan       400\n",
      "4       5  Vinod       480\n",
      "   Rollno   Name  Marksobt\n",
      "0       1   Ajay       450\n",
      "1       2   Amit       435\n",
      "2       3  Allen       465\n",
      "3       4  Arick       350\n",
      "4       1  Virat       420\n",
      "5       3  Viraj       380\n",
      "6       4  Vivan       400\n",
      "7       5  Vinod       480\n",
      "   0      1    2  3      4    5\n",
      "1  1   Ajay  450  1  Virat  420\n",
      "2  2   Amit  435  3  Viraj  380\n",
      "3  3  Allen  465  4  Vivan  400\n",
      "4  4  Arick  350  5  Vinod  480\n"
     ]
    }
   ],
   "source": [
    "import pandas as pd\n",
    "classXIA= {'Rollno':[1,2,3,4],\n",
    "          'Name':['Ajay','Amit','Allen','Arick'],\n",
    "          'Marksobt':[450,435,465,350]}\n",
    "classXIB = {'Rollno':[1,3,4,5],\n",
    "            'Name':['Virat','Viraj','Vivan','Vinod'],\n",
    "            'Marksobt':[420,380,400,480]}\n",
    "cdf = pd.DataFrame(classXIA,index = [1,2,3,4])\n",
    "cdf1 = pd.DataFrame(classXIB, index = [1,2,3,4])\n",
    "print(cdf)\n",
    "print(cdf1)\n",
    "con = pd.concat([cdf,cdf1],ignore_index=True)\n",
    "print(con)\n",
    "con1 = pd.concat([cdf,cdf1],ignore_index= True,axis = 1)\n",
    "print(con1)"
   ]
  },
  {
   "cell_type": "code",
   "execution_count": 21,
   "id": "7ae415b9",
   "metadata": {},
   "outputs": [
    {
     "name": "stdout",
     "output_type": "stream",
     "text": [
      "   id   Name subject_id\n",
      "0   1   Ajay        Eng\n",
      "1   2   Amit      Maths\n",
      "2   3  Allen    Physics\n",
      "3   4  Arick  Chemistry\n",
      "4   5  Ayush         IP\n",
      "5   1  Vinay        Eng\n",
      "6   2  Virat      Maths\n",
      "7   3  Vivan  Economics\n",
      "8   4  Viraj         CS\n",
      "9   5  Ayush         IP\n",
      "   id   Name subject_id\n",
      "0   1   Ajay        Eng\n",
      "1   2   Amit      Maths\n",
      "2   3  Allen    Physics\n",
      "3   4  Arick  Chemistry\n",
      "4   5  Ayush         IP\n",
      "5   1  Vinay        Eng\n",
      "6   2  Virat      Maths\n",
      "7   3  Vivan  Economics\n",
      "8   4  Viraj         CS\n",
      "9   5  Ayush         IP\n"
     ]
    }
   ],
   "source": [
    "import pandas as pd\n",
    "left = {\n",
    "   'id':[1,2,3,4,5], \n",
    "  'Name': ['Ajay', 'Amit', 'Allen', 'Arick', 'Ayush'],\n",
    "   'subject_id':['Eng','Maths','Physics','Chemistry','IP']}\n",
    "right = pd.DataFrame({'id':[1,2,3,4,5],          \n",
    "    'Name': ['Vinay', 'Virat', 'Vivan', 'Viraj', 'Ayush'],\n",
    "   'subject_id':['Eng','Maths','Economics','CS','IP']},index = pd.Index(['1','2','3','4','5']) )\n",
    "l1 = pd.DataFrame(left,index = pd.Index(['1','2','3','4','5']))\n",
    "l1 = l1.reindex()\n",
    "df1= l1.append(right, ignore_index = True)\n",
    "print(df1)\n",
    "df2= l1.append(right, ignore_index = True, sort = True)\n",
    "print(df2)"
   ]
  },
  {
   "cell_type": "code",
   "execution_count": 34,
   "id": "35a3ccd4",
   "metadata": {},
   "outputs": [
    {
     "name": "stdout",
     "output_type": "stream",
     "text": [
      "46\n"
     ]
    },
    {
     "ename": "AttributeError",
     "evalue": "'numpy.int64' object has no attribute 'to_csv'",
     "output_type": "error",
     "traceback": [
      "\u001b[1;31m---------------------------------------------------------------------------\u001b[0m",
      "\u001b[1;31mAttributeError\u001b[0m                            Traceback (most recent call last)",
      "\u001b[1;32m<ipython-input-34-5445e0c1c4b6>\u001b[0m in \u001b[0;36m<module>\u001b[1;34m\u001b[0m\n\u001b[0;32m      7\u001b[0m \u001b[0mx\u001b[0m \u001b[1;33m=\u001b[0m \u001b[0mjpdata\u001b[0m\u001b[1;33m[\u001b[0m\u001b[1;34m'max_temperature'\u001b[0m\u001b[1;33m]\u001b[0m\u001b[1;33m.\u001b[0m\u001b[0mmax\u001b[0m\u001b[1;33m(\u001b[0m\u001b[1;33m)\u001b[0m\u001b[1;33m\u001b[0m\u001b[1;33m\u001b[0m\u001b[0m\n\u001b[0;32m      8\u001b[0m \u001b[0mprint\u001b[0m\u001b[1;33m(\u001b[0m\u001b[0mx\u001b[0m\u001b[1;33m)\u001b[0m\u001b[1;33m\u001b[0m\u001b[1;33m\u001b[0m\u001b[0m\n\u001b[1;32m----> 9\u001b[1;33m \u001b[0mx\u001b[0m\u001b[1;33m.\u001b[0m\u001b[0mto_csv\u001b[0m\u001b[1;33m(\u001b[0m\u001b[1;34m'C:\\XII2021-22\\pandas\\jaipurfinalcleandata10.csv'\u001b[0m\u001b[1;33m)\u001b[0m\u001b[1;33m\u001b[0m\u001b[1;33m\u001b[0m\u001b[0m\n\u001b[0m",
      "\u001b[1;31mAttributeError\u001b[0m: 'numpy.int64' object has no attribute 'to_csv'"
     ]
    }
   ],
   "source": [
    "import pandas as pd\n",
    "fn = r'C:\\XII2021-22\\pandas\\jaipurfinalcleandata.csv'\n",
    "jpdata = pd.read_csv(fn,usecols = [0,2,16])\n",
    "#print(jpdata)\n",
    "\n",
    "hp = jpdata.head(20)\n",
    "x = jpdata['max_temperature'].max()\n",
    "print(x)\n",
    "hp.to_csv('C:\\XII2021-22\\pandas\\jaipurfinalcleandata10.csv')"
   ]
  },
  {
   "cell_type": "code",
   "execution_count": 3,
   "id": "c013a378",
   "metadata": {},
   "outputs": [
    {
     "name": "stdout",
     "output_type": "stream",
     "text": [
      "  key  value_x  value_y\n",
      "0   a        1      5.0\n",
      "1   b        2      6.0\n",
      "2   b        2      8.0\n",
      "3   c        3      NaN\n",
      "4   d        4      NaN\n"
     ]
    }
   ],
   "source": [
    "import pandas as pd \n",
    "df1=pd.DataFrame({'key':['a','b','c','d'], 'value':[1,2,3,4]})\n",
    "df2=pd.DataFrame({'key':['a','b','e','b'], 'value':[5,6,7,8]}) \n",
    "df3=df1.merge(df2, on='key', how='left')\n",
    "print(df3)"
   ]
  },
  {
   "cell_type": "code",
   "execution_count": 1,
   "id": "e5167af5",
   "metadata": {},
   "outputs": [
    {
     "name": "stdout",
     "output_type": "stream",
     "text": [
      "   CS  IP\n",
      "0  79  92\n",
      "1  86  96\n",
      "2  85  91\n",
      "3  80  99\n"
     ]
    }
   ],
   "source": [
    "import pandas as pd\n",
    "l= [[79,92],[86,96],[85,91],[80,99]]\n",
    "df = pd.DataFrame(l, columns = ['CS','IP'])\n",
    "print(df)"
   ]
  },
  {
   "cell_type": "code",
   "execution_count": 4,
   "id": "9c50561c",
   "metadata": {},
   "outputs": [
    {
     "name": "stdout",
     "output_type": "stream",
     "text": [
      "  key  value_x  value_y\n",
      "0   a        1      5.0\n",
      "1   b        2      6.0\n",
      "2   b        2      8.0\n",
      "3   c        3      NaN\n",
      "4   d        4      NaN\n"
     ]
    }
   ],
   "source": [
    "import pandas as pd\n",
    "df1=pd.DataFrame({'key':['a','b','c','d'], 'value':[1,2,3,4]})\n",
    "df2=pd.DataFrame({'key':['a','b','e','b'], 'value':[5,6,7,8]})\n",
    "df3=df1.merge(df2, on='key', how='left')\n",
    "print(df3)"
   ]
  },
  {
   "cell_type": "code",
   "execution_count": 9,
   "id": "2408f042",
   "metadata": {},
   "outputs": [
    {
     "name": "stdout",
     "output_type": "stream",
     "text": [
      "0    50\n",
      "1    38\n",
      "2    38\n",
      "3    60\n",
      "4    31\n",
      "dtype: int32\n",
      "0    24.0\n",
      "1    34.0\n",
      "2    44.0\n",
      "3    54.0\n",
      "4    64.0\n",
      "dtype: float64\n"
     ]
    }
   ],
   "source": [
    "import pandas as pd\n",
    "import numpy as np\n",
    "n = np.random.randint(24,64,5)\n",
    "s= pd.Series(n)\n",
    "print(s)\n",
    "s6 = pd.Series(np.linspace(24,64,5))\n",
    "print(s6)"
   ]
  },
  {
   "cell_type": "code",
   "execution_count": 7,
   "id": "b55cb65d",
   "metadata": {},
   "outputs": [
    {
     "name": "stdout",
     "output_type": "stream",
     "text": [
      "  key  value\n",
      "0   a      1\n",
      "1   b      2\n",
      "2   c      3\n",
      "3   d      4\n",
      "4   e      5\n",
      "5   f      6\n",
      "6   g      7\n",
      "7   h      8\n",
      "  key  value\n",
      "2   c      3\n",
      "3   d      4\n",
      "4   e      5\n",
      "5   f      6\n",
      "6   g      7\n",
      "7   h      8\n"
     ]
    }
   ],
   "source": [
    "import pandas as pd\n",
    "df1=pd.DataFrame({'key':['a','b','c','d','e','f','g','h','i','j','k','l'], 'value':[1,2,3,4,5,6,7,8,9,10,11,12]})\n",
    "#df2=pd.DataFrame({'key':['a','b','e','b'], 'value':[5,6,7,8]})\n",
    "#df3=df1.merge(df2, on='key', how='left')\n",
    "print(df1.iloc[:-4,:])\n",
    "print(df1[2:8])"
   ]
  },
  {
   "cell_type": "code",
   "execution_count": 5,
   "id": "d23ec680",
   "metadata": {},
   "outputs": [
    {
     "name": "stdout",
     "output_type": "stream",
     "text": [
      "a   NaN\n",
      "b   NaN\n",
      "c   NaN\n",
      "d   NaN\n",
      "e   NaN\n",
      "dtype: float64\n",
      "0    1\n",
      "1    2\n",
      "2    3\n",
      "3    4\n",
      "4    5\n",
      "dtype: int64\n"
     ]
    }
   ],
   "source": [
    "import pandas as pd\n",
    "#s = pd.Series([1,2,3,4,5], index = ['a','b','c','d','e'])\n",
    "s = pd.Series([1,2,3,4,5])\n",
    "s1 = pd.Series(s, index = [x for x in 'abcde'])\n",
    "print(s1)\n",
    "print(s)"
   ]
  },
  {
   "cell_type": "code",
   "execution_count": null,
   "id": "5aee0444",
   "metadata": {},
   "outputs": [],
   "source": []
  }
 ],
 "metadata": {
  "kernelspec": {
   "display_name": "Python 3",
   "language": "python",
   "name": "python3"
  },
  "language_info": {
   "codemirror_mode": {
    "name": "ipython",
    "version": 3
   },
   "file_extension": ".py",
   "mimetype": "text/x-python",
   "name": "python",
   "nbconvert_exporter": "python",
   "pygments_lexer": "ipython3",
   "version": "3.8.3"
  }
 },
 "nbformat": 4,
 "nbformat_minor": 5
}
