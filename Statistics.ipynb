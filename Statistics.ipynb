{
 "cells": [
  {
   "cell_type": "markdown",
   "id": "52dd50eb",
   "metadata": {},
   "source": [
    "# Descriptive Statistics"
   ]
  },
  {
   "cell_type": "code",
   "execution_count": 1,
   "id": "53425759",
   "metadata": {},
   "outputs": [
    {
     "name": "stdout",
     "output_type": "stream",
     "text": [
      "           Name  Age  Eng  IP\n",
      "stud1      Ajay   16   98  91\n",
      "Stud2   Pranjal   15   92  92\n",
      "Stud3     Rashi   17   96  96\n",
      "stud4     Raman   18   95  98\n",
      "stud5      Ansh   16   94  96\n",
      "stud6  Adivitya   19   97  98\n",
      "Column Wise\n",
      "98\n",
      "...................................\n",
      "Maximum Value of Each\n",
      "stud1    98\n",
      "Stud2    92\n",
      "Stud3    96\n",
      "stud4    98\n",
      "stud5    96\n",
      "stud6    98\n",
      "dtype: int64\n"
     ]
    }
   ],
   "source": [
    "import pandas as pd\n",
    "import numpy as np\n",
    "d = {'Name':['Ajay','Pranjal','Rashi','Raman','Ansh','Adivitya'],\n",
    "     'Age':[16,15,17,18,16,19],\n",
    "     'Eng':[98,92,96,95,94,97],\n",
    "      'IP' :[91,92,96,98,96,98]}\n",
    "df = pd.DataFrame(d, index=['stud1','Stud2','Stud3','stud4','stud5','stud6'])\n",
    "print(df)\n",
    "print('Column Wise')\n",
    "print(df['Eng'].max())\n",
    "print('...................................')\n",
    "print('Maximum Value of Each')\n",
    "print(df.max(axis = 1))"
   ]
  },
  {
   "cell_type": "code",
   "execution_count": 2,
   "id": "89df554a",
   "metadata": {},
   "outputs": [
    {
     "name": "stdout",
     "output_type": "stream",
     "text": [
      "           Name  Age  Eng  IP\n",
      "stud1      Ajay  116   98  91\n",
      "Stud2   Pranjal  115   92  92\n",
      "Stud3     Rashi  117   96  96\n",
      "stud4     Raman  118   95  98\n",
      "stud5      Ansh  116   94  96\n",
      "stud6  Adivitya  119   97  98\n",
      "Column Wise\n",
      "IP     91\n",
      "Eng    92\n",
      "dtype: int64\n",
      "...................................\n",
      "Maximum Value of Each\n",
      "Name    6\n",
      "Age     6\n",
      "Eng     6\n",
      "IP      6\n",
      "dtype: int64\n"
     ]
    }
   ],
   "source": [
    "import pandas as pd\n",
    "import numpy as np\n",
    "d = {'Name':['Ajay','Pranjal','Rashi','Raman','Ansh','Adivitya'],\n",
    "     'Age':[116,115,117,118,116,119],\n",
    "     'Eng':[98,92,96,95,94,97],\n",
    "      'IP' :[91,92,96,98,96,98]}\n",
    "df = pd.DataFrame(d, index=['stud1','Stud2','Stud3','stud4','stud5','stud6'])\n",
    "print(df)\n",
    "print('Column Wise')\n",
    "print(df[['IP','Eng']].min())\n",
    "print('...................................')\n",
    "print('Maximum Value of Each')\n",
    "print(df.count(axis = 0))"
   ]
  },
  {
   "cell_type": "code",
   "execution_count": 3,
   "id": "49cac341",
   "metadata": {},
   "outputs": [
    {
     "name": "stdout",
     "output_type": "stream",
     "text": [
      "DataFrame:\n",
      "       TCS  Wipro   L&T\n",
      "Qtr1  2500   2000  2500\n",
      "Qtr2  3000   3500  3000\n",
      "Qtr3  2500   4500  2500\n",
      "Qtr4  2000   2100  2000\n",
      "............................\n",
      "Sum of Single Column\n",
      "Wipro    12100\n",
      "TCS      10000\n",
      "dtype: int64\n",
      ".............................\n",
      "Sum Column Wise:--\n",
      "TCS      10000\n",
      "Wipro    12100\n",
      "L&T      10000\n",
      "dtype: int64\n",
      "................................\n",
      "Row wise sum:-\n",
      "Qtr1    7000\n",
      "Qtr2    9500\n",
      "Qtr3    9500\n",
      "Qtr4    6100\n",
      "dtype: int64\n"
     ]
    }
   ],
   "source": [
    "import pandas as pd\n",
    "sale = {'TCS':{'Qtr1':2500, 'Qtr2':3000, 'Qtr3':2500,'Qtr4':2000},\n",
    "        'Wipro':{'Qtr1':2000, 'Qtr2':3500, 'Qtr3':4500,'Qtr4':2100},\n",
    "        'L&T': {'Qtr1':2500, 'Qtr2':3000, 'Qtr3':2500,'Qtr4':2000}}\n",
    "df = pd.DataFrame(sale)\n",
    "print('DataFrame:')\n",
    "print(df)\n",
    "print('............................')\n",
    "print('Sum of Single Column')\n",
    "print(df[['Wipro','TCS']].sum())\n",
    "print('.............................')\n",
    "print('Sum Column Wise:--')\n",
    "print(df.sum(axis= 0))\n",
    "print('................................')\n",
    "print('Row wise sum:-')\n",
    "print(df.sum(axis=1))\n"
   ]
  },
  {
   "cell_type": "code",
   "execution_count": 4,
   "id": "abb05134",
   "metadata": {},
   "outputs": [
    {
     "name": "stdout",
     "output_type": "stream",
     "text": [
      "Mean value of Single Column\n",
      "3025.0\n",
      "......................................\n",
      "Mean value Column wise\n",
      "TCS      2500.0\n",
      "Wipro    3025.0\n",
      "L&T      2500.0\n",
      "dtype: float64\n",
      "......................................\n",
      "Mean value Row wise\n",
      "Qtr1    2333.333333\n",
      "Qtr2    3166.666667\n",
      "Qtr3    3166.666667\n",
      "Qtr4    2033.333333\n",
      "dtype: float64\n"
     ]
    }
   ],
   "source": [
    "import pandas as pd\n",
    "sale = {'TCS':{'Qtr1':2500, 'Qtr2':3000, 'Qtr3':2500,'Qtr4':2000},\n",
    "        'Wipro':{'Qtr1':2000, 'Qtr2':3500, 'Qtr3':4500,'Qtr4':2100},\n",
    "        'L&T': {'Qtr1':2500, 'Qtr2':3000, 'Qtr3':2500,'Qtr4':2000}}\n",
    "df = pd.DataFrame(sale)\n",
    "print('Mean value of Single Column')\n",
    "print(df['Wipro'].mean())\n",
    "print('......................................')\n",
    "print('Mean value Column wise')\n",
    "print(df.mean(axis= 0))\n",
    "print('......................................')\n",
    "print('Mean value Row wise')\n",
    "print(df.mean(axis= 1))"
   ]
  },
  {
   "cell_type": "code",
   "execution_count": 5,
   "id": "252209ab",
   "metadata": {},
   "outputs": [
    {
     "name": "stdout",
     "output_type": "stream",
     "text": [
      "Median value of Single Column\n",
      "2800.0\n",
      "......................................\n",
      "Median value Column wise\n",
      "TCS      2500.0\n",
      "Wipro    2800.0\n",
      "L&T      2500.0\n",
      "dtype: float64\n",
      "......................................\n",
      "Mean value Row wise\n",
      "Qtr1    2500.0\n",
      "Qtr2    3000.0\n",
      "Qtr3    2500.0\n",
      "Qtr4    2000.0\n",
      "dtype: float64\n"
     ]
    }
   ],
   "source": [
    "import pandas as pd\n",
    "sale = {'TCS':{'Qtr1':2500, 'Qtr2':3000, 'Qtr3':2500,'Qtr4':2000},\n",
    "        'Wipro':{'Qtr1':2000, 'Qtr2':3500, 'Qtr3':4500,'Qtr4':2100},\n",
    "        'L&T': {'Qtr1':2500, 'Qtr2':3000, 'Qtr3':2500,'Qtr4':2000}}\n",
    "df = pd.DataFrame(sale)\n",
    "print('Median value of Single Column')\n",
    "print(df['Wipro'].median())\n",
    "print('......................................')\n",
    "print('Median value Column wise')\n",
    "print(df.median(axis= 0))\n",
    "print('......................................')\n",
    "print('Mean value Row wise')\n",
    "print(df.median(axis= 1))"
   ]
  },
  {
   "cell_type": "code",
   "execution_count": 6,
   "id": "87bf971a",
   "metadata": {},
   "outputs": [
    {
     "name": "stdout",
     "output_type": "stream",
     "text": [
      "mode value of Single Column\n",
      "0    2000\n",
      "dtype: int64\n",
      "......................................\n",
      "Mode value Column wise\n",
      "    TCS  Wipro   L&T\n",
      "0  2500   2000  2500\n",
      "......................................\n",
      "Mode value Row wise\n",
      "         0\n",
      "Qtr1  2500\n",
      "Qtr2  3000\n",
      "Qtr3  2500\n",
      "Qtr4  2000\n"
     ]
    }
   ],
   "source": [
    "import pandas as pd\n",
    "sale = {'TCS':{'Qtr1':2500, 'Qtr2':3000, 'Qtr3':2500,'Qtr4':2000},\n",
    "        'Wipro':{'Qtr1':2000, 'Qtr2':2000, 'Qtr3':2000,'Qtr4':2100},\n",
    "        'L&T': {'Qtr1':2500, 'Qtr2':3000, 'Qtr3':2500,'Qtr4':2000}}\n",
    "df = pd.DataFrame(sale)\n",
    "print('mode value of Single Column')\n",
    "print(df['Wipro'].mode())\n",
    "print('......................................')\n",
    "print('Mode value Column wise')\n",
    "print(df.mode(axis= 0))\n",
    "print('......................................')\n",
    "print('Mode value Row wise')\n",
    "print(df.mode(axis= 1))"
   ]
  },
  {
   "cell_type": "code",
   "execution_count": 7,
   "id": "2247d53c",
   "metadata": {},
   "outputs": [
    {
     "name": "stdout",
     "output_type": "stream",
     "text": [
      "       TCS  Wipro   L&T   HCL    HP\n",
      "Qtr1  2500   2000  2500  5500  5000\n",
      "Qtr2  3000   3500  3000  6000  3000\n",
      "Qtr3  2800   4500  2500  2500  2500\n",
      "Qtr4  2000   2100  2000  4500  2000\n",
      "Quartile Columnwsie\n",
      "         TCS   Wipro     L&T     HCL      HP\n",
      "0.25  2375.0  2075.0  2375.0  4000.0  2375.0\n",
      "0.50  2650.0  2800.0  2500.0  5000.0  2750.0\n",
      "0.75  2850.0  3750.0  2625.0  5625.0  3500.0\n"
     ]
    }
   ],
   "source": [
    "import pandas as pd\n",
    "sale = {'TCS':{'Qtr1':2500, 'Qtr2':3000, 'Qtr3':2800,'Qtr4':2000},\n",
    "        'Wipro':{'Qtr1':2000, 'Qtr2':3500, 'Qtr3':4500,'Qtr4':2100},\n",
    "        'L&T': {'Qtr1':2500, 'Qtr2':3000, 'Qtr3':2500,'Qtr4':2000},\n",
    "        'HCL': {'Qtr1':5500, 'Qtr2':6000, 'Qtr3':2500,'Qtr4':4500},\n",
    "        'HP':   {'Qtr1':5000, 'Qtr2':3000, 'Qtr3':2500,'Qtr4':2000}}\n",
    "df = pd.DataFrame(sale)\n",
    "print(df)\n",
    "print('Quartile Columnwsie')\n",
    "print(df.quantile([0.25,0.50,0.75], axis = 0))\n"
   ]
  },
  {
   "cell_type": "code",
   "execution_count": 8,
   "id": "d655e874",
   "metadata": {},
   "outputs": [
    {
     "name": "stdout",
     "output_type": "stream",
     "text": [
      "      TCS  Wipro  L&T  HCL  HP\n",
      "Qtr1   25     20   25    5   5\n",
      "Qtr2   30     35   30    6   3\n",
      "Qtr3   28     45   25    2   4\n",
      "Qtr4   20     21   20    4   1\n",
      "Quartile Columnwsie\n",
      "        TCS  Wipro    L&T   HCL    HP\n",
      "0.25  23.75  20.75  23.75  3.50  2.50\n",
      "0.50  26.50  28.00  25.00  4.50  3.50\n",
      "0.75  28.50  37.50  26.25  5.25  4.25\n"
     ]
    }
   ],
   "source": [
    "import pandas as pd\n",
    "sale = {'TCS':{'Qtr1':25, 'Qtr2':30, 'Qtr3':28,'Qtr4':20},\n",
    "        'Wipro':{'Qtr1':20, 'Qtr2':35, 'Qtr3':45,'Qtr4':21},\n",
    "        'L&T': {'Qtr1':25, 'Qtr2':30, 'Qtr3':25,'Qtr4':20},\n",
    "        'HCL': {'Qtr1':5, 'Qtr2':6, 'Qtr3':2,'Qtr4':4},\n",
    "        'HP':   {'Qtr1':5, 'Qtr2':3, 'Qtr3':4,'Qtr4':1}}\n",
    "df = pd.DataFrame(sale)\n",
    "print(df)\n",
    "print('Quartile Columnwsie')\n",
    "print(df.quantile([0.25,0.50,0.75], axis = 0))"
   ]
  },
  {
   "cell_type": "code",
   "execution_count": 9,
   "id": "9741980b",
   "metadata": {},
   "outputs": [
    {
     "name": "stdout",
     "output_type": "stream",
     "text": [
      "   TCS  wipro\n",
      "0    1      6\n",
      "1    3      4\n",
      "2    4      8\n",
      "3    7      3\n",
      "4    8      7\n",
      "5    8      9\n",
      "6    9     10\n",
      "      TCS  wipro\n",
      "0.25  3.5    5.0\n"
     ]
    }
   ],
   "source": [
    "import pandas as pd\n",
    "s = {'TCS':[1,3,4,7,8,8,9],'wipro':[6,4,8,3,7,9,10]}\n",
    "df = pd.DataFrame(s)\n",
    "print(df)\n",
    "print(df.quantile([0.25], axis = 0))\n"
   ]
  },
  {
   "cell_type": "code",
   "execution_count": 10,
   "id": "878fa853",
   "metadata": {},
   "outputs": [
    {
     "name": "stdout",
     "output_type": "stream",
     "text": [
      "    TCS\n",
      "0     1\n",
      "1    10\n",
      "2   100\n",
      "3  1000\n",
      "4   850\n",
      "5   200\n",
      "6   256\n",
      "        TCS\n",
      "0.75  553.0\n"
     ]
    }
   ],
   "source": [
    "import pandas as pd\n",
    "x = {'TCS':[1,10,100,1000,850,200,256]}\n",
    "df = pd.DataFrame(x)\n",
    "print(df)\n",
    "print(df.quantile([0.75]))\n"
   ]
  },
  {
   "cell_type": "code",
   "execution_count": 11,
   "id": "853938d5",
   "metadata": {},
   "outputs": [
    {
     "name": "stdout",
     "output_type": "stream",
     "text": [
      "   TCS  Wipro\n",
      "0    1      2\n",
      "1    2      3\n",
      "2    3      4\n",
      "3    4      6\n",
      "4    5      7\n",
      "5    6      8\n",
      "6    7      9\n",
      "4.666666666666667\n",
      "Column-Wise\n",
      "TCS      4.666667\n",
      "Wipro    6.952381\n",
      "dtype: float64\n",
      "Row wise\n",
      "TCS      4.666667\n",
      "Wipro    6.952381\n",
      "dtype: float64\n"
     ]
    }
   ],
   "source": [
    "import pandas as pd\n",
    "s = {'TCS':[1,2,3,4,5,6,7],'Wipro':[2,3,4,6,7,8,9]}\n",
    "df = pd.DataFrame(s)\n",
    "print(df)\n",
    "print(df['TCS'].var())\n",
    "print('Column-Wise')\n",
    "print(df.var(axis = 0))\n",
    "print('Row wise')\n",
    "print(df.var(axis = 0))"
   ]
  },
  {
   "cell_type": "code",
   "execution_count": 12,
   "id": "fccb5916",
   "metadata": {},
   "outputs": [
    {
     "name": "stdout",
     "output_type": "stream",
     "text": [
      "   TCS  Wipro\n",
      "0    1      2\n",
      "1    2      3\n",
      "2    3      4\n",
      "3    4      6\n",
      "4    5      7\n",
      "5    6      8\n",
      "6    7      9\n",
      "2.160246899469287\n",
      "Column-Wise\n",
      "TCS      2.160247\n",
      "Wipro    2.636737\n",
      "dtype: float64\n",
      "Row wise\n",
      "TCS      2.160247\n",
      "Wipro    2.636737\n",
      "dtype: float64\n"
     ]
    }
   ],
   "source": [
    "import pandas as pd\n",
    "s = {'TCS':[1,2,3,4,5,6,7],'Wipro':[2,3,4,6,7,8,9]}\n",
    "df = pd.DataFrame(s)\n",
    "print(df)\n",
    "print(df['TCS'].std())\n",
    "print('Column-Wise')\n",
    "print(df.std(axis = 0))\n",
    "print('Row wise')\n",
    "print(df.std(axis = 0))"
   ]
  },
  {
   "cell_type": "code",
   "execution_count": 13,
   "id": "27c48caa",
   "metadata": {},
   "outputs": [
    {
     "name": "stdout",
     "output_type": "stream",
     "text": [
      "      TCS  Wipro  L&T  HCL  HP\n",
      "Qtr1   25     20   25    5   5\n",
      "Qtr2   30     35   30    6   3\n",
      "Qtr3   28     45   25    2   4\n",
      "Qtr4   20     21   20    4   1\n",
      "Aggregation  Columnwsie\n",
      "               TCS       Wipro         L&T        HCL         HP\n",
      "max      30.000000   45.000000   30.000000   6.000000   5.000000\n",
      "mean     25.750000   30.250000   25.000000   4.250000   3.250000\n",
      "sum     103.000000  121.000000  100.000000  17.000000  13.000000\n",
      "std       4.349329   11.982626    4.082483   1.707825   1.707825\n",
      "var      18.916667  143.583333   16.666667   2.916667   2.916667\n",
      "median   26.500000   28.000000   25.000000   4.500000   3.500000\n",
      "min      20.000000   20.000000   20.000000   2.000000   1.000000\n",
      "Aggregation  Rowwsie\n",
      "       max  mean    sum        std    var  median  min\n",
      "Qtr1  25.0  16.0   80.0  10.246951  105.0    20.0  5.0\n",
      "Qtr2  35.0  20.8  104.0  15.056560  226.7    30.0  3.0\n",
      "Qtr3  45.0  20.8  104.0  17.963853  322.7    25.0  2.0\n",
      "Qtr4  21.0  13.2   66.0   9.833616   96.7    20.0  1.0\n",
      "....................\n",
      "TCS      30\n",
      "Wipro    35\n",
      "L&T      30\n",
      "HCL       6\n",
      "dtype: int64\n"
     ]
    }
   ],
   "source": [
    "import pandas as pd\n",
    "import numpy as np\n",
    "sale = {'TCS':{'Qtr1':25, 'Qtr2':30, 'Qtr3':28,'Qtr4':20},\n",
    "        'Wipro':{'Qtr1':20, 'Qtr2':35, 'Qtr3':45,'Qtr4':21},\n",
    "        'L&T': {'Qtr1':25, 'Qtr2':30, 'Qtr3':25,'Qtr4':20},\n",
    "        'HCL': {'Qtr1':5, 'Qtr2':6, 'Qtr3':2,'Qtr4':4},\n",
    "        'HP':   {'Qtr1':5, 'Qtr2':3, 'Qtr3':4,'Qtr4':1}}\n",
    "df = pd.DataFrame(sale)\n",
    "print(df)\n",
    "print('Aggregation  Columnwsie')\n",
    "print(df.aggregate(['max','mean','sum','std','var','median','min'], axis = 0))\n",
    "print('Aggregation  Rowwsie')\n",
    "print(df.aggregate(['max','mean','sum','std','var','median','min'], axis = 1))\n",
    "print('....................')\n",
    "print(df.loc['Qtr1': 'Qtr2', 'TCS':'HCL'].aggregate('max'))"
   ]
  },
  {
   "cell_type": "code",
   "execution_count": 14,
   "id": "383f7ef5",
   "metadata": {},
   "outputs": [
    {
     "name": "stdout",
     "output_type": "stream",
     "text": [
      "  Zone  Sale\n",
      "0    A    20\n",
      "1    B    23\n",
      "2    B    34\n",
      "3    A    45\n",
      "4    B    56\n",
      "5    C    67\n",
      "6    C    87\n",
      "7    A    65\n",
      "8    C    43\n",
      "Group the data Zonewise\n",
      "<pandas.core.groupby.generic.DataFrameGroupBy object at 0x000001C3C3F21130>\n",
      "      Sale\n",
      "Zone      \n",
      "A      130\n",
      "B      113\n",
      "C      197\n"
     ]
    }
   ],
   "source": [
    "import pandas as pd\n",
    "dict= {'Zone':['A','B','B','A','B','C','C','A','C'],\n",
    "       'Sale':[20,23,34,45,56,67,87,65,43]}\n",
    "df = pd.DataFrame(dict)\n",
    "print(df)\n",
    "print('Group the data Zonewise')\n",
    "print(df.groupby('Zone'))\n",
    "print(df.groupby('Zone').sum())"
   ]
  },
  {
   "cell_type": "code",
   "execution_count": 15,
   "id": "1a43565c",
   "metadata": {},
   "outputs": [
    {
     "name": "stdout",
     "output_type": "stream",
     "text": [
      "  Zone  Sale\n",
      "0    A    20\n",
      "1    B    23\n",
      "2    B    34\n",
      "3    A    45\n",
      "4    B    56\n",
      "5    C    67\n",
      "6    C    87\n",
      "7    A    65\n",
      "8    C    43\n",
      "Displaying the first entry of each group\n",
      "      Sale\n",
      "Zone      \n",
      "A       20\n",
      "B       23\n",
      "C       67\n"
     ]
    }
   ],
   "source": [
    "import pandas as pd\n",
    "dict= {'Zone':['A','B','B','A','B','C','C','A','C'],\n",
    "       'Sale':[20,23,34,45,56,67,87,65,43]}\n",
    "df = pd.DataFrame(dict)\n",
    "print(df)\n",
    "print('Displaying the first entry of each group')\n",
    "t1 = df.groupby('Zone')\n",
    "print(t1.first())"
   ]
  },
  {
   "cell_type": "code",
   "execution_count": 16,
   "id": "684d5db8",
   "metadata": {},
   "outputs": [
    {
     "name": "stdout",
     "output_type": "stream",
     "text": [
      "  Zone  Sale\n",
      "0    A    20\n",
      "1    B    23\n",
      "2    B    34\n",
      "3    A    45\n",
      "4    B    56\n",
      "5    C    67\n",
      "6    C    87\n",
      "7    A    65\n",
      "8    A    43\n",
      "Displaying the Size of each group\n",
      "Zone\n",
      "A    4\n",
      "B    3\n",
      "C    2\n",
      "dtype: int64\n"
     ]
    }
   ],
   "source": [
    "import pandas as pd\n",
    "dict= {'Zone':['A','B','B','A','B','C','C','A','A'],\n",
    "       'Sale':[20,23,34,45,56,67,87,65,43]}\n",
    "df = pd.DataFrame(dict)\n",
    "print(df)\n",
    "print('Displaying the Size of each group')\n",
    "t1 = df.groupby('Zone')\n",
    "print(t1.size())\n"
   ]
  },
  {
   "cell_type": "code",
   "execution_count": 17,
   "id": "90759368",
   "metadata": {},
   "outputs": [
    {
     "name": "stdout",
     "output_type": "stream",
     "text": [
      "  Zone  Sale\n",
      "0    A    20\n",
      "1    B    23\n",
      "2    B    34\n",
      "3    A    45\n",
      "4    B    56\n",
      "5    C    67\n",
      "6    C    87\n",
      "7    A    65\n",
      "8    A    43\n",
      "Displaying the the Group Data,Goupname,Rowindexes\n",
      "{'A': [0, 3, 7, 8], 'B': [1, 2, 4], 'C': [5, 6]}\n"
     ]
    }
   ],
   "source": [
    "import pandas as pd\n",
    "dict= {'Zone':['A','B','B','A','B','C','C','A','A'],\n",
    "       'Sale':[20,23,34,45,56,67,87,65,43]}\n",
    "df = pd.DataFrame(dict)\n",
    "print(df)\n",
    "print('Displaying the the Group Data,Goupname,Rowindexes')\n",
    "t1 = df.groupby('Zone')\n",
    "print(t1.groups)"
   ]
  },
  {
   "cell_type": "code",
   "execution_count": 18,
   "id": "73aed82c",
   "metadata": {},
   "outputs": [
    {
     "name": "stdout",
     "output_type": "stream",
     "text": [
      "  Zone  Sale\n",
      "0    A    20\n",
      "1    B    23\n",
      "2    B    34\n",
      "3    A    45\n",
      "4    B    56\n",
      "5    C    67\n",
      "6    C    87\n",
      "7    A    65\n",
      "8    A    43\n",
      "Displaying the data of single goup\n",
      "  Zone  Sale\n",
      "0    A    20\n",
      "3    A    45\n",
      "7    A    65\n",
      "8    A    43\n"
     ]
    }
   ],
   "source": [
    "import pandas as pd\n",
    "dict= {'Zone':['A','B','B','A','B','C','C','A','A'],\n",
    "       'Sale':[20,23,34,45,56,67,87,65,43]}\n",
    "df = pd.DataFrame(dict)\n",
    "print(df)\n",
    "print('Displaying the data of single goup')\n",
    "t1 = df.groupby('Zone')\n",
    "print(t1.get_group('A'))"
   ]
  },
  {
   "cell_type": "code",
   "execution_count": 19,
   "id": "72dbb37a",
   "metadata": {},
   "outputs": [
    {
     "name": "stdout",
     "output_type": "stream",
     "text": [
      "  Zone  Sale\n",
      "0    A    20\n",
      "1    B    23\n",
      "2    B    34\n",
      "3    A    45\n",
      "4    B    56\n",
      "5    C    67\n",
      "6    C    87\n",
      "7    A    65\n",
      "8    A    43\n",
      "            Sale\n",
      "count   9.000000\n",
      "mean   48.888889\n",
      "std    21.985475\n",
      "min    20.000000\n",
      "25%    34.000000\n",
      "50%    45.000000\n",
      "75%    65.000000\n",
      "max    87.000000\n"
     ]
    }
   ],
   "source": [
    "import pandas as pd\n",
    "dict= {'Zone':['A','B','B','A','B','C','C','A','A'],\n",
    "       'Sale':[20,23,34,45,56,67,87,65,43]}\n",
    "df = pd.DataFrame(dict)\n",
    "print(df)\n",
    "print(df.describe())"
   ]
  },
  {
   "cell_type": "code",
   "execution_count": 20,
   "id": "267a83dc",
   "metadata": {},
   "outputs": [
    {
     "name": "stdout",
     "output_type": "stream",
     "text": [
      "   Empid  EmpName  Salary\n",
      "0    101   Aranav   10000\n",
      "1    102     Ravi   12000\n",
      "2    103    Avani    1000\n",
      "3    104  Bhavika   15000\n",
      "4    105    Avani   16000\n",
      "5    106   Deepak   18000\n",
      ".........................................\n",
      "   Empid  EmpName  Salary\n",
      "0    101   Aranav   10000\n",
      "2    103    Avani    1000\n",
      "4    105    Avani   16000\n",
      "3    104  Bhavika   15000\n",
      "5    106   Deepak   18000\n",
      "1    102     Ravi   12000\n"
     ]
    }
   ],
   "source": [
    "import pandas as pd\n",
    "emp = {'Empid':[101,102,103,104,105,106],\n",
    "       'EmpName':['Aranav','Ravi','Avani','Bhavika','Avani','Deepak'],\n",
    "       'Salary':[10000,12000,1000,15000,16000,18000]}\n",
    "df = pd.DataFrame(emp)\n",
    "print(df)\n",
    "print('.........................................')\n",
    "print(df.sort_values('EmpName'))"
   ]
  },
  {
   "cell_type": "code",
   "execution_count": 21,
   "id": "eaadcaf0",
   "metadata": {},
   "outputs": [
    {
     "name": "stdout",
     "output_type": "stream",
     "text": [
      "   Empid  EmpName  Salary         DOJ\n",
      "0    101   Aranav   10000  2014-12-20\n",
      "1    102     Ravi   12000  2004-02-15\n",
      "2    103    Avani    1000  2006-10-25\n",
      "3    104  Bhavika   15000  2004-08-22\n",
      "4    105    Avani   16000  2000-02-15\n",
      "5    106   Deepak   18000  2012-06-20\n",
      ".........................................\n",
      "   Empid  EmpName  Salary        DOJ\n",
      "0    101   Aranav   10000 2014-12-20\n",
      "5    106   Deepak   18000 2012-06-20\n",
      "2    103    Avani    1000 2006-10-25\n",
      "3    104  Bhavika   15000 2004-08-22\n",
      "1    102     Ravi   12000 2004-02-15\n",
      "4    105    Avani   16000 2000-02-15\n",
      "datetime64[ns]\n"
     ]
    }
   ],
   "source": [
    "import pandas as pd\n",
    "emp = {'Empid':[101,102,103,104,105,106],\n",
    "       'EmpName':['Aranav','Ravi','Avani','Bhavika','Avani','Deepak'],\n",
    "       'Salary':[10000,12000,1000,15000,16000,18000],\n",
    "        'DOJ':['2014-12-20','2004-02-15','2006-10-25','2004-08-22','2000-02-15','2012-06-20']}\n",
    "        #'DOJ':pd.to_datetime('03112014',format='%d%m%Y', errors='ignore')}\n",
    "df = pd.DataFrame(emp)  #pd.date_range('20130101', periods = 6)\n",
    "print(df)\n",
    "df['DOJ']= pd.to_datetime(df['DOJ'])\n",
    "print('.........................................')\n",
    "print(df.sort_values('DOJ',ascending= False))\n",
    "print(df.DOJ.dtype)"
   ]
  },
  {
   "cell_type": "code",
   "execution_count": 22,
   "id": "698053ab",
   "metadata": {},
   "outputs": [
    {
     "name": "stdout",
     "output_type": "stream",
     "text": [
      "   Empid  EmpName  Salary         DOJ\n",
      "a    101   Aranav   10000  2014-12-20\n",
      "c    102     Ravi   12000  2004-02-15\n",
      "e    103    Avani    1000  2006-10-25\n",
      "h    104  Bhavika   15000  2004-08-22\n",
      "f    105    Avani   16000  2000-02-15\n",
      "g    106   Deepak   18000  2001-02-15\n",
      "          DOJ  EmpName  Empid  Salary\n",
      "a  2014-12-20   Aranav    101   10000\n",
      "c  2004-02-15     Ravi    102   12000\n",
      "e  2006-10-25    Avani    103    1000\n",
      "h  2004-08-22  Bhavika    104   15000\n",
      "f  2000-02-15    Avani    105   16000\n",
      "g  2001-02-15   Deepak    106   18000\n",
      "          Empid  EmpName  Salary         DOJ\n",
      "Raman       101   Aranav   10000  2014-12-20\n",
      "Devansh     102     Ravi   12000  2004-02-15\n",
      "Rashi       103    Avani    1000  2006-10-25\n",
      "Ansh        104  Bhavika   15000  2004-08-22\n",
      "Monal       105    Avani   16000  2000-02-15\n",
      "Vanshika    106   Deepak   18000  2001-02-15\n"
     ]
    }
   ],
   "source": [
    "import pandas as pd\n",
    "emp = {'Empid':[101,102,103,104,105,106],\n",
    "       'EmpName':['Aranav','Ravi','Avani','Bhavika','Avani','Deepak'],\n",
    "       'Salary':[10000,12000,1000,15000,16000,18000],\n",
    "        'DOJ':['2014-12-20','2004-02-15','2006-10-25','2004-08-22','2000-02-15','2001-02-15']}\n",
    "df = pd.DataFrame(emp, index = ['a','c','e','h','f','g'])\n",
    "print(df)\n",
    "print(df.sort_index(axis = 1,ascending = True))\n",
    "df1 = df.rename({'a':'Raman','c':'Devansh','e':'Rashi','h':'Ansh','f':'Monal','g':'Vanshika'})\n",
    "print(df1)"
   ]
  },
  {
   "cell_type": "code",
   "execution_count": 23,
   "id": "43751ebc",
   "metadata": {},
   "outputs": [
    {
     "name": "stdout",
     "output_type": "stream",
     "text": [
      "   Empid  EmpName  Salary         DOJ\n",
      "a    101   Aranav   10000  2014-12-20\n",
      "c    102     Ravi   12000  2004-02-15\n",
      "e    103    Avani    1000  2006-10-25\n",
      "h    104  Bhavika   15000  2004-08-22\n",
      "f    105    Avani   16000  2000-02-15\n",
      "g    106   Deepak   18000  2001-02-15\n",
      "          DOJ  EmpName  Empid  Salary\n",
      "a  2014-12-20   Aranav    101   10000\n",
      "c  2004-02-15     Ravi    102   12000\n",
      "e  2006-10-25    Avani    103    1000\n",
      "h  2004-08-22  Bhavika    104   15000\n",
      "f  2000-02-15    Avani    105   16000\n",
      "g  2001-02-15   Deepak    106   18000\n",
      "   Empid  EmpName  Salary         DOJ\n",
      "e    103    Avani    1000  2006-10-25\n",
      "h    104  Bhavika   15000  2004-08-22\n",
      "f    105    Avani   16000  2000-02-15\n",
      "g    106   Deepak   18000  2001-02-15\n"
     ]
    }
   ],
   "source": [
    "import pandas as pd\n",
    "emp = {'Empid':[101,102,103,104,105,106],\n",
    "       'EmpName':['Aranav','Ravi','Avani','Bhavika','Avani','Deepak'],\n",
    "       'Salary':[10000,12000,1000,15000,16000,18000],\n",
    "        'DOJ':['2014-12-20','2004-02-15','2006-10-25','2004-08-22','2000-02-15','2001-02-15']}\n",
    "df = pd.DataFrame(emp, index = ['a','c','e','h','f','g'])\n",
    "print(df)\n",
    "print(df.sort_index(axis = 1,ascending = True))\n",
    "df1 = df.drop(index = ['a','c'])\n",
    "print(df1)"
   ]
  },
  {
   "cell_type": "markdown",
   "id": "e65dec1a",
   "metadata": {},
   "source": [
    "# Reshaping of Data"
   ]
  },
  {
   "cell_type": "code",
   "execution_count": 32,
   "id": "18ec5fb6",
   "metadata": {},
   "outputs": [
    {
     "name": "stdout",
     "output_type": "stream",
     "text": [
      "   Year Team  Runs\n",
      "0  2018   MI  2500\n",
      "1  2019   MI  2650\n",
      "2  2018  RCB  2200\n",
      "3  2019  RCB  2300\n",
      "4  2018  CSK  2400\n",
      "5  2019  CSK  2700\n",
      "..........................................\n",
      "Team   CSK    MI   RCB\n",
      "Year                  \n",
      "2018  2400  2500  2200\n",
      "2019  2700  2650  2300\n",
      "        Year Team  Runs\n",
      "count      6    6     6\n",
      "unique     2    3     6\n",
      "top     2018   MI  2500\n",
      "freq       3    2     1\n"
     ]
    }
   ],
   "source": [
    "# using pivot\n",
    "import pandas as pd\n",
    "data = {\n",
    "    'Year':['2018','2019','2018','2019','2018','2019'],\n",
    "    'Team' :['MI','MI','RCB','RCB','CSK','CSK'],\n",
    "    'Runs' :['2500','2650','2200','2300','2400','2700']}\n",
    "df = pd.DataFrame(data)\n",
    "print(df)\n",
    "print('..........................................')\n",
    "pv = pd.pivot(df, index = 'Year', columns = 'Team', values = 'Runs')\n",
    "print(pv)\n"
   ]
  },
  {
   "cell_type": "code",
   "execution_count": 37,
   "id": "5dda83f9",
   "metadata": {},
   "outputs": [
    {
     "name": "stdout",
     "output_type": "stream",
     "text": [
      "   Year Team  Runs\n",
      "0  2018   MI  2500\n",
      "1  2019   MI  2650\n",
      "2  2018  RCB  2200\n",
      "3  2019  RCB  2300\n",
      "4  2018  CSK  2400\n",
      "5  2019  CSK  2700\n",
      "...................\n",
      "      Runs\n",
      "Year      \n",
      "2018  7100\n",
      "2019  7650\n",
      "              Runs\n",
      "count     6.000000\n",
      "mean   2458.333333\n",
      "std     196.001701\n",
      "min    2200.000000\n",
      "25%    2325.000000\n",
      "50%    2450.000000\n",
      "75%    2612.500000\n",
      "max    2700.000000\n"
     ]
    }
   ],
   "source": [
    "# using pivot\n",
    "import pandas as pd\n",
    "data = {\n",
    "    'Year':['2018','2019','2018','2019','2018','2019'],\n",
    "    'Team' :['MI','MI','RCB','RCB','CSK','CSK'],\n",
    "    'Runs' :[2500,2650,2200,2300,2400,2700]}\n",
    "df = pd.DataFrame(data)\n",
    "print(df)\n",
    "print('...................')\n",
    "pv = pd.pivot_table(df, index = 'Year', values = 'Runs', aggfunc= 'sum')\n",
    "print(pv)\n",
    "print(df.describe())"
   ]
  },
  {
   "cell_type": "code",
   "execution_count": 8,
   "id": "658cab6f",
   "metadata": {},
   "outputs": [
    {
     "name": "stdout",
     "output_type": "stream",
     "text": [
      "AdmNo      False\n",
      "Name       False\n",
      "Science     True\n",
      "Hindi      False\n",
      "Math        True\n",
      "Eng         True\n",
      "S.St        True\n",
      "IT         False\n",
      "dtype: bool\n",
      "10\n"
     ]
    }
   ],
   "source": [
    "import pandas as pd\n",
    "d = pd.read_csv('resultsheet.csv')\n",
    "#print(d.isnull().head(10))\n",
    "#print(d['IT'].isnull())\n",
    "print(d.isnull().any())\n",
    "print(d.isnull().sum().sum())"
   ]
  },
  {
   "cell_type": "code",
   "execution_count": 15,
   "id": "79af4a90",
   "metadata": {},
   "outputs": [
    {
     "name": "stdout",
     "output_type": "stream",
     "text": [
      "    Science   Eng\n",
      "0      18.0  23.0\n",
      "1      17.0  17.0\n",
      "2      15.0  18.0\n",
      "3      16.0  21.0\n",
      "5      16.0  17.0\n",
      "6      18.0  24.0\n",
      "7      15.0  21.0\n",
      "8      22.0  23.0\n",
      "9      19.0  16.0\n",
      "10     22.0  18.0\n",
      "    AdmNo            Name  Science Hindi  Math   Eng  S.St  IT\n",
      "0   10737    Aastha Gupta     18.0    18  23.0  23.0  24.0  21\n",
      "1   10418   Akshat Chanta     17.0    17  17.0  17.0  23.0  21\n",
      "2   10490          Amrita     15.0    15  18.0  18.0  22.0  18\n",
      "3   12071     Ansh Sharma     16.0    16  21.0  21.0  21.0  23\n",
      "5   13342  Armaan Chauhan     16.0    16  17.0  17.0  18.0  19\n",
      "6   10953      Arul Gupta     18.0    18  24.0  24.0  23.0  19\n",
      "7   11762  Ashutosh Mehta     15.0    15  21.0  21.0  25.0  22\n",
      "8   10888     Ayam Sharma     22.0    22  23.0  23.0  23.0  21\n",
      "9   13341      Dhruv Negi     19.0    19  16.0  16.0  23.0  21\n",
      "10  11034  Diskhant Gupta     22.0    22  18.0  18.0  22.0  21\n"
     ]
    }
   ],
   "source": [
    "import pandas as pd\n",
    "d = pd.read_csv('resultsheet.csv')\n",
    "print(d[['Science','Eng']].dropna(axis = 0, how = 'any').head(10))\n",
    "print(d.dropna(subset = ['Science','Eng']).head(10))"
   ]
  },
  {
   "cell_type": "code",
   "execution_count": 18,
   "id": "d0cd3be8",
   "metadata": {},
   "outputs": [
    {
     "name": "stdout",
     "output_type": "stream",
     "text": [
      "    AdmNo                   Name  Science Hindi  Math   Eng  S.St  IT\n",
      "0   10737           Aastha Gupta     18.0    18  23.0  23.0  24.0  21\n",
      "1   10418          Akshat Chanta     17.0    17  17.0  17.0  23.0  21\n",
      "2   10490                 Amrita     15.0    15  18.0  18.0  22.0  18\n",
      "3   12071            Ansh Sharma     16.0    16  21.0  21.0  21.0  23\n",
      "4   10923         Anshita Sharma      0.0    14  22.0  22.0  22.0  22\n",
      "5   13342         Armaan Chauhan     16.0    16  17.0  17.0  18.0  19\n",
      "6   10953             Arul Gupta     18.0    18  24.0  24.0  23.0  19\n",
      "7   11762         Ashutosh Mehta     15.0    15  21.0  21.0  25.0  22\n",
      "8   10888            Ayam Sharma     22.0    22  23.0  23.0  23.0  21\n",
      "9   13341             Dhruv Negi     19.0    19  16.0  16.0  23.0  21\n",
      "10  11034         Diskhant Gupta     22.0    22  18.0  18.0  22.0  21\n",
      "11  12944          Himani Dharta     22.0    22  23.0  23.0  24.0  24\n",
      "12  13671        Himanshu Jaswal     13.0    13  21.0  21.0  23.0  24\n",
      "13  13793                  Kajal     17.0    17  14.0  14.0  21.0  22\n",
      "14  10875           Kartik Gupta     25.0    25  24.0  24.0  23.0  25\n",
      "15  14062  Khemkaran Singh Sidhu      0.0    13   0.0  21.0  24.0  23\n",
      "16  13794                  Komal      0.0    16  14.0  14.0  22.0  21\n",
      "17  12128                Krishna      7.0     7  18.0  18.0  21.0  19\n",
      "18  13801       Kritika Bhandari     24.0    24  23.0  23.0  23.0  22\n",
      "19  12424          Mann Upadhyay     23.0    23  21.0  21.0  25.0  23\n",
      "20  10720        Mannat Bhardwaj     25.0    25  21.0  21.0  24.0  22\n",
      "21  10398          Mayur Kashyap      0.0    Ab   0.0   0.0   0.0   6\n",
      "22  10788             Mehak Negi     19.0    19   0.0  21.0  21.0  17\n",
      "23  10877                 Moneeb     19.0    19  15.0  15.0  23.0  19\n",
      "24  10882            Muskan Khan     18.0    18  22.0  22.0  24.0  25\n",
      "25  10439          Osheen Rikhta     12.0    12  19.0  19.0  23.0  17\n",
      "26  10897         Parisha Thakur      0.0    23  23.0  23.0  19.0  21\n",
      "27  10925          Priyal Sareen     24.0    24  23.0  23.0  25.0  21\n",
      "28  12856        Puranjay Sharma     22.0    22  24.0  24.0  24.0  21\n",
      "29  12072               Ravinder     22.0    22  23.0  23.0  24.0  23\n",
      "30  13959      Rudrani Choudhary     24.0    24  24.0  24.0  25.0  21\n",
      "31  13244      Sai Rudraksh Rana     25.0    25  23.0  23.0  24.0  22\n",
      "32  12967          Saiyam Dharma     18.0    18  17.0  17.0  23.0  19\n",
      "33  10445        Saksham Mahawer     10.0    10  15.0  15.0  16.0  18\n",
      "34  12990                   Sara     25.0    25  25.0  25.0  25.0  24\n",
      "35  11386       Shambhavi Sharma     18.0    18  22.0  22.0  25.0  19\n",
      "36  10920           Shivam Midha     25.0    25  23.0  23.0  25.0  24\n",
      "37  13938            Sima Kumari     25.0    25  16.0  16.0  25.0  22\n",
      "38  11387    Sivesh Kumar Khapra     23.0    23  22.0  22.0  22.0  20\n",
      "39  11570   Sushank Singh Rangta     20.0    20  21.0  21.0  22.0  21\n",
      "40  11569   Sushant Singh Rangta     19.0    19  24.0  24.0  22.0  23\n",
      "41  14002          Vaani Kataria     25.0    25  24.0  24.0  25.0  25\n",
      "42  11756           Vamika Nigam     25.0    25  22.0  22.0  25.0  22\n",
      "43  10452          Vernika Gupta     20.0    20  22.0  22.0  22.0  22\n",
      "44  14221       Deivik Chaurasia     10.0    10  14.0  14.0  17.0  16\n",
      "    AdmNo                   Name  Science Hindi  Math   Eng  S.St  IT\n",
      "0   10737           Aastha Gupta     18.0    18  23.0  23.0  24.0  21\n",
      "1   10418          Akshat Chanta     17.0    17  17.0  17.0  23.0  21\n",
      "2   10490                 Amrita     15.0    15  18.0  18.0  22.0  18\n",
      "3   12071            Ansh Sharma     16.0    16  21.0  21.0  21.0  23\n",
      "4   10923         Anshita Sharma      3.0    14  22.0  22.0  22.0  22\n",
      "5   13342         Armaan Chauhan     16.0    16  17.0  17.0  18.0  19\n",
      "6   10953             Arul Gupta     18.0    18  24.0  24.0  23.0  19\n",
      "7   11762         Ashutosh Mehta     15.0    15  21.0  21.0  25.0  22\n",
      "8   10888            Ayam Sharma     22.0    22  23.0  23.0  23.0  21\n",
      "9   13341             Dhruv Negi     19.0    19  16.0  16.0  23.0  21\n",
      "10  11034         Diskhant Gupta     22.0    22  18.0  18.0  22.0  21\n",
      "11  12944          Himani Dharta     22.0    22  23.0  23.0  24.0  24\n",
      "12  13671        Himanshu Jaswal     13.0    13  21.0  21.0  23.0  24\n",
      "13  13793                  Kajal     17.0    17  14.0  14.0  21.0  22\n",
      "14  10875           Kartik Gupta     25.0    25  24.0  24.0  23.0  25\n",
      "15  14062  Khemkaran Singh Sidhu      NaN    13   NaN  21.0  24.0  23\n",
      "16  13794                  Komal      NaN    16  14.0  14.0  22.0  21\n",
      "17  12128                Krishna      7.0     7  18.0  18.0  21.0  19\n",
      "18  13801       Kritika Bhandari     24.0    24  23.0  23.0  23.0  22\n",
      "19  12424          Mann Upadhyay     23.0    23  21.0  21.0  25.0  23\n",
      "20  10720        Mannat Bhardwaj     25.0    25  21.0  21.0  24.0  22\n",
      "21  10398          Mayur Kashyap      NaN    Ab   NaN    Ab   NaN   6\n",
      "22  10788             Mehak Negi     19.0    19   NaN  21.0  21.0  17\n",
      "23  10877                 Moneeb     19.0    19  15.0  15.0  23.0  19\n",
      "24  10882            Muskan Khan     18.0    18  22.0  22.0  24.0  25\n",
      "25  10439          Osheen Rikhta     12.0    12  19.0  19.0  23.0  17\n",
      "26  10897         Parisha Thakur      NaN    23  23.0  23.0  19.0  21\n",
      "27  10925          Priyal Sareen     24.0    24  23.0  23.0  25.0  21\n",
      "28  12856        Puranjay Sharma     22.0    22  24.0  24.0  24.0  21\n",
      "29  12072               Ravinder     22.0    22  23.0  23.0  24.0  23\n",
      "30  13959      Rudrani Choudhary     24.0    24  24.0  24.0  25.0  21\n",
      "31  13244      Sai Rudraksh Rana     25.0    25  23.0  23.0  24.0  22\n",
      "32  12967          Saiyam Dharma     18.0    18  17.0  17.0  23.0  19\n",
      "33  10445        Saksham Mahawer     10.0    10  15.0  15.0  16.0  18\n",
      "34  12990                   Sara     25.0    25  25.0  25.0  25.0  24\n",
      "35  11386       Shambhavi Sharma     18.0    18  22.0  22.0  25.0  19\n",
      "36  10920           Shivam Midha     25.0    25  23.0  23.0  25.0  24\n",
      "37  13938            Sima Kumari     25.0    25  16.0  16.0  25.0  22\n",
      "38  11387    Sivesh Kumar Khapra     23.0    23  22.0  22.0  22.0  20\n",
      "39  11570   Sushank Singh Rangta     20.0    20  21.0  21.0  22.0  21\n",
      "40  11569   Sushant Singh Rangta     19.0    19  24.0  24.0  22.0  23\n",
      "41  14002          Vaani Kataria     25.0    25  24.0  24.0  25.0  25\n",
      "42  11756           Vamika Nigam     25.0    25  22.0  22.0  25.0  22\n",
      "43  10452          Vernika Gupta     20.0    20  22.0  22.0  22.0  22\n",
      "44  14221       Deivik Chaurasia     10.0    10  14.0  14.0  17.0  16\n"
     ]
    }
   ],
   "source": [
    "import pandas as pd\n",
    "d = pd.read_csv('resultsheet.csv')\n",
    "print(d.fillna(0))\n",
    "\n",
    "values = {'Science':3,'Hindi':'4', 'Eng':'Ab'}\n",
    "print(d.fillna(value = values, limit = 1).)"
   ]
  },
  {
   "cell_type": "code",
   "execution_count": null,
   "id": "7fb292e0",
   "metadata": {},
   "outputs": [],
   "source": []
  }
 ],
 "metadata": {
  "kernelspec": {
   "display_name": "Python 3",
   "language": "python",
   "name": "python3"
  },
  "language_info": {
   "codemirror_mode": {
    "name": "ipython",
    "version": 3
   },
   "file_extension": ".py",
   "mimetype": "text/x-python",
   "name": "python",
   "nbconvert_exporter": "python",
   "pygments_lexer": "ipython3",
   "version": "3.8.3"
  }
 },
 "nbformat": 4,
 "nbformat_minor": 5
}
