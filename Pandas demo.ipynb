{
 "cells": [
  {
   "cell_type": "markdown",
   "id": "941b99f1",
   "metadata": {},
   "source": [
    "# Pandas Library Examples (Series)"
   ]
  },
  {
   "cell_type": "code",
   "execution_count": 1,
   "id": "1a0916b7",
   "metadata": {},
   "outputs": [
    {
     "name": "stdout",
     "output_type": "stream",
     "text": [
      "0    W\n",
      "1    e\n",
      "2    l\n",
      "3    c\n",
      "4    o\n",
      "5    m\n",
      "6    e\n",
      "dtype: object\n"
     ]
    }
   ],
   "source": [
    "# creating series using array method\n",
    "import pandas as pd\n",
    "import numpy as np\n",
    "data = np.array(['W','e','l','c','o','m','e'])\n",
    "series1 = pd.Series(data)\n",
    "print(series1)"
   ]
  },
  {
   "cell_type": "code",
   "execution_count": 2,
   "id": "f2371918",
   "metadata": {},
   "outputs": [
    {
     "name": "stdout",
     "output_type": "stream",
     "text": [
      "A    10\n",
      "B    20\n",
      "C    30\n",
      "D    40\n",
      "dtype: int32\n"
     ]
    }
   ],
   "source": [
    "#Creating a series from array with customized index values\n",
    "import pandas as pd\n",
    "import numpy as np\n",
    "data = np.array([10,20,30,40])\n",
    "series1 = pd.Series(data, index = [\"A\",\"B\",'C','D'])\n",
    "print(series1)"
   ]
  },
  {
   "cell_type": "code",
   "execution_count": 3,
   "id": "7d78da8f",
   "metadata": {},
   "outputs": [
    {
     "name": "stdout",
     "output_type": "stream",
     "text": [
      "0    R\n",
      "1    A\n",
      "2    M\n",
      "3    A\n",
      "4    N\n",
      "dtype: object\n"
     ]
    }
   ],
   "source": [
    "#create a series form list\n",
    "import pandas as pd\n",
    "list = ['R','A','M','A','N']\n",
    "series2 = pd.Series(list)\n",
    "print(series2)"
   ]
  },
  {
   "cell_type": "code",
   "execution_count": 4,
   "id": "b71648f6",
   "metadata": {},
   "outputs": [
    {
     "name": "stdout",
     "output_type": "stream",
     "text": [
      "{'Rashi': 100000, 'Pranav': 30000, 'pranjal': 20000, 'Rijul': 50000}\n",
      "<class 'dict'>\n",
      "Rashi      100000\n",
      "Pranav      30000\n",
      "pranjal     20000\n",
      "Rijul       50000\n",
      "dtype: int64\n"
     ]
    }
   ],
   "source": [
    "# Creating Series by using Dictionary\n",
    "import pandas as pd\n",
    "dict = {'Rashi':100000, 'Pranav': 30000, 'pranjal':20000,'Rijul':50000}\n",
    "print(dict)\n",
    "print(type(dict))\n",
    "series3 = pd.Series(dict)\n",
    "print(series3)"
   ]
  },
  {
   "cell_type": "code",
   "execution_count": 5,
   "id": "b5d32be1",
   "metadata": {},
   "outputs": [
    {
     "name": "stdout",
     "output_type": "stream",
     "text": [
      "0    40\n",
      "1    40\n",
      "2    40\n",
      "4    40\n",
      "5    40\n",
      "6    40\n",
      "dtype: int64\n",
      "5    R\n",
      "6    a\n",
      "7    s\n",
      "8    h\n",
      "9    i\n",
      "dtype: object\n"
     ]
    }
   ],
   "source": [
    "#Creating series by using scalar values\n",
    "import pandas as pd\n",
    "series4 = pd.Series(40,index=[0,1,2,4,5,6])\n",
    "print(series4)\n",
    "series5 = pd.Series(['R','a','s','h','i'],index=range(5,10))\n",
    "print(series5)"
   ]
  },
  {
   "cell_type": "code",
   "execution_count": 6,
   "id": "c8dbcf94",
   "metadata": {},
   "outputs": [],
   "source": [
    "wages = pd.Series  ([500,450,400,550,600],index=['A','B','C','D','E'])"
   ]
  },
  {
   "cell_type": "markdown",
   "id": "7494fa53",
   "metadata": {},
   "source": [
    "# Attributes of Series"
   ]
  },
  {
   "cell_type": "code",
   "execution_count": 7,
   "id": "d98a1a01",
   "metadata": {},
   "outputs": [
    {
     "name": "stdout",
     "output_type": "stream",
     "text": [
      "Index of series Index(['A', 'B', 'C', 'D', 'E'], dtype='object')\n",
      "Shape of series (5,)\n",
      "Data type of the data int64\n",
      "No of columns or size of the data 5\n",
      "returns boolenan true/false:  False\n",
      "Number of dimensions 1\n",
      "Returns boolean True\n",
      "Retuns values [500 450 400 550 600]\n",
      "retuns index element 450\n",
      "Returns the index values according the label 450\n"
     ]
    }
   ],
   "source": [
    "print(\"Index of series\",wages.index) #GETS THE INDEX OF SERIES\n",
    "print(\"Shape of series\", wages.shape) # Returns tuple shape\n",
    "print(\"Data type of the data\", wages.dtype)\n",
    "print(\"No of columns or size of the data\", wages.size)\n",
    "print(\"returns boolenan true/false: \", wages.hasnans)\n",
    "print(\"Number of dimensions\", wages.ndim)\n",
    "print(\"Returns boolean\", wages.is_unique)\n",
    "print(\"Retuns values\", wages.values)\n",
    "print(\"retuns index element\", wages.iloc[1])\n",
    "print(\"Returns the index values according the label\", wages.loc['B'])"
   ]
  },
  {
   "cell_type": "code",
   "execution_count": 8,
   "id": "8976fe25",
   "metadata": {},
   "outputs": [
    {
     "name": "stdout",
     "output_type": "stream",
     "text": [
      "7634\n"
     ]
    }
   ],
   "source": [
    "# Positional Indexing\n",
    "import pandas as pd\n",
    "import numpy as np\n",
    "data = np.array([5400,2500,7634,8725])\n",
    "# providing an index\n",
    "ser = pd.Series(data, index =['North', 'East', 'South', 'West'])\n",
    "print(ser[2])"
   ]
  },
  {
   "cell_type": "code",
   "execution_count": 9,
   "id": "d4edaa50",
   "metadata": {},
   "outputs": [
    {
     "name": "stdout",
     "output_type": "stream",
     "text": [
      "5400\n"
     ]
    }
   ],
   "source": [
    "# Label Indexing\n",
    "import pandas as pd\n",
    "import numpy as np\n",
    "data = np.array([5400,2500,7634,8725])\n",
    "# providing an index\n",
    "ser = pd.Series(data, index =['North', 'East', 'South', 'West'])\n",
    "print(ser['North'])"
   ]
  },
  {
   "cell_type": "markdown",
   "id": "637b6109",
   "metadata": {},
   "source": [
    "# Boolean Indexing"
   ]
  },
  {
   "cell_type": "code",
   "execution_count": 10,
   "id": "791e5209",
   "metadata": {},
   "outputs": [
    {
     "name": "stdout",
     "output_type": "stream",
     "text": [
      "0    False\n",
      "1    False\n",
      "2    False\n",
      "3     True\n",
      "4     True\n",
      "5     True\n",
      "dtype: bool\n",
      "3    12\n",
      "4    34\n",
      "5    56\n",
      "dtype: int64\n",
      "0    2\n",
      "1    5\n",
      "2    9\n",
      "dtype: int64\n",
      "3    12\n",
      "dtype: int64\n"
     ]
    }
   ],
   "source": [
    "s1=[2,5,9,12,34,56]\n",
    "import pandas as pd\n",
    "ser1=pd.Series(s1)\n",
    "print(ser1>10)\n",
    "print(ser1[ser1>10])\n",
    "print(ser1[~(ser1>10)])       #logical Operator NOT~\n",
    "print(ser1[(ser1>10) & (ser1<30)])  #Logical Operator and\n"
   ]
  },
  {
   "cell_type": "code",
   "execution_count": 11,
   "id": "e84c7bfa",
   "metadata": {},
   "outputs": [
    {
     "name": "stdout",
     "output_type": "stream",
     "text": [
      "Eng        30\n",
      "Science    40\n",
      "dtype: int64\n"
     ]
    }
   ],
   "source": [
    "# Position Slicing \n",
    "import pandas as pd\n",
    "s = [\"Eng\",\"Science\",\"Math\"]\n",
    "g = [30,40,50]\n",
    "ser = pd.Series(g, index = s)\n",
    "print(ser[0:2])\n"
   ]
  },
  {
   "cell_type": "code",
   "execution_count": 12,
   "id": "e8816569",
   "metadata": {},
   "outputs": [
    {
     "name": "stdout",
     "output_type": "stream",
     "text": [
      "Eng        30\n",
      "Science    40\n",
      "Math       50\n",
      "dtype: int64\n"
     ]
    }
   ],
   "source": [
    "#Label Slicing\n",
    "import pandas as pd\n",
    "s = [\"Eng\",\"Science\",\"Math\"]\n",
    "g = [30,40,50]\n",
    "ser = pd.Series(g, index = s)\n",
    "print(ser)\n"
   ]
  },
  {
   "cell_type": "code",
   "execution_count": 13,
   "id": "c176eb10",
   "metadata": {},
   "outputs": [
    {
     "name": "stdout",
     "output_type": "stream",
     "text": [
      "French        50\n",
      "English       90\n",
      "Maths         90\n",
      "Geography     78\n",
      "Science      100\n",
      "dtype: int64\n"
     ]
    }
   ],
   "source": [
    "# Modifying the value using slicing and indexing\n",
    "import pandas as pd\n",
    "subject=['French','English','Maths','Geography','Science']\n",
    "#list of subjects\n",
    "boys= [50,60,70,78,80]\n",
    "series2 = pd.Series(boys,index=subject)\n",
    "series2['English':'Maths']=90   #slicing\n",
    "series2[4]=100                #Indexing\n",
    "print(series2)"
   ]
  },
  {
   "cell_type": "code",
   "execution_count": 14,
   "id": "c46f791b",
   "metadata": {},
   "outputs": [
    {
     "name": "stdout",
     "output_type": "stream",
     "text": [
      "Eng         50\n",
      "Maths       68\n",
      "Physics     78\n",
      "Chem        90\n",
      "Accounts    96\n",
      "dtype: int64\n",
      "bs     80\n",
      "h      90\n",
      "bio    98\n",
      "dtype: int64\n",
      "First five rows Eng      50\n",
      "Maths    68\n",
      "dtype: int64\n",
      "Last five Rows bio    98\n",
      "dtype: int64\n",
      "Number of values in series S 10\n",
      "Number of values in series d1: 3\n",
      "Sum of the values 268\n"
     ]
    }
   ],
   "source": [
    "# Using Head and Tail Method\n",
    "import pandas as pd\n",
    "sub=['Eng','Maths','Physics','Chem','Accounts','IP','cs','bs','h','bio']\n",
    "marks = [50,68,78,90,96,98,60,80,90,98]\n",
    "s = pd.Series(marks, index = sub)\n",
    "d = s.head(5)\n",
    "d1 = s.tail(3)\n",
    "print(d)\n",
    "print(d1)\n",
    "print(\"First five rows\",d.head(2))\n",
    "print(\"Last five Rows\", d1.tail(1))\n",
    "print(\"Number of values in series S\", s.count())\n",
    "print(\"Number of values in series d1:\", d1.count())\n",
    "print(\"Sum of the values\", d1.sum())"
   ]
  },
  {
   "cell_type": "code",
   "execution_count": 30,
   "id": "23b07da1",
   "metadata": {},
   "outputs": [
    {
     "name": "stdout",
     "output_type": "stream",
     "text": [
      "[523 669 735 984 990 354 144 638 932 162 201 108 921 835 662 620 636 226\n",
      " 223 401]\n",
      "Product of Series: 9.803231950843605e+39\n",
      "0     523.0\n",
      "1     669.0\n",
      "2     735.0\n",
      "3     984.0\n",
      "4     990.0\n",
      "5     354.0\n",
      "6     144.0\n",
      "7     638.0\n",
      "8     932.0\n",
      "9     162.0\n",
      "10      NaN\n",
      "11      NaN\n",
      "12      NaN\n",
      "13      NaN\n",
      "14      NaN\n",
      "dtype: float64\n"
     ]
    }
   ],
   "source": [
    "import pandas as pd\n",
    "import numpy as np\n",
    "a = np.random.randint(100,1000,20)\n",
    "print(a)\n",
    "ser = pd.Series(a)\n",
    "ser[10:15]= None\n",
    "print(\"Product of Series:\",ser.prod())\n",
    "b = ser.head(15)\n",
    "print(b)"
   ]
  },
  {
   "cell_type": "code",
   "execution_count": 39,
   "id": "9dcdd307",
   "metadata": {},
   "outputs": [
    {
     "name": "stdout",
     "output_type": "stream",
     "text": [
      "Mean Value 410.5833333333333\n",
      "Maximum value 990.0\n",
      "Minimum value 50.0\n",
      "Asecending order 10     50.0\n",
      "11     50.0\n",
      "12     50.0\n",
      "13     50.0\n",
      "6     144.0\n",
      "9     162.0\n",
      "5     354.0\n",
      "0     523.0\n",
      "7     638.0\n",
      "8     932.0\n",
      "3     984.0\n",
      "4     990.0\n",
      "1       NaN\n",
      "2       NaN\n",
      "14      NaN\n",
      "dtype: float64\n",
      "Descending order 4     990.0\n",
      "3     984.0\n",
      "8     932.0\n",
      "7     638.0\n",
      "0     523.0\n",
      "5     354.0\n",
      "9     162.0\n",
      "6     144.0\n",
      "10     50.0\n",
      "11     50.0\n",
      "12     50.0\n",
      "13     50.0\n",
      "1       NaN\n",
      "2       NaN\n",
      "14      NaN\n",
      "dtype: float64\n"
     ]
    }
   ],
   "source": [
    "b[1:3]=None\n",
    "b[10:14] = 50\n",
    "print(\"Mean Value\",b.mean())  # Mean Value\n",
    "print(\"Maximum value\", b.max())\n",
    "print(\"Minimum value\", b.min())\n",
    "print(\"Asecending order\", b.sort_values())\n",
    "print(\"Descending order\", b.sort_values(ascending = False))\n"
   ]
  },
  {
   "cell_type": "code",
   "execution_count": 40,
   "id": "2a44bc03",
   "metadata": {},
   "outputs": [
    {
     "data": {
      "text/plain": [
       "0     False\n",
       "1      True\n",
       "2      True\n",
       "3     False\n",
       "4     False\n",
       "5     False\n",
       "6     False\n",
       "7     False\n",
       "8     False\n",
       "9     False\n",
       "10    False\n",
       "11    False\n",
       "12    False\n",
       "13    False\n",
       "14     True\n",
       "dtype: bool"
      ]
     },
     "execution_count": 40,
     "metadata": {},
     "output_type": "execute_result"
    }
   ],
   "source": [
    "b.isnull()"
   ]
  },
  {
   "cell_type": "code",
   "execution_count": 9,
   "id": "f0c67c20",
   "metadata": {},
   "outputs": [
    {
     "name": "stdout",
     "output_type": "stream",
     "text": [
      "a    70.0\n",
      "b    30.0\n",
      "c    40.0\n",
      "d    90.0\n",
      "e    90.0\n",
      "f    30.0\n",
      "g    80.0\n",
      "dtype: float64\n"
     ]
    }
   ],
   "source": [
    "import pandas as PD\n",
    "ser1 = PD.Series([10,20,30,40,50],index=['a','b','c','d','e'])\n",
    "ser2 = PD.Series([60,20,50,40,70],index=['a','f','d','e','g'])\n",
    "c = ser1+ser2\n",
    "print(ser1.add(ser2,fill_value = 10))"
   ]
  },
  {
   "cell_type": "code",
   "execution_count": 10,
   "id": "67b6c738",
   "metadata": {},
   "outputs": [
    {
     "name": "stdout",
     "output_type": "stream",
     "text": [
      "a   -50.0\n",
      "b    10.0\n",
      "c    20.0\n",
      "d   -10.0\n",
      "e    10.0\n",
      "f   -10.0\n",
      "g   -60.0\n",
      "dtype: float64\n"
     ]
    }
   ],
   "source": [
    "import pandas as PD\n",
    "ser1 = PD.Series([10,20,30,40,50],index=['a','b','c','d','e'])\n",
    "ser2 = PD.Series([60,20,50,40,70],index=['a','f','d','e','g'])\n",
    "c = ser1-ser2\n",
    "print(ser1.sub(ser2,fill_value = 10))"
   ]
  },
  {
   "cell_type": "code",
   "execution_count": 14,
   "id": "1da08934",
   "metadata": {},
   "outputs": [
    {
     "name": "stdout",
     "output_type": "stream",
     "text": [
      "a     600.0\n",
      "b     200.0\n",
      "c     300.0\n",
      "d    2000.0\n",
      "e    2000.0\n",
      "f     200.0\n",
      "g     700.0\n",
      "dtype: float64\n"
     ]
    }
   ],
   "source": [
    "import pandas as PD\n",
    "ser1 = PD.Series([10,20,30,40,50],index=['a','b','c','d','e'])\n",
    "ser2 = PD.Series([60,20,50,40,70],index=['a','f','d','e','g'])\n",
    "print(ser1.mul(ser2,fill_value = 10))"
   ]
  },
  {
   "cell_type": "code",
   "execution_count": 12,
   "id": "1b0587b7",
   "metadata": {},
   "outputs": [
    {
     "name": "stdout",
     "output_type": "stream",
     "text": [
      "a    0.166667\n",
      "b    2.000000\n",
      "c    3.000000\n",
      "d    0.800000\n",
      "e    1.250000\n",
      "f    0.500000\n",
      "g    0.142857\n",
      "dtype: float64\n"
     ]
    }
   ],
   "source": [
    "import pandas as PD\n",
    "ser1 = PD.Series([10,20,30,40,50],index=['a','b','c','d','e'])\n",
    "ser2 = PD.Series([60,20,50,40,70],index=['a','f','d','e','g'])\n",
    "print(ser1.div(ser2,fill_value = 10))"
   ]
  },
  {
   "cell_type": "code",
   "execution_count": null,
   "id": "3d4f67f8",
   "metadata": {},
   "outputs": [],
   "source": []
  }
 ],
 "metadata": {
  "kernelspec": {
   "display_name": "Python 3",
   "language": "python",
   "name": "python3"
  },
  "language_info": {
   "codemirror_mode": {
    "name": "ipython",
    "version": 3
   },
   "file_extension": ".py",
   "mimetype": "text/x-python",
   "name": "python",
   "nbconvert_exporter": "python",
   "pygments_lexer": "ipython3",
   "version": "3.8.3"
  }
 },
 "nbformat": 4,
 "nbformat_minor": 5
}
