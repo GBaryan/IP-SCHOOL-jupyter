{
 "cells": [
  {
   "cell_type": "markdown",
   "id": "e6dfcb87",
   "metadata": {},
   "source": [
    "# 30/06/2022 Q"
   ]
  },
  {
   "cell_type": "markdown",
   "id": "526eca99",
   "metadata": {},
   "source": [
    "# GIVEN DATAFRAME"
   ]
  },
  {
   "cell_type": "code",
   "execution_count": 1,
   "id": "f1d51b92",
   "metadata": {},
   "outputs": [
    {
     "name": "stdout",
     "output_type": "stream",
     "text": [
      "   Rollno.          Name  UT 1  UT 2  UT 3  UT 4\n",
      "0        1  Paras Sharma    24    24    20    22\n",
      "1        2   Mohan Kumar    18    17    19    22\n",
      "2        3   Virat Kohli    21    22    18    24\n",
      "3        4      Sugandha    22    20    24    20\n"
     ]
    }
   ],
   "source": [
    "import pandas as pd\n",
    "A={\"Rollno.\":[1,2,3,4],\"Name\":[\"Paras Sharma\",\"Mohan Kumar\",\"Virat Kohli\",\"Sugandha\"],\n",
    "   \"UT 1\":[24,18,21,22],\"UT 2\":[24,17,22,20],\"UT 3\":[20,19,18,24],\"UT 4\":[22,22,24,20]}\n",
    "B=pd.DataFrame(A)\n",
    "print(B)"
   ]
  },
  {
   "cell_type": "markdown",
   "id": "bb61f100",
   "metadata": {},
   "source": [
    "## Q1"
   ]
  },
  {
   "cell_type": "code",
   "execution_count": 2,
   "id": "f6724a64",
   "metadata": {},
   "outputs": [
    {
     "name": "stdout",
     "output_type": "stream",
     "text": [
      "Rollno.              3\n",
      "Name       Virat Kohli\n",
      "UT 1                21\n",
      "UT 2                22\n",
      "UT 3                18\n",
      "UT 4                24\n",
      "Name: 2, dtype: object\n"
     ]
    }
   ],
   "source": [
    "print(B.loc[2])"
   ]
  },
  {
   "cell_type": "markdown",
   "id": "2a56aeb7",
   "metadata": {},
   "source": [
    "## Q2"
   ]
  },
  {
   "cell_type": "code",
   "execution_count": 3,
   "id": "42d611e1",
   "metadata": {},
   "outputs": [
    {
     "name": "stdout",
     "output_type": "stream",
     "text": [
      "Rollno.           4\n",
      "Name       Sugandha\n",
      "UT 1             22\n",
      "UT 2             20\n",
      "UT 3             24\n",
      "UT 4             20\n",
      "Name: 3, dtype: object\n"
     ]
    }
   ],
   "source": [
    "print(B.loc[3])"
   ]
  },
  {
   "cell_type": "markdown",
   "id": "a849893c",
   "metadata": {},
   "source": [
    "## Q3"
   ]
  },
  {
   "cell_type": "code",
   "execution_count": 4,
   "id": "6825a05c",
   "metadata": {},
   "outputs": [
    {
     "name": "stdout",
     "output_type": "stream",
     "text": [
      "EXACT NUMBER OF VALUES IN EACH COLUMN OF THE DATAFRAME IS: Rollno.    4\n",
      "Name       4\n",
      "UT 1       4\n",
      "UT 2       4\n",
      "UT 3       4\n",
      "UT 4       4\n",
      "dtype: int64\n"
     ]
    }
   ],
   "source": [
    "print(\"EXACT NUMBER OF VALUES IN EACH COLUMN OF THE DATAFRAME IS:\",B.count())"
   ]
  },
  {
   "cell_type": "markdown",
   "id": "eef0cd5d",
   "metadata": {},
   "source": [
    "## Q4"
   ]
  },
  {
   "cell_type": "code",
   "execution_count": 10,
   "id": "e855db43",
   "metadata": {},
   "outputs": [
    {
     "name": "stdout",
     "output_type": "stream",
     "text": [
      "Index(['Rollno.', 'Name', 'UT 1', 'UT 2', 'UT 3', 'UT 4', 'Grade'], dtype='object')\n"
     ]
    }
   ],
   "source": [
    "print(B.columns)"
   ]
  },
  {
   "cell_type": "markdown",
   "id": "f4796aa7",
   "metadata": {},
   "source": [
    "## Q5"
   ]
  },
  {
   "cell_type": "code",
   "execution_count": 6,
   "id": "6828d60e",
   "metadata": {},
   "outputs": [
    {
     "name": "stdout",
     "output_type": "stream",
     "text": [
      "   Rollno.          Name  UT 1  UT 2  UT 3  UT 4 Grade\n",
      "0        1  Paras Sharma    24    24    20    22     A\n",
      "1        2   Mohan Kumar    18    17    19    22     B\n",
      "2        3   Virat Kohli    21    22    18    24     A\n",
      "3        4      Sugandha    22    20    24    20     A\n"
     ]
    }
   ],
   "source": [
    "B[\"Grade\"]=['A','B','A','A']\n",
    "print(B)"
   ]
  },
  {
   "cell_type": "markdown",
   "id": "f7513411",
   "metadata": {},
   "source": [
    "## Q6"
   ]
  },
  {
   "cell_type": "code",
   "execution_count": 7,
   "id": "ebca07ed",
   "metadata": {},
   "outputs": [
    {
     "name": "stdout",
     "output_type": "stream",
     "text": [
      "   Rollno.          Name  UT 1  UT 2  UT 3  UT 4 Grade\n",
      "0        1  Paras Sharma    24    24    20    22     A\n",
      "1        2   Mohan Kumar    18    17    19    22     B\n",
      "2        3   Virat Kohli    21    22    18    24     A\n"
     ]
    }
   ],
   "source": [
    "print(B.head(3))"
   ]
  },
  {
   "cell_type": "markdown",
   "id": "e7c017a1",
   "metadata": {},
   "source": [
    "## Q7"
   ]
  },
  {
   "cell_type": "code",
   "execution_count": 15,
   "id": "e9638748",
   "metadata": {},
   "outputs": [
    {
     "name": "stdout",
     "output_type": "stream",
     "text": [
      "   Rollno.         Name  UT 1  UT 2  UT 3  UT 4 Grade  Total\n",
      "2        3  Virat Kohli    21    22    18    24     A     85\n"
     ]
    }
   ],
   "source": [
    "print(B[2:3])"
   ]
  },
  {
   "cell_type": "markdown",
   "id": "4bbd2c07",
   "metadata": {},
   "source": [
    "## Q8"
   ]
  },
  {
   "cell_type": "code",
   "execution_count": 31,
   "id": "361a2083",
   "metadata": {},
   "outputs": [
    {
     "name": "stdout",
     "output_type": "stream",
     "text": [
      "   Rollno.          Name  UT 1  UT 2  UT 3  UT 4 Grade  Total\n",
      "0        1  Paras Sharma    24    24    20    22     A     90\n",
      "1        2   Mohan Kumar    18    17    19    22     B     76\n",
      "2        3   Virat Kohli    21    22    18    24     A     85\n",
      "3        4      Sugandha    22    20    24    20     A     86\n"
     ]
    }
   ],
   "source": [
    "B[\"Total\"]=B[\"UT 1\"]+B[\"UT 2\"]+B[\"UT 3\"]+B[\"UT 4\"]\n",
    "print(B)"
   ]
  },
  {
   "cell_type": "markdown",
   "id": "ea7a8319",
   "metadata": {},
   "source": [
    "## Q9"
   ]
  },
  {
   "cell_type": "code",
   "execution_count": 17,
   "id": "c3c9d089",
   "metadata": {},
   "outputs": [
    {
     "name": "stdout",
     "output_type": "stream",
     "text": [
      "   Rollno.          Name  UT 1  UT 2  UT 3  UT 4 Grade  Total\n",
      "0        1  Paras Sharma    24    24    20    22     A     90\n",
      "1        2   Mohan Kumar    18    17    19    22     B     76\n",
      "2        3   Virat Kohli    21    22    18    24     A     85\n"
     ]
    }
   ],
   "source": [
    "df=B.drop(3,axis=0)\n",
    "print(df)"
   ]
  },
  {
   "cell_type": "markdown",
   "id": "5dcfeaf2",
   "metadata": {},
   "source": [
    "## Q10"
   ]
  },
  {
   "cell_type": "code",
   "execution_count": 20,
   "id": "a0e79071",
   "metadata": {},
   "outputs": [
    {
     "name": "stdout",
     "output_type": "stream",
     "text": [
      "No. of dimension of the dataframe = 2\n",
      "shape of the dataframe = (3, 8)\n"
     ]
    }
   ],
   "source": [
    "print(\"No. of dimension of the dataframe =\",df.ndim)\n",
    "print(\"shape of the dataframe =\",df.shape)"
   ]
  },
  {
   "cell_type": "markdown",
   "id": "5d90c607",
   "metadata": {},
   "source": [
    "## Q11"
   ]
  },
  {
   "cell_type": "code",
   "execution_count": 21,
   "id": "86e9bacc",
   "metadata": {},
   "outputs": [
    {
     "name": "stdout",
     "output_type": "stream",
     "text": [
      "Total no. of elements in the dataframe = 24\n"
     ]
    }
   ],
   "source": [
    "print(\"Total no. of elements in the dataframe =\",df.size)"
   ]
  },
  {
   "cell_type": "markdown",
   "id": "9b3a2edf",
   "metadata": {},
   "source": [
    "## Q12 "
   ]
  },
  {
   "cell_type": "code",
   "execution_count": 25,
   "id": "aa50cadb",
   "metadata": {},
   "outputs": [
    {
     "name": "stdout",
     "output_type": "stream",
     "text": [
      "   Rollno.   Name   UT 1   UT 2   UT 3   UT 4  Grade  Total\n",
      "0    False  False  False  False  False  False  False  False\n",
      "1    False  False  False  False  False  False  False  False\n",
      "2    False  False  False  False  False  False  False  False\n"
     ]
    }
   ],
   "source": [
    "print(df.isna())"
   ]
  },
  {
   "cell_type": "markdown",
   "id": "664e28af",
   "metadata": {},
   "source": [
    "## Q13"
   ]
  },
  {
   "cell_type": "code",
   "execution_count": 33,
   "id": "d68b705d",
   "metadata": {},
   "outputs": [
    {
     "name": "stdout",
     "output_type": "stream",
     "text": [
      "Max value in the dataframe =\n",
      " Rollno.              3\n",
      "Name       Virat Kohli\n",
      "UT 1                24\n",
      "UT 2                24\n",
      "UT 3                20\n",
      "UT 4                24\n",
      "Grade                B\n",
      "Total               90\n",
      "dtype: object\n"
     ]
    }
   ],
   "source": [
    "print(\"Max value in the dataframe =\\n\",df.max())"
   ]
  },
  {
   "cell_type": "markdown",
   "id": "584be858",
   "metadata": {},
   "source": [
    "## Q14"
   ]
  },
  {
   "cell_type": "code",
   "execution_count": 34,
   "id": "9b68ae63",
   "metadata": {},
   "outputs": [
    {
     "name": "stdout",
     "output_type": "stream",
     "text": [
      "Min value in the dataframe =\n",
      " Rollno.              1\n",
      "Name       Mohan Kumar\n",
      "UT 1                18\n",
      "UT 2                17\n",
      "UT 3                18\n",
      "UT 4                22\n",
      "Grade                A\n",
      "Total               76\n",
      "dtype: object\n"
     ]
    }
   ],
   "source": [
    "print(\"Min value in the dataframe =\\n\",df.min())"
   ]
  },
  {
   "cell_type": "markdown",
   "id": "f87f337f",
   "metadata": {},
   "source": []
  },
  {
   "cell_type": "markdown",
   "id": "28a9a450",
   "metadata": {},
   "source": [
    "# 01/07/2022 Q"
   ]
  },
  {
   "cell_type": "markdown",
   "id": "f8c754f2",
   "metadata": {},
   "source": [
    "# GIVEN DATAFRAME"
   ]
  },
  {
   "cell_type": "code",
   "execution_count": 3,
   "id": "a1db307e",
   "metadata": {},
   "outputs": [
    {
     "name": "stdout",
     "output_type": "stream",
     "text": [
      "           UT 1  Half Yearly  UT 2  Final\n",
      "0  Sharad    57           83    49     89\n",
      "1   Mansi    86           67    87     90\n",
      "2  Kanika    92           78    45     66\n",
      "3  Ramesh    52           84    55     78\n",
      "4  Ankita    93           75    87     69\n",
      "5  Pranay    98           79    88     96\n"
     ]
    }
   ],
   "source": [
    "import pandas as pd\n",
    "df={\"\":[\"Sharad\",\"Mansi\",\"Kanika\",\"Ramesh\",\"Ankita\",\"Pranay\"],\n",
    "   \"UT 1\":[57,86,92,52,93,98],\"Half Yearly\":[83,67,78,84,75,79],\n",
    "   \"UT 2\":[49,87,45,55,87,88],\"Final\":[89,90,66,78,69,96]}\n",
    "K=pd.DataFrame(df)\n",
    "print(K)"
   ]
  },
  {
   "cell_type": "markdown",
   "id": "d136d10f",
   "metadata": {},
   "source": [
    "## Q1"
   ]
  },
  {
   "cell_type": "code",
   "execution_count": 13,
   "id": "4ca89163",
   "metadata": {},
   "outputs": [
    {
     "data": {
      "text/html": [
       "<div>\n",
       "<style scoped>\n",
       "    .dataframe tbody tr th:only-of-type {\n",
       "        vertical-align: middle;\n",
       "    }\n",
       "\n",
       "    .dataframe tbody tr th {\n",
       "        vertical-align: top;\n",
       "    }\n",
       "\n",
       "    .dataframe thead th {\n",
       "        text-align: right;\n",
       "    }\n",
       "</style>\n",
       "<table border=\"1\" class=\"dataframe\">\n",
       "  <thead>\n",
       "    <tr style=\"text-align: right;\">\n",
       "      <th></th>\n",
       "      <th>Roll no.</th>\n",
       "      <th>UT 1</th>\n",
       "      <th>Half Yearly</th>\n",
       "      <th>UT 2</th>\n",
       "      <th>Final</th>\n",
       "    </tr>\n",
       "  </thead>\n",
       "  <tbody>\n",
       "    <tr>\n",
       "      <th>0</th>\n",
       "      <td>1</td>\n",
       "      <td>57</td>\n",
       "      <td>83</td>\n",
       "      <td>49</td>\n",
       "      <td>89</td>\n",
       "    </tr>\n",
       "    <tr>\n",
       "      <th>1</th>\n",
       "      <td>2</td>\n",
       "      <td>86</td>\n",
       "      <td>67</td>\n",
       "      <td>87</td>\n",
       "      <td>90</td>\n",
       "    </tr>\n",
       "    <tr>\n",
       "      <th>2</th>\n",
       "      <td>3</td>\n",
       "      <td>92</td>\n",
       "      <td>78</td>\n",
       "      <td>45</td>\n",
       "      <td>66</td>\n",
       "    </tr>\n",
       "    <tr>\n",
       "      <th>3</th>\n",
       "      <td>4</td>\n",
       "      <td>52</td>\n",
       "      <td>84</td>\n",
       "      <td>55</td>\n",
       "      <td>78</td>\n",
       "    </tr>\n",
       "    <tr>\n",
       "      <th>4</th>\n",
       "      <td>5</td>\n",
       "      <td>93</td>\n",
       "      <td>75</td>\n",
       "      <td>87</td>\n",
       "      <td>69</td>\n",
       "    </tr>\n",
       "    <tr>\n",
       "      <th>5</th>\n",
       "      <td>6</td>\n",
       "      <td>98</td>\n",
       "      <td>79</td>\n",
       "      <td>88</td>\n",
       "      <td>96</td>\n",
       "    </tr>\n",
       "  </tbody>\n",
       "</table>\n",
       "</div>"
      ],
      "text/plain": [
       "   Roll no.  UT 1  Half Yearly  UT 2  Final\n",
       "0         1    57           83    49     89\n",
       "1         2    86           67    87     90\n",
       "2         3    92           78    45     66\n",
       "3         4    52           84    55     78\n",
       "4         5    93           75    87     69\n",
       "5         6    98           79    88     96"
      ]
     },
     "execution_count": 13,
     "metadata": {},
     "output_type": "execute_result"
    }
   ],
   "source": [
    "L=K.rename({\"\":\"Roll no.\"},axis=1)\n",
    "L[\"Roll no.\"]=[1,2,3,4,5,6]\n",
    "print(L)"
   ]
  },
  {
   "cell_type": "markdown",
   "id": "2431cb7a",
   "metadata": {},
   "source": [
    "# Q2"
   ]
  },
  {
   "cell_type": "code",
   "execution_count": null,
   "id": "18dda254",
   "metadata": {},
   "outputs": [],
   "source": []
  },
  {
   "cell_type": "code",
   "execution_count": null,
   "id": "41866db0",
   "metadata": {},
   "outputs": [],
   "source": []
  }
 ],
 "metadata": {
  "kernelspec": {
   "display_name": "Python 3 (ipykernel)",
   "language": "python",
   "name": "python3"
  },
  "language_info": {
   "codemirror_mode": {
    "name": "ipython",
    "version": 3
   },
   "file_extension": ".py",
   "mimetype": "text/x-python",
   "name": "python",
   "nbconvert_exporter": "python",
   "pygments_lexer": "ipython3",
   "version": "3.9.7"
  }
 },
 "nbformat": 4,
 "nbformat_minor": 5
}
