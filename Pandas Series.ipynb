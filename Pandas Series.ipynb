{
 "cells": [
  {
   "cell_type": "markdown",
   "id": "48e4942b",
   "metadata": {},
   "source": [
    "# DATA HANDLING WITH PANDAS"
   ]
  },
  {
   "cell_type": "markdown",
   "id": "c2fe4a8e",
   "metadata": {},
   "source": [
    "## 1. Creating Empty Series"
   ]
  },
  {
   "cell_type": "code",
   "execution_count": 1,
   "id": "439c612f",
   "metadata": {},
   "outputs": [
    {
     "name": "stdout",
     "output_type": "stream",
     "text": [
      "Series([], dtype: float64)\n"
     ]
    }
   ],
   "source": [
    "\n",
    "import pandas as pd\n",
    "import numpy as np\n",
    "A=np.array([])                                                        #EMPTY SERIES#\n",
    "K=pd.Series(A)\n",
    "print(K)\n",
    "K.to_csv('ABC.csv')"
   ]
  },
  {
   "cell_type": "markdown",
   "id": "65f6f696",
   "metadata": {},
   "source": [
    "## 2. Creating Series using list and changing index"
   ]
  },
  {
   "cell_type": "code",
   "execution_count": 2,
   "id": "28f302f6",
   "metadata": {},
   "outputs": [
    {
     "name": "stdout",
     "output_type": "stream",
     "text": [
      "a    1\n",
      "r    2\n",
      "y    3\n",
      "a    4\n",
      "n    5\n",
      "dtype: int64\n"
     ]
    }
   ],
   "source": [
    "\n",
    "import pandas as pd\n",
    "import numpy as np\n",
    "A=np.array([1,2,3,4,5])                                             #SERIES FROM LIST#\n",
    "G=pd.Series(A,index=['a','r','y','a','n'])\n",
    "print(G)\n",
    "K.to_csv('DEF.csv')\n"
   ]
  },
  {
   "cell_type": "markdown",
   "id": "62800a96",
   "metadata": {},
   "source": [
    "## 3. Creating Series using Dictionaries"
   ]
  },
  {
   "cell_type": "code",
   "execution_count": 3,
   "id": "8029fcb6",
   "metadata": {},
   "outputs": [
    {
     "name": "stdout",
     "output_type": "stream",
     "text": [
      "1      Aryan\n",
      "2     Annany\n",
      "3     Ishita\n",
      "4    Kritika\n",
      "dtype: object\n"
     ]
    }
   ],
   "source": [
    "\n",
    "import pandas as pd\n",
    "import numpy as np                                               #SERIES FROM DICTIONARY#\n",
    "A={1:'Aryan',2:'Annany',3:'Ishita',4:'Kritika'}\n",
    "T=pd.Series(A)\n",
    "print(T)"
   ]
  },
  {
   "cell_type": "markdown",
   "id": "05aeb587",
   "metadata": {},
   "source": [
    "## 4. Creating Series Directly "
   ]
  },
  {
   "cell_type": "code",
   "execution_count": 4,
   "id": "1c16cabe",
   "metadata": {},
   "outputs": [
    {
     "name": "stdout",
     "output_type": "stream",
     "text": [
      "n    1\n",
      "o    2\n",
      "n    3\n",
      "u    4\n",
      "dtype: int64\n"
     ]
    }
   ],
   "source": [
    "import pandas as pd \n",
    "S=pd.Series([1,2,3,4],index=['n','o','n','u'])\n",
    "print(S)"
   ]
  },
  {
   "cell_type": "markdown",
   "id": "b3928258",
   "metadata": {},
   "source": [
    "## 5. Query regarding series and indexing"
   ]
  },
  {
   "cell_type": "code",
   "execution_count": 5,
   "id": "ce64bc42",
   "metadata": {},
   "outputs": [
    {
     "name": "stdout",
     "output_type": "stream",
     "text": [
      "0    a\n",
      "1    b\n",
      "2    c\n",
      "3    4\n",
      "dtype: object RangeIndex(start=0, stop=4, step=1)\n"
     ]
    }
   ],
   "source": [
    "import pandas as pd\n",
    "A=pd.Series(['a','b','c','4'])\n",
    "print(A,A.index)\n"
   ]
  },
  {
   "cell_type": "markdown",
   "id": "ac1f25c3",
   "metadata": {},
   "source": [
    "## 6. Using hasNan"
   ]
  },
  {
   "cell_type": "code",
   "execution_count": 6,
   "id": "3f5bbaec",
   "metadata": {},
   "outputs": [
    {
     "name": "stdout",
     "output_type": "stream",
     "text": [
      "0       1\n",
      "1       2\n",
      "2       3\n",
      "3       4\n",
      "4       5\n",
      "5    None\n",
      "dtype: object\n",
      "Checking HasNan : True\n"
     ]
    },
    {
     "name": "stderr",
     "output_type": "stream",
     "text": [
      "/tmp/ipykernel_2706/2347842654.py:3: DeprecationWarning: `np.object` is a deprecated alias for the builtin `object`. To silence this warning, use `object` by itself. Doing this will not modify any behavior and is safe. \n",
      "Deprecated in NumPy 1.20; for more details and guidance: https://numpy.org/devdocs/release/1.20.0-notes.html#deprecations\n",
      "  A=pd.Series([1,2,3,4,5,None],dtype=np.object)\n"
     ]
    }
   ],
   "source": [
    "import pandas as pd\n",
    "import numpy as np \n",
    "A=pd.Series([1,2,3,4,5,None],dtype=np.object)\n",
    "print(A)\n",
    "print('Checking HasNan :',A.hasnans)"
   ]
  },
  {
   "cell_type": "markdown",
   "id": "8861b2b9",
   "metadata": {},
   "source": [
    "## 7. Using Head Function"
   ]
  },
  {
   "cell_type": "code",
   "execution_count": 7,
   "id": "3c338cf2",
   "metadata": {},
   "outputs": [
    {
     "name": "stdout",
     "output_type": "stream",
     "text": [
      "Aryan      1\n",
      "Bhavesh    2\n",
      "dtype: int64\n"
     ]
    }
   ],
   "source": [
    "import pandas as pd\n",
    "A=['Aryan','Bhavesh','Annany','Rajesh Sir']\n",
    "R=[1,2,3,4]\n",
    "S=pd.Series(R,index=A)\n",
    "D=S.head(2)\n",
    "print(D)    # IT SHOWS FIRST 2 ELEMENTS"
   ]
  },
  {
   "cell_type": "markdown",
   "id": "323de09b",
   "metadata": {},
   "source": [
    "## 8. Using Tail Function"
   ]
  },
  {
   "cell_type": "code",
   "execution_count": 8,
   "id": "f181cd99",
   "metadata": {},
   "outputs": [
    {
     "name": "stdout",
     "output_type": "stream",
     "text": [
      "Annany        3\n",
      "Rajesh Sir    4\n",
      "dtype: int64\n"
     ]
    }
   ],
   "source": [
    "import pandas as pd\n",
    "A=['Aryan','Bhavesh','Annany','Rajesh Sir']\n",
    "R=[1,2,3,4]\n",
    "S=pd.Series(R,index=A)\n",
    "D=S.tail(2)\n",
    "print(D)    # IT SHOWS LAST 2 ELEMENTS"
   ]
  },
  {
   "cell_type": "markdown",
   "id": "d9121246",
   "metadata": {},
   "source": [
    "## 9. Using Count Function"
   ]
  },
  {
   "cell_type": "code",
   "execution_count": 9,
   "id": "1ff55446",
   "metadata": {},
   "outputs": [
    {
     "name": "stdout",
     "output_type": "stream",
     "text": [
      "TOTAL NO. OF ELEMENTS IN A = 4\n"
     ]
    }
   ],
   "source": [
    "import pandas as pd\n",
    "A=['Aryan','Bhavesh','Annany','Rajesh Sir']\n",
    "S=pd.Series(A)\n",
    "print(\"TOTAL NO. OF ELEMENTS IN A =\",S.count())"
   ]
  },
  {
   "cell_type": "markdown",
   "id": "edbb5688",
   "metadata": {},
   "source": [
    "## 10. Using sum funtion"
   ]
  },
  {
   "cell_type": "code",
   "execution_count": 10,
   "id": "b6c6e431",
   "metadata": {},
   "outputs": [
    {
     "name": "stdout",
     "output_type": "stream",
     "text": [
      "SUM OF ELEMENTS IN A = 55\n"
     ]
    }
   ],
   "source": [
    "import pandas as pd\n",
    "A=[1,2,3,4,5,6,7,8,9,10]\n",
    "S=pd.Series(A)\n",
    "print(\"SUM OF ELEMENTS IN A =\",S.sum())"
   ]
  },
  {
   "cell_type": "markdown",
   "id": "2b31aff5",
   "metadata": {},
   "source": [
    "## 11. Finding Maximum value"
   ]
  },
  {
   "cell_type": "code",
   "execution_count": 11,
   "id": "201aadae",
   "metadata": {},
   "outputs": [
    {
     "name": "stdout",
     "output_type": "stream",
     "text": [
      "Maximum value in A = 10\n"
     ]
    }
   ],
   "source": [
    "import pandas as pd\n",
    "A=[1,2,3,4,5,6,7,8,9,10]\n",
    "S=pd.Series(A)\n",
    "print(\"Maximum value in A =\",S.max())"
   ]
  },
  {
   "cell_type": "markdown",
   "id": "68354e09",
   "metadata": {},
   "source": [
    "## 12. Finding Minimum value"
   ]
  },
  {
   "cell_type": "code",
   "execution_count": 12,
   "id": "e3be2999",
   "metadata": {},
   "outputs": [
    {
     "name": "stdout",
     "output_type": "stream",
     "text": [
      "Minimum value in A = 1\n"
     ]
    }
   ],
   "source": [
    "import pandas as pd\n",
    "A=[1,2,3,4,5,6,7,8,9,10]\n",
    "S=pd.Series(A)\n",
    "print(\"Minimum value in A =\",S.min())"
   ]
  },
  {
   "cell_type": "markdown",
   "id": "08ebc0dd",
   "metadata": {},
   "source": [
    "## 13. Finding Product of Series"
   ]
  },
  {
   "cell_type": "code",
   "execution_count": 13,
   "id": "cf35bda2",
   "metadata": {},
   "outputs": [
    {
     "name": "stdout",
     "output_type": "stream",
     "text": [
      "Product of elements in A = 3628800\n"
     ]
    }
   ],
   "source": [
    "import pandas as pd\n",
    "A=[1,2,3,4,5,6,7,8,9,10]\n",
    "S=pd.Series(A)\n",
    "print(\"Product of elements in A =\",S.prod())"
   ]
  },
  {
   "cell_type": "markdown",
   "id": "08e6423a",
   "metadata": {},
   "source": [
    "## 14. Finding Mean of Series"
   ]
  },
  {
   "cell_type": "code",
   "execution_count": 14,
   "id": "288286ed",
   "metadata": {},
   "outputs": [
    {
     "name": "stdout",
     "output_type": "stream",
     "text": [
      "Mean of elements in A = 5.5\n"
     ]
    }
   ],
   "source": [
    "import pandas as pd\n",
    "A=[1,2,3,4,5,6,7,8,9,10]\n",
    "S=pd.Series(A)\n",
    "print(\"Mean of elements in A =\",S.mean())"
   ]
  },
  {
   "cell_type": "markdown",
   "id": "3e8b7e77",
   "metadata": {},
   "source": [
    "## 15. Sorting Values Ascending"
   ]
  },
  {
   "cell_type": "code",
   "execution_count": 15,
   "id": "fbaeeca3",
   "metadata": {},
   "outputs": [
    {
     "name": "stdout",
     "output_type": "stream",
     "text": [
      "A in ascending order = \n",
      " 0     1\n",
      "1     2\n",
      "2     3\n",
      "3     4\n",
      "4     5\n",
      "5     6\n",
      "6     7\n",
      "7     8\n",
      "8     9\n",
      "9    10\n",
      "dtype: int64\n"
     ]
    }
   ],
   "source": [
    "import pandas as pd\n",
    "A=[1,2,3,4,5,6,7,8,9,10]\n",
    "S=pd.Series(A)\n",
    "print(\"A in ascending order = \\n\",S.sort_values())"
   ]
  },
  {
   "cell_type": "markdown",
   "id": "a34d5c29",
   "metadata": {},
   "source": [
    "## 16. Sorting Values Descending"
   ]
  },
  {
   "cell_type": "code",
   "execution_count": 16,
   "id": "cb4e4d0a",
   "metadata": {},
   "outputs": [
    {
     "name": "stdout",
     "output_type": "stream",
     "text": [
      "A in descending order = \n",
      " 9    10\n",
      "8     9\n",
      "7     8\n",
      "6     7\n",
      "5     6\n",
      "4     5\n",
      "3     4\n",
      "2     3\n",
      "1     2\n",
      "0     1\n",
      "dtype: int64\n"
     ]
    }
   ],
   "source": [
    "import pandas as pd\n",
    "A=[1,2,3,4,5,6,7,8,9,10]\n",
    "S=pd.Series(A)\n",
    "print(\"A in descending order = \\n\",S.sort_values(ascending=False))"
   ]
  },
  {
   "cell_type": "markdown",
   "id": "81dd4733",
   "metadata": {},
   "source": [
    "## 17. Sorting Index Ascending"
   ]
  },
  {
   "cell_type": "code",
   "execution_count": 17,
   "id": "f7c2eba0",
   "metadata": {},
   "outputs": [
    {
     "name": "stdout",
     "output_type": "stream",
     "text": [
      "A in ascending order = \n",
      " 0     1\n",
      "1     2\n",
      "2     3\n",
      "3     4\n",
      "4     5\n",
      "5     6\n",
      "6     7\n",
      "7     8\n",
      "8     9\n",
      "9    10\n",
      "dtype: int64\n"
     ]
    }
   ],
   "source": [
    "import pandas as pd\n",
    "A=[1,2,3,4,5,6,7,8,9,10]\n",
    "S=pd.Series(A)\n",
    "print(\"A in ascending order = \\n\",S.sort_index())"
   ]
  },
  {
   "cell_type": "markdown",
   "id": "7c43eb39",
   "metadata": {},
   "source": [
    "## 18. Sorting Index Descending"
   ]
  },
  {
   "cell_type": "code",
   "execution_count": 18,
   "id": "0db83e5a",
   "metadata": {},
   "outputs": [
    {
     "name": "stdout",
     "output_type": "stream",
     "text": [
      "A in descending order = \n",
      " 9    10\n",
      "8     9\n",
      "7     8\n",
      "6     7\n",
      "5     6\n",
      "4     5\n",
      "3     4\n",
      "2     3\n",
      "1     2\n",
      "0     1\n",
      "dtype: int64\n"
     ]
    }
   ],
   "source": [
    "import pandas as pd\n",
    "A=[1,2,3,4,5,6,7,8,9,10]\n",
    "S=pd.Series(A)\n",
    "print(\"A in descending order = \\n\",S.sort_index(ascending=False))"
   ]
  },
  {
   "cell_type": "code",
   "execution_count": null,
   "id": "b67ad45a",
   "metadata": {},
   "outputs": [],
   "source": []
  }
 ],
 "metadata": {
  "kernelspec": {
   "display_name": "Python 3 (ipykernel)",
   "language": "python",
   "name": "python3"
  },
  "language_info": {
   "codemirror_mode": {
    "name": "ipython",
    "version": 3
   },
   "file_extension": ".py",
   "mimetype": "text/x-python",
   "name": "python",
   "nbconvert_exporter": "python",
   "pygments_lexer": "ipython3",
   "version": "3.9.7"
  }
 },
 "nbformat": 4,
 "nbformat_minor": 5
}
