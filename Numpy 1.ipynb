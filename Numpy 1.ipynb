{
 "cells": [
  {
   "cell_type": "markdown",
   "id": "3b2d64e3",
   "metadata": {},
   "source": [
    "# NUMERICAL PYTHON (01)"
   ]
  },
  {
   "cell_type": "code",
   "execution_count": 12,
   "id": "098bfa26",
   "metadata": {},
   "outputs": [
    {
     "name": "stdout",
     "output_type": "stream",
     "text": [
      "[[1 2 3 4]\n",
      " [5 6 7 8]]\n",
      "2\n",
      "8\n",
      "int64\n",
      "(2, 4)\n",
      "8\n"
     ]
    }
   ],
   "source": [
    "import numpy as np\n",
    "a=np.array([(1,2,3,4),(5,6,7,8)])\n",
    "print(a)\n",
    "print(a.ndim)\n",
    "print(a.itemsize)\n",
    "print(a.dtype)\n",
    "print(a.shape)\n",
    "print(a.size)"
   ]
  },
  {
   "cell_type": "code",
   "execution_count": 10,
   "id": "4a03f90d",
   "metadata": {},
   "outputs": [
    {
     "name": "stdout",
     "output_type": "stream",
     "text": [
      "<class 'list'>\n",
      "array [1 2 3 4]\n",
      "list [1, 2, 3, 4]\n"
     ]
    }
   ],
   "source": [
    "l=[1,2,3,4]\n",
    "print(type(l))\n",
    "arr=np.array(l)\n",
    "print(\"array\",arr)\n",
    "print(\"list\",l)"
   ]
  },
  {
   "cell_type": "code",
   "execution_count": 19,
   "id": "dfec4808",
   "metadata": {},
   "outputs": [
    {
     "name": "stdout",
     "output_type": "stream",
     "text": [
      "[[[[[[[1 2]\n",
      "      [3 4]\n",
      "      [5 6]\n",
      "      [7 8]]]]]]]\n",
      "7\n"
     ]
    }
   ],
   "source": [
    "import numpy as np\n",
    "l=[[[[[[[1,2],[3,4],[5,6],[7,8]]]]]]]\n",
    "arr1=np.array(l)\n",
    "print(arr1)\n",
    "print(arr1.ndim)"
   ]
  },
  {
   "cell_type": "code",
   "execution_count": 11,
   "id": "664c071c",
   "metadata": {},
   "outputs": [
    {
     "name": "stdout",
     "output_type": "stream",
     "text": [
      "[1 3 5 7 9]\n",
      "int64\n"
     ]
    }
   ],
   "source": [
    "# CHECKING DATA TYPE OF AN ARRAY\n",
    "import numpy as np\n",
    "l=[1,3,5,7,9]\n",
    "abc=np.array(l)\n",
    "print(abc)\n",
    "print(abc.dtype)"
   ]
  },
  {
   "cell_type": "code",
   "execution_count": 9,
   "id": "948a7854",
   "metadata": {},
   "outputs": [
    {
     "name": "stdout",
     "output_type": "stream",
     "text": [
      "[1 3 5 7 9]\n",
      "1\n"
     ]
    }
   ],
   "source": [
    "# CHECKING DIMENSIONS OF AN ARRAY\n",
    "import numpy as np\n",
    "L=[1,2,3,4,5,6,7,8,9]\n",
    "a3=np.array(l)\n",
    "print(a3)\n",
    "print(a3.ndim)"
   ]
  },
  {
   "cell_type": "code",
   "execution_count": 12,
   "id": "1760efdd",
   "metadata": {},
   "outputs": [
    {
     "name": "stdout",
     "output_type": "stream",
     "text": [
      "5\n",
      "[1 3 5 7 9]\n"
     ]
    }
   ],
   "source": [
    "# CHECKING SIZE OF AN ARRAY\n",
    "import numpy as np\n",
    "l=[1,3,5,7,9]\n",
    "abc=np.array(l)\n",
    "print(abc.size)\n",
    "print(abc)"
   ]
  },
  {
   "cell_type": "code",
   "execution_count": 2,
   "id": "418fee0f",
   "metadata": {},
   "outputs": [
    {
     "name": "stdout",
     "output_type": "stream",
     "text": [
      "int8\n",
      "[100  44 -12 -68 -97]\n"
     ]
    }
   ],
   "source": [
    "# CONVERTING DATA TYPE INT x TO INT 8\n",
    "import numpy as np\n",
    "l=[100,300,500,700,99999]\n",
    "abc=np.array(l,dtype=np.int8)\n",
    "print(abc.dtype)\n",
    "print(abc)\n"
   ]
  },
  {
   "cell_type": "code",
   "execution_count": 28,
   "id": "3427686d",
   "metadata": {},
   "outputs": [
    {
     "name": "stdout",
     "output_type": "stream",
     "text": [
      "([1, 2], [3, 4])\n",
      "DIMENSIONS = 2\n"
     ]
    }
   ],
   "source": [
    "# CREATION OF 2 DIMENSIONAL ARRAY\n",
    "l=([1,2],[3,4])\n",
    "a23=np.array(l)\n",
    "print(l)\n",
    "print(\"DIMENSIONS =\",a23.ndim)"
   ]
  },
  {
   "cell_type": "code",
   "execution_count": 39,
   "id": "882d8d0c",
   "metadata": {},
   "outputs": [
    {
     "name": "stdout",
     "output_type": "stream",
     "text": [
      "[0 0 0 0 0]\n"
     ]
    }
   ],
   "source": [
    "# USE OF NP.ZEROS\n",
    "import numpy as np\n",
    "A=np.zeros((5),dtype=np.int32)\n",
    "print(A)"
   ]
  },
  {
   "cell_type": "code",
   "execution_count": 13,
   "id": "d291aeda",
   "metadata": {},
   "outputs": [
    {
     "name": "stdout",
     "output_type": "stream",
     "text": [
      "[[1 1]\n",
      " [1 1]\n",
      " [1 1]\n",
      " [1 1]\n",
      " [1 1]\n",
      " [1 1]\n",
      " [1 1]\n",
      " [1 1]\n",
      " [1 1]\n",
      " [1 1]]\n"
     ]
    }
   ],
   "source": [
    "# USE OF NP.ONES\n",
    "import numpy as np\n",
    "B=np.ones(([10,2]),dtype=np.int32)\n",
    "print(B)"
   ]
  },
  {
   "cell_type": "code",
   "execution_count": 17,
   "id": "629538aa",
   "metadata": {},
   "outputs": [
    {
     "name": "stdout",
     "output_type": "stream",
     "text": [
      "[[8 8]\n",
      " [8 8]\n",
      " [8 8]\n",
      " [8 8]\n",
      " [8 8]\n",
      " [8 8]\n",
      " [8 8]]\n"
     ]
    }
   ],
   "source": [
    "# USE OF NP.FULL\n",
    "import numpy as np\n",
    "C=np.full([7,2],8)\n",
    "print(C)"
   ]
  },
  {
   "cell_type": "code",
   "execution_count": 22,
   "id": "f234d816",
   "metadata": {},
   "outputs": [
    {
     "name": "stdout",
     "output_type": "stream",
     "text": [
      "list of odd no.: [1 3 5 7 9]\n"
     ]
    }
   ],
   "source": [
    "# USE OF ARANGE \n",
    "import numpy as np\n",
    "A2=np.arange(1,10,2)\n",
    "print(\"list of odd no.:\",A2)"
   ]
  },
  {
   "cell_type": "code",
   "execution_count": 28,
   "id": "ac5140a8",
   "metadata": {},
   "outputs": [
    {
     "name": "stdout",
     "output_type": "stream",
     "text": [
      "list of even no.: [2 4 6 8]\n"
     ]
    }
   ],
   "source": [
    "# USE OF ARANGE\n",
    "import numpy as np\n",
    "A2=np.arange(2,10,2)\n",
    "print(\"list of even no.:\",A2)"
   ]
  },
  {
   "cell_type": "code",
   "execution_count": 10,
   "id": "c3092730",
   "metadata": {},
   "outputs": [
    {
     "name": "stdout",
     "output_type": "stream",
     "text": [
      "Random no. b/w 1 to 10: [6 4 6]\n"
     ]
    }
   ],
   "source": [
    "# USE OF RANDOM\n",
    "import numpy as np\n",
    "K=np.random.randint(1,10,3)\n",
    "print(\"Random no. b/w 1 to 10:\",K)"
   ]
  },
  {
   "cell_type": "code",
   "execution_count": 3,
   "id": "dc3e1099",
   "metadata": {},
   "outputs": [
    {
     "name": "stdout",
     "output_type": "stream",
     "text": [
      "[ 2  7 12]\n"
     ]
    }
   ],
   "source": [
    "# USE OF LINSPACE\n",
    "import numpy as np\n",
    "L=np.linspace(2,12,3,dtype=np.int32)\n",
    "print(L)"
   ]
  },
  {
   "cell_type": "code",
   "execution_count": 13,
   "id": "c5efc310",
   "metadata": {},
   "outputs": [
    {
     "name": "stdout",
     "output_type": "stream",
     "text": [
      "[  0   1   2   3   4   5   6   7   8   9  10  11  12  13  14  15  16  17\n",
      "  18  19  20  21  22  23  24  25  26  27  28  29  30  31  32  33  34  35\n",
      "  36  37  38  39  40  41  42  43  44  45  46  47  48  49  50  51  52  53\n",
      "  54  55  56  57  58  59  60  61  62  63  64  65  66  67  68  69  70  71\n",
      "  72  73  74  75  76  77  78  79  80  81  82  83  84  85  86  87  88  89\n",
      "  90  91  92  93  94  95  96  97  98  99 100 101 102 103 104 105 106 107\n",
      " 108 109 110 111 112 113 114 115 116 117 118 119 120 121 122 123 124 125\n",
      " 126 127 128 129 130 131 132 133 134 135 136 137 138 139 140 141 142 143\n",
      " 144 145 146 147 148 149 150 151 152 153 154 155 156 157 158 159 160 161\n",
      " 162 163 164 165 166 167 168 169 170 171 172 173 174 175 176 177 178 179\n",
      " 180 181 182 183 184 185 186 187 188 189 190 191 192 193 194 195 196 197\n",
      " 198 199 200 201 202 203 204 205 206 207 208 209 210 211 212 213 214 215\n",
      " 216 217 218 219 220 221 222 223 224 225 226 227 228 229 230 231 232 233\n",
      " 234 235 236 237 238 239 240 241 242 243 244 245 246 247 248 249 250 251\n",
      " 252 253 254 255 256 257 258 259 260 261 262 263 264 265 266 267 268 269\n",
      " 270 271 272 273 274 275 276 277 278 279 280 281 282 283 284 285 286 287\n",
      " 288 289 290 291 292 293 294 295 296 297 298 299 300 301 302 303 304 305\n",
      " 306 307 308 309 310 311 312 313 314 315 316 317 318 319 320 321 322 323\n",
      " 324 325 326 327 328 329 330 331 332 333 334 335 336 337 338 339 340 341\n",
      " 342 343 344 345 346 347 348 349 350 351 352 353 354 355 356 357 358 359\n",
      " 360 361 362 363 364 365 366 367 368 369 370 371 372 373 374 375 376 377\n",
      " 378 379 380 381 382 383 384 385 386 387 388 389 390 391 392 393 394 395\n",
      " 396 397 398 399 400 401 402 403 404 405 406 407 408 409 410 411 412 413\n",
      " 414 415 416 417 418 419 420 421 422 423 424 425 426 427 428 429 430 431\n",
      " 432 433 434 435 436 437 438 439 440 441 442 443 444 445 446 447 448 449\n",
      " 450 451 452 453 454 455 456 457 458 459 460 461 462 463 464 465 466 467\n",
      " 468 469 470 471 472 473 474 475 476 477 478 479 480 481 482 483 484 485\n",
      " 486 487 488 489 490 491 492 493 494 495 496 497 498 499 500 501 502 503\n",
      " 504 505 506 507 508 509 510 511 512 513 514 515 516 517 518 519 520 521\n",
      " 522 523 524 525 526 527 528 529 530 531 532 533 534 535 536 537 538 539\n",
      " 540 541 542 543 544 545 546 547 548 549 550 551 552 553 554 555 556 557\n",
      " 558 559 560 561 562 563 564 565 566 567 568 569 570 571 572 573 574 575\n",
      " 576 577 578 579 580 581 582 583 584 585 586 587 588 589 590 591 592 593\n",
      " 594 595 596 597 598 599 600 601 602 603 604 605 606 607 608 609 610 611\n",
      " 612 613 614 615 616 617 618 619 620 621 622 623 624 625 626 627 628 629\n",
      " 630 631 632 633 634 635 636 637 638 639 640 641 642 643 644 645 646 647\n",
      " 648 649 650 651 652 653 654 655 656 657 658 659 660 661 662 663 664 665\n",
      " 666 667 668 669 670 671 672 673 674 675 676 677 678 679 680 681 682 683\n",
      " 684 685 686 687 688 689 690 691 692 693 694 695 696 697 698 699 700 701\n",
      " 702 703 704 705 706 707 708 709 710 711 712 713 714 715 716 717 718 719\n",
      " 720 721 722 723 724 725 726 727 728 729 730 731 732 733 734 735 736 737\n",
      " 738 739 740 741 742 743 744 745 746 747 748 749 750 751 752 753 754 755\n",
      " 756 757 758 759 760 761 762 763 764 765 766 767 768 769 770 771 772 773\n",
      " 774 775 776 777 778 779 780 781 782 783 784 785 786 787 788 789 790 791\n",
      " 792 793 794 795 796 797 798 799 800 801 802 803 804 805 806 807 808 809\n",
      " 810 811 812 813 814 815 816 817 818 819 820 821 822 823 824 825 826 827\n",
      " 828 829 830 831 832 833 834 835 836 837 838 839 840 841 842 843 844 845\n",
      " 846 847 848 849 850 851 852 853 854 855 856 857 858 859 860 861 862 863\n",
      " 864 865 866 867 868 869 870 871 872 873 874 875 876 877 878 879 880 881\n",
      " 882 883 884 885 886 887 888 889 890 891 892 893 894 895 896 897 898 899\n",
      " 900 901 902 903 904 905 906 907 908 909 910 911 912 913 914 915 916 917\n",
      " 918 919 920 921 922 923 924 925 926 927 928 929 930 931 932 933 934 935\n",
      " 936 937 938 939 940 941 942 943 944 945 946 947 948 949 950 951 952 953\n",
      " 954 955 956 957 958 959 960 961 962 963 964 965 966 967 968 969 970 971\n",
      " 972 973 974 975 976 977 978 979 980 981 982 983 984 985 986 987 988 989\n",
      " 990 991 992 993 994 995 996 997 998]\n"
     ]
    }
   ],
   "source": [
    "# USE OF ARRANGE TILL 9999\n",
    "import numpy as np\n",
    "N=np.arange(999)\n",
    "print(N)"
   ]
  },
  {
   "cell_type": "code",
   "execution_count": 16,
   "id": "4a8709ba",
   "metadata": {},
   "outputs": [
    {
     "name": "stdout",
     "output_type": "stream",
     "text": [
      "[   0    1    2 ... 9996 9997 9998]\n"
     ]
    }
   ],
   "source": [
    "#ARANGING THROUGH PRINT DIRECTLY\n",
    "import numpy as np\n",
    "print(np.arange(9999))"
   ]
  },
  {
   "cell_type": "markdown",
   "id": "c1517be6",
   "metadata": {},
   "source": [
    "# Numerical Python Class Practical Assignment"
   ]
  },
  {
   "cell_type": "markdown",
   "id": "c4cd48ea",
   "metadata": {},
   "source": [
    "## Q1 Create an array of 10 elements with values 10 to 1"
   ]
  },
  {
   "cell_type": "code",
   "execution_count": 40,
   "id": "d996a3de",
   "metadata": {},
   "outputs": [
    {
     "name": "stdout",
     "output_type": "stream",
     "text": [
      "[10  9  8  7  6  5  4  3  2  1]\n"
     ]
    }
   ],
   "source": [
    "import numpy as np\n",
    "A=0\n",
    "for A in np.arange(10,1):\n",
    "    V=np.array(L)\n",
    "print(V)\n",
    "    \n"
   ]
  },
  {
   "cell_type": "markdown",
   "id": "1e681361",
   "metadata": {},
   "source": [
    "## Q2 Create an array of 3*3 filled with value 10"
   ]
  },
  {
   "cell_type": "code",
   "execution_count": 19,
   "id": "93003d54",
   "metadata": {},
   "outputs": [
    {
     "name": "stdout",
     "output_type": "stream",
     "text": [
      "[[10 10 10]\n",
      " [10 10 10]\n",
      " [10 10 10]]\n"
     ]
    }
   ],
   "source": [
    "import numpy as np\n",
    "H=np.full([3,3],10)\n",
    "print(H)"
   ]
  },
  {
   "cell_type": "markdown",
   "id": "089053ff",
   "metadata": {},
   "source": [
    "## Q3 Create an array of 20 elements with random numbers between 50 and 100"
   ]
  },
  {
   "cell_type": "code",
   "execution_count": 24,
   "id": "e72d7f13",
   "metadata": {},
   "outputs": [
    {
     "name": "stdout",
     "output_type": "stream",
     "text": [
      "Random no. b/w 50 to 100: [62 53 97 86 99 54 90 79 78 50 84 85 93 93 56 67 66 81 76 83]\n"
     ]
    }
   ],
   "source": [
    "import numpy as np\n",
    "R=np.random.randint(50,100,20)\n",
    "print(\"Random no. b/w 50 to 100:\",R)"
   ]
  },
  {
   "cell_type": "markdown",
   "id": "047ce14f",
   "metadata": {},
   "source": [
    "## Q4 Create an array of 10 elements with values between 1 to 25 with uniform interval"
   ]
  },
  {
   "cell_type": "code",
   "execution_count": 33,
   "id": "8f3ce7cc",
   "metadata": {},
   "outputs": [
    {
     "name": "stdout",
     "output_type": "stream",
     "text": [
      "[ 1  3  6  9 11 14 17 19 22 25]\n"
     ]
    }
   ],
   "source": [
    "import numpy as np\n",
    "L=np.linspace(1,25,10,dtype=np.int32)\n",
    "print(L)"
   ]
  },
  {
   "cell_type": "markdown",
   "id": "d22bcaff",
   "metadata": {},
   "source": [
    "## Q5 Create a code to store squares of all elements in array"
   ]
  },
  {
   "cell_type": "code",
   "execution_count": 61,
   "id": "1e01c4fb",
   "metadata": {},
   "outputs": [
    {
     "name": "stdout",
     "output_type": "stream",
     "text": [
      "[1, 4, 9, 16, 25, 36, 49, 64, 81, 100]\n"
     ]
    }
   ],
   "source": [
    "import numpy as np\n",
    "y=[]\n",
    "for x in range(1,11):\n",
    "    y=y+[x**2]\n",
    "a=np.array(y)\n",
    "print(y)\n"
   ]
  },
  {
   "cell_type": "markdown",
   "id": "98182d57",
   "metadata": {},
   "source": [
    "## Q6 Write a code to generate random number between 1 and 100. create array of 5X5"
   ]
  },
  {
   "cell_type": "code",
   "execution_count": 1,
   "id": "a0246c0e",
   "metadata": {},
   "outputs": [
    {
     "name": "stdout",
     "output_type": "stream",
     "text": [
      "[[12 22 20 93 81]\n",
      " [79 50  8 62  4]\n",
      " [35 20 99 19 34]\n",
      " [83 14 68 10 29]\n",
      " [70 42 81  3 80]]\n"
     ]
    }
   ],
   "source": [
    "import numpy as np\n",
    "A=np.random.randint(1,100,(5,5))\n",
    "print(A)\n"
   ]
  },
  {
   "cell_type": "code",
   "execution_count": null,
   "id": "aa4aedd5",
   "metadata": {},
   "outputs": [],
   "source": []
  },
  {
   "cell_type": "code",
   "execution_count": null,
   "id": "2f28727b",
   "metadata": {},
   "outputs": [],
   "source": []
  }
 ],
 "metadata": {
  "kernelspec": {
   "display_name": "Python 3 (ipykernel)",
   "language": "python",
   "name": "python3"
  },
  "language_info": {
   "codemirror_mode": {
    "name": "ipython",
    "version": 3
   },
   "file_extension": ".py",
   "mimetype": "text/x-python",
   "name": "python",
   "nbconvert_exporter": "python",
   "pygments_lexer": "ipython3",
   "version": "3.9.7"
  }
 },
 "nbformat": 4,
 "nbformat_minor": 5
}
