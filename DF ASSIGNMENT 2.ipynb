{
 "cells": [
  {
   "cell_type": "markdown",
   "id": "740fec12",
   "metadata": {},
   "source": [
    "# DATAFRAME ASSIGNMENT"
   ]
  },
  {
   "cell_type": "markdown",
   "id": "2365803a",
   "metadata": {},
   "source": [
    "## Q1"
   ]
  },
  {
   "cell_type": "markdown",
   "id": "c6cd3532",
   "metadata": {},
   "source": [
    "## (i)"
   ]
  },
  {
   "cell_type": "code",
   "execution_count": 11,
   "id": "03f6cbf0",
   "metadata": {},
   "outputs": [
    {
     "name": "stdout",
     "output_type": "stream",
     "text": [
      "               Name  No. of matches  Average Score\n",
      "0       Virat Kohli             248             24\n",
      "1         M.S Dhoni             212             27\n",
      "2      Shreyas Iyer             220             12\n",
      "3      Rishabh Pant             245             23\n",
      "4  Suryakumar Yadav             240             30\n"
     ]
    }
   ],
   "source": [
    "import pandas as pd\n",
    "A=[{\"Name\":\"Virat Kohli\",\"No. of matches\":248,\"Average Score\":24},\n",
    "   {\"Name\":\"M.S Dhoni\",\"No. of matches\":212,\"Average Score\":27},\n",
    "   {\"Name\":\"Shreyas Iyer\",\"No. of matches\":220,\"Average Score\":12},\n",
    "   {\"Name\":\"Rishabh Pant\",\"No. of matches\":245,\"Average Score\":23},\n",
    "   {\"Name\":\"Suryakumar Yadav\",\"No. of matches\":240,\"Average Score\":30}]\n",
    "CricketPlayers=pd.DataFrame(A)\n",
    "print(CricketPlayers)"
   ]
  },
  {
   "cell_type": "markdown",
   "id": "36985f36",
   "metadata": {},
   "source": [
    "## (ii)"
   ]
  },
  {
   "cell_type": "code",
   "execution_count": 13,
   "id": "f5f073f8",
   "metadata": {},
   "outputs": [
    {
     "name": "stdout",
     "output_type": "stream",
     "text": [
      "               Name  Cost Price  Sales Price  Discount\n",
      "0  Britania Cookies         248          250        12\n",
      "1              Lays         212          270        12\n",
      "2        Dairy Milk         220          300        12\n",
      "3         Coca Cola         245          280        12\n",
      "4      Center Fruit         240          300        12\n"
     ]
    }
   ],
   "source": [
    "import pandas as pd\n",
    "A=[{\"Name\":\"Britania Cookies\",\"Cost Price\":248,\"Sales Price\":250,\"Discount\":12},\n",
    "   {\"Name\":\"Lays\",\"Cost Price\":212,\"Sales Price\":270,\"Discount\":12},\n",
    "   {\"Name\":\"Dairy Milk\",\"Cost Price\":220,\"Sales Price\":300,\"Discount\":12},\n",
    "   {\"Name\":\"Coca Cola\",\"Cost Price\":245,\"Sales Price\":280,\"Discount\":12},\n",
    "   {\"Name\":\"Center Fruit\",\"Cost Price\":240,\"Sales Price\":300,\"Discount\":12}]\n",
    "Items=pd.DataFrame(A)\n",
    "print(Items)\n"
   ]
  },
  {
   "cell_type": "code",
   "execution_count": null,
   "id": "6fa6f443",
   "metadata": {},
   "outputs": [],
   "source": []
  }
 ],
 "metadata": {
  "kernelspec": {
   "display_name": "Python 3 (ipykernel)",
   "language": "python",
   "name": "python3"
  },
  "language_info": {
   "codemirror_mode": {
    "name": "ipython",
    "version": 3
   },
   "file_extension": ".py",
   "mimetype": "text/x-python",
   "name": "python",
   "nbconvert_exporter": "python",
   "pygments_lexer": "ipython3",
   "version": "3.9.7"
  }
 },
 "nbformat": 4,
 "nbformat_minor": 5
}
