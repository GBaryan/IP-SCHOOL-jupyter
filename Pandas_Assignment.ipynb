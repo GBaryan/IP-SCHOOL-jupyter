{
 "cells": [
  {
   "cell_type": "markdown",
   "id": "4b286ae3",
   "metadata": {},
   "source": [
    "# Pandas Assignment"
   ]
  },
  {
   "cell_type": "markdown",
   "id": "99b154eb",
   "metadata": {},
   "source": [
    "## Q1:Cretae the following series:\n",
    "   ## 1.Eng DICTIONARY containing 10 words & their meanings . Make words index and their meaning corresponding values"
   ]
  },
  {
   "cell_type": "code",
   "execution_count": 3,
   "id": "41d5a92d",
   "metadata": {},
   "outputs": [
    {
     "name": "stdout",
     "output_type": "stream",
     "text": [
      "Aryan                                 Supreme\n",
      "Bhavesh                  Avatar of God Vishnu\n",
      "Annany                                 Unique\n",
      "Vihaan                                   Dawn\n",
      "Ishita                                  Peace\n",
      "IP          Study of programmes and softwares\n",
      "One Plus                         Never Settle\n",
      "SHM                    Simple Harmonic Motion\n",
      "Mahadev                       God of the Gods\n",
      "CSE              Computer Science Engineering\n",
      "dtype: object\n"
     ]
    }
   ],
   "source": [
    "import pandas as pd\n",
    "A={\"Aryan\":\"Supreme\",\"Bhavesh\":\"Avatar of God Vishnu\",\"Annany\":\"Unique\",\"Vihaan\":\"Dawn\",\"Ishita\":\"Peace\",\"IP\":\"Study of programmes and softwares\",\"One Plus\":\"Never Settle\",\"SHM\":\"Simple Harmonic Motion\",\"Mahadev\":\"God of the Gods\",\"CSE\":\"Computer Science Engineering\"}\n",
    "B=pd.Series(A)\n",
    "print(B)"
   ]
  },
  {
   "cell_type": "markdown",
   "id": "abfd4888",
   "metadata": {},
   "source": [
    "## 2.State and Language Dictionary to Series"
   ]
  },
  {
   "cell_type": "code",
   "execution_count": 4,
   "id": "f7137352",
   "metadata": {},
   "outputs": [
    {
     "name": "stdout",
     "output_type": "stream",
     "text": [
      "J&K      Kashmiri\n",
      "HP         Pahadi\n",
      "PUN       Punjabi\n",
      "HR       Haryanvi\n",
      "UK         Pahadi\n",
      "RJ     Rajasthani\n",
      "UP       Bhojpuri\n",
      "BH         Bihari\n",
      "MH        Marathi\n",
      "KA         Kannad\n",
      "TN          Tamil\n",
      "dtype: object\n"
     ]
    }
   ],
   "source": [
    "import pandas as pd\n",
    "S={\"J&K\":\"Kashmiri\",\"HP\":\"Pahadi\",\"PUN\":\"Punjabi\",\"HR\":\"Haryanvi\",\"UK\":\"Pahadi\",\"RJ\":\"Rajasthani\",\"UP\":\"Bhojpuri\",\"BH\":\"Bihari\",\"MH\":\"Marathi\",\"KA\":\"Kannad\",\"TN\":\"Tamil\"}\n",
    "K=pd.Series(S)\n",
    "print(K)"
   ]
  },
  {
   "cell_type": "markdown",
   "id": "220efb2e",
   "metadata": {},
   "source": [
    "## 3.Mobile Generation from a dictionary containing Mobile Generation as indexes and key features as corresponding values.  "
   ]
  },
  {
   "cell_type": "code",
   "execution_count": 2,
   "id": "d532bb3f",
   "metadata": {},
   "outputs": [
    {
     "name": "stdout",
     "output_type": "stream",
     "text": [
      "1G                                     Wireless Calling\n",
      "2G                                        Calling + SMS\n",
      "3G                                Calling+SMS+Android 5\n",
      "4G                   Calling+SMS+Android 10+video calls\n",
      "5G    Calling+SMS+Android 12+Video Calls+Wireless Ch...\n",
      "dtype: object\n"
     ]
    }
   ],
   "source": [
    "import pandas as pd\n",
    "S={\"1G\":\" Wireless Calling\",\"2G\":\"Calling + SMS\",\"3G\":\"Calling+SMS+Android 5\",\"4G\":\"Calling+SMS+Android 10+video calls\",\"5G\":\"Calling+SMS+Android 12+Video Calls+Wireless Charging\"}\n",
    "K=pd.Series(S)\n",
    "print(K)"
   ]
  },
  {
   "cell_type": "markdown",
   "id": "149c193c",
   "metadata": {},
   "source": [
    "## 4.Roll no. Student array in series"
   ]
  },
  {
   "cell_type": "code",
   "execution_count": 9,
   "id": "9155bd3a",
   "metadata": {},
   "outputs": [
    {
     "name": "stdout",
     "output_type": "stream",
     "text": [
      "1      Aryan\n",
      "2    Bhavesh\n",
      "3      Vansh\n",
      "4     Vedant\n",
      "5     Annany\n",
      "dtype: object\n"
     ]
    }
   ],
   "source": [
    "import numpy as np\n",
    "import pandas as pd\n",
    "b=np.array([\"Aryan\",\"Bhavesh\",\"Vansh\",\"Vedant\",\"Annany\"])\n",
    "c=pd.Series(b,index=[1,2,3,4,5])\n",
    "print(c)"
   ]
  },
  {
   "cell_type": "markdown",
   "id": "9b3dd09b",
   "metadata": {},
   "source": [
    "## 5.Marks Student from a scaler value 50 for 10 students"
   ]
  },
  {
   "cell_type": "code",
   "execution_count": 11,
   "id": "e26ed49e",
   "metadata": {},
   "outputs": [
    {
     "name": "stdout",
     "output_type": "stream",
     "text": [
      "1     50\n",
      "2     50\n",
      "3     50\n",
      "4     50\n",
      "5     50\n",
      "6     50\n",
      "7     50\n",
      "8     50\n",
      "9     50\n",
      "10    50\n",
      "dtype: int64\n"
     ]
    }
   ],
   "source": [
    "import numpy as np\n",
    "import pandas as pd\n",
    "b=pd.Series(np.full([10],50),index=[1,2,3,4,5,6,7,8,9,10])\n",
    "print(b)\n"
   ]
  },
  {
   "cell_type": "markdown",
   "id": "d346d471",
   "metadata": {},
   "source": [
    "## 6.Storing even numbers from 1 to 20 with default indexes"
   ]
  },
  {
   "cell_type": "code",
   "execution_count": 16,
   "id": "a841ad0a",
   "metadata": {},
   "outputs": [
    {
     "name": "stdout",
     "output_type": "stream",
     "text": [
      "0      0\n",
      "1      2\n",
      "2      4\n",
      "3      6\n",
      "4      8\n",
      "5     10\n",
      "6     12\n",
      "7     14\n",
      "8     16\n",
      "9     18\n",
      "10    20\n",
      "dtype: int64\n"
     ]
    }
   ],
   "source": [
    "import pandas as pd\n",
    "import numpy as np\n",
    "a=pd.Series(np.arange(0,21,2))\n",
    "print(a)"
   ]
  },
  {
   "cell_type": "markdown",
   "id": "ebba7f77",
   "metadata": {},
   "source": [
    "## 7.Storing following percentage of 5 students stored in the form of a list with indexes from 1 to 5\n",
    "##                                             [90,85,78.5,90.5,56.5]"
   ]
  },
  {
   "cell_type": "code",
   "execution_count": 19,
   "id": "6115c214",
   "metadata": {},
   "outputs": [
    {
     "name": "stdout",
     "output_type": "stream",
     "text": [
      "1    90.0\n",
      "2    85.0\n",
      "3    78.5\n",
      "4    90.5\n",
      "5    56.5\n",
      "dtype: float64\n"
     ]
    }
   ],
   "source": [
    "import pandas as pd\n",
    "a=[90,85,78.5,90.5,56.5]\n",
    "c=pd.Series(a,index=[1,2,3,4,5])\n",
    "print(c)"
   ]
  },
  {
   "cell_type": "code",
   "execution_count": null,
   "id": "66a4b0a4",
   "metadata": {},
   "outputs": [],
   "source": []
  }
 ],
 "metadata": {
  "kernelspec": {
   "display_name": "Python 3 (ipykernel)",
   "language": "python",
   "name": "python3"
  },
  "language_info": {
   "codemirror_mode": {
    "name": "ipython",
    "version": 3
   },
   "file_extension": ".py",
   "mimetype": "text/x-python",
   "name": "python",
   "nbconvert_exporter": "python",
   "pygments_lexer": "ipython3",
   "version": "3.9.7"
  }
 },
 "nbformat": 4,
 "nbformat_minor": 5
}
