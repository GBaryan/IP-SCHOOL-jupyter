{
 "cells": [
  {
   "cell_type": "markdown",
   "id": "bee0f948",
   "metadata": {},
   "source": [
    "# DATA HANDLING USING PANDAS - DATAFRAMES"
   ]
  },
  {
   "cell_type": "markdown",
   "id": "60e9a828",
   "metadata": {},
   "source": [
    "# Empty DataFrame"
   ]
  },
  {
   "cell_type": "code",
   "execution_count": 1,
   "id": "b3640331",
   "metadata": {},
   "outputs": [
    {
     "name": "stdout",
     "output_type": "stream",
     "text": [
      "Empty DataFrame\n",
      "Columns: []\n",
      "Index: []\n"
     ]
    }
   ],
   "source": [
    "import pandas as pd\n",
    "df=pd.DataFrame()\n",
    "print(df)"
   ]
  },
  {
   "cell_type": "markdown",
   "id": "ded69c53",
   "metadata": {},
   "source": [
    "# DataFrame from List of Dictionaries"
   ]
  },
  {
   "cell_type": "code",
   "execution_count": 2,
   "id": "91a01d5f",
   "metadata": {},
   "outputs": [
    {
     "name": "stdout",
     "output_type": "stream",
     "text": [
      "   101  102  103\n",
      "1  ABC  DEF  GHI\n",
      "2  JKL  MNO  PQR\n"
     ]
    }
   ],
   "source": [
    "import pandas as pd\n",
    "l=[{101:'ABC',102:'DEF',103:'GHI'},{101:'JKL',102:'MNO',103:'PQR'}]# same indexes in both for single column with values\n",
    "df=pd.DataFrame(l,index=[1,2])\n",
    "print(df)"
   ]
  },
  {
   "cell_type": "markdown",
   "id": "5544a151",
   "metadata": {},
   "source": [
    "# DataFrame from list of lists"
   ]
  },
  {
   "cell_type": "code",
   "execution_count": 3,
   "id": "1b2385be",
   "metadata": {},
   "outputs": [
    {
     "name": "stdout",
     "output_type": "stream",
     "text": [
      "   0        1\n",
      "0  1    Aryan\n",
      "1  2   Ananay\n",
      "2  3  Bhavesh\n",
      "3  4   Ishita\n",
      "4  5  Kritika\n"
     ]
    }
   ],
   "source": [
    "import pandas as pd \n",
    "l2=[[1,\"Aryan\"],[2,\"Ananay\"],[3,\"Bhavesh\"],[4,\"Ishita\"],[5,\"Kritika\"]]\n",
    "df=pd.DataFrame(l2)\n",
    "print(df)"
   ]
  },
  {
   "cell_type": "markdown",
   "id": "f7a0c8fc",
   "metadata": {},
   "source": [
    "# Dataframe from Dictionaries of lists"
   ]
  },
  {
   "cell_type": "code",
   "execution_count": 4,
   "id": "66048202",
   "metadata": {},
   "outputs": [
    {
     "name": "stdout",
     "output_type": "stream",
     "text": [
      "   RollNo.     Name\n",
      "0        1    Aryan\n",
      "1        2   Ananay\n",
      "2        3  Bhavesh\n",
      "3        4   Ishita\n",
      "4        5  Kritika\n",
      "5        6        A\n",
      "6        7        B\n",
      "7        8        X\n",
      "8        9        Y\n",
      "9       10        Z\n"
     ]
    }
   ],
   "source": [
    "import pandas as pd \n",
    "l3={\"RollNo.\":[1,2,3,4,5,6,7,8,9,10],\"Name\":[\"Aryan\",\"Ananay\",\"Bhavesh\",\"Ishita\",\"Kritika\",\"A\",\"B\",\"X\",\"Y\",\"Z\"]}\n",
    "df=pd.DataFrame(l3)\n",
    "print(df)"
   ]
  },
  {
   "cell_type": "markdown",
   "id": "2e3e637a",
   "metadata": {},
   "source": [
    "# Dataframe from Dictionaries of Series"
   ]
  },
  {
   "cell_type": "code",
   "execution_count": 5,
   "id": "ac6ce613",
   "metadata": {},
   "outputs": [
    {
     "name": "stdout",
     "output_type": "stream",
     "text": [
      "   RollNo.     Name\n",
      "0        1    Aryan\n",
      "1        2   Ananay\n",
      "2        3  Bhavesh\n",
      "3        4   Ishita\n",
      "4        5  Kritika\n",
      "5        6        A\n",
      "6        7        B\n",
      "7        8        X\n",
      "8        9        Y\n",
      "9       10        Z\n"
     ]
    }
   ],
   "source": [
    "import pandas as pd \n",
    "l4={\"RollNo.\":pd.Series([1,2,3,4,5,6,7,8,9,10]),\n",
    "    \"Name\":pd.Series([\"Aryan\",\"Ananay\",\"Bhavesh\",\"Ishita\",\"Kritika\",\"A\",\"B\",\"X\",\"Y\",\"Z\"])}\n",
    "df=pd.DataFrame(l4)\n",
    "print(df)"
   ]
  },
  {
   "cell_type": "markdown",
   "id": "9430cbc9",
   "metadata": {},
   "source": [
    "# DataFrame from CSV FILE"
   ]
  },
  {
   "cell_type": "code",
   "execution_count": 6,
   "id": "b9ad11f2",
   "metadata": {},
   "outputs": [
    {
     "name": "stdout",
     "output_type": "stream",
     "text": [
      "   Unnamed: 0              Name  Number of Matches  Average Score\n",
      "0           0       Virat Kohli               1072             57\n",
      "1           1      Rohit Sharma                906             46\n",
      "2           2  Suryakumar Yadav                452             34\n",
      "3           3      Rishabh Pant                569             45\n",
      "4           4     Dinesh Kartik                678             29\n"
     ]
    }
   ],
   "source": [
    "import pandas as pd\n",
    "data=pd.read_csv(\"Cricket.csv\")\n",
    "print(data)"
   ]
  },
  {
   "cell_type": "markdown",
   "id": "23f4f5b6",
   "metadata": {},
   "source": [
    "# Customizing labels (index labels and column labels)"
   ]
  },
  {
   "cell_type": "code",
   "execution_count": 7,
   "id": "9dead515",
   "metadata": {},
   "outputs": [
    {
     "name": "stdout",
     "output_type": "stream",
     "text": [
      "   RollNo.     Name\n",
      "a        1    Aryan\n",
      "b        2   Ananay\n",
      "c        3  Bhavesh\n",
      "d        4   Ishita\n",
      "e        5  Kritika\n"
     ]
    }
   ],
   "source": [
    "import pandas as pd \n",
    "l2=[[1,\"Aryan\"],[2,\"Ananay\"],[3,\"Bhavesh\"],[4,\"Ishita\"],[5,\"Kritika\"]]\n",
    "df=pd.DataFrame(l2,index=[\"a\",\"b\",\"c\",\"d\",\"e\"],columns=[\"RollNo.\",\"Name\"])\n",
    "print(df)"
   ]
  },
  {
   "cell_type": "markdown",
   "id": "aa2f0cc6",
   "metadata": {},
   "source": [
    "# Using all DataFrame Attributes"
   ]
  },
  {
   "cell_type": "code",
   "execution_count": 8,
   "id": "f834cb0d",
   "metadata": {},
   "outputs": [
    {
     "name": "stdout",
     "output_type": "stream",
     "text": [
      "   RollNo.     Name\n",
      "a        1    Aryan\n",
      "b        2   Ananay\n",
      "c        3  Bhavesh\n",
      "d        4   Ishita\n",
      "e        5  Kritika\n",
      "size of DataFrame = 10\n",
      "shape of DataFrame = (5, 2)\n",
      "axes of DataFrame = [Index(['a', 'b', 'c', 'd', 'e'], dtype='object'), Index(['RollNo.', 'Name'], dtype='object')]\n",
      "dimensions in DataFrame = 2\n",
      "columns of DataFrame = Index(['RollNo.', 'Name'], dtype='object')\n",
      "values of DataFrame =\n",
      " [[1 'Aryan']\n",
      " [2 'Ananay']\n",
      " [3 'Bhavesh']\n",
      " [4 'Ishita']\n",
      " [5 'Kritika']]\n",
      "Is DtaFrame EMPTY ? = False\n"
     ]
    }
   ],
   "source": [
    "import pandas as pd \n",
    "l2=[[1,\"Aryan\"],[2,\"Ananay\"],[3,\"Bhavesh\"],[4,\"Ishita\"],[5,\"Kritika\"]]\n",
    "df=pd.DataFrame(l2,index=[\"a\",\"b\",\"c\",\"d\",\"e\"],columns=[\"RollNo.\",\"Name\"])\n",
    "print(df)\n",
    "print(\"size of DataFrame =\",df.size)\n",
    "print(\"shape of DataFrame =\",df.shape)\n",
    "print(\"axes of DataFrame =\",df.axes)\n",
    "print(\"dimensions in DataFrame =\",df.ndim)\n",
    "print(\"columns of DataFrame =\",df.columns)\n",
    "print(\"values of DataFrame =\\n\",df.values)\n",
    "print(\"Is DtaFrame EMPTY ? =\",df.empty)"
   ]
  },
  {
   "cell_type": "markdown",
   "id": "665de6fc",
   "metadata": {},
   "source": [
    "# Operations on Rows and Columns"
   ]
  },
  {
   "cell_type": "markdown",
   "id": "ce113197",
   "metadata": {},
   "source": [
    "## Adding a new Column to a DataFrame"
   ]
  },
  {
   "cell_type": "code",
   "execution_count": 9,
   "id": "c0d8a2a2",
   "metadata": {},
   "outputs": [
    {
     "name": "stdout",
     "output_type": "stream",
     "text": [
      "   RollNo.     Name   Id\n",
      "a        1    Aryan  101\n",
      "b        2   Ananay  102\n",
      "c        3  Bhavesh  103\n",
      "d        4   Ishita  104\n",
      "e        5  Kritika  105\n"
     ]
    }
   ],
   "source": [
    "import pandas as pd \n",
    "l2=[[1,\"Aryan\"],[2,\"Ananay\"],[3,\"Bhavesh\"],[4,\"Ishita\"],[5,\"Kritika\"]]\n",
    "df=pd.DataFrame(l2,index=[\"a\",\"b\",\"c\",\"d\",\"e\"],columns=[\"RollNo.\",\"Name\"])\n",
    "df[\"Id\"]=[101,102,103,104,105]\n",
    "print(df)"
   ]
  },
  {
   "cell_type": "markdown",
   "id": "2b75eff8",
   "metadata": {},
   "source": [
    "## New Column at a desired location"
   ]
  },
  {
   "cell_type": "code",
   "execution_count": 10,
   "id": "a095f337",
   "metadata": {},
   "outputs": [
    {
     "name": "stdout",
     "output_type": "stream",
     "text": [
      "   Percentage  RollNo.     Name\n",
      "a         100        1    Aryan\n",
      "b         100        2   Ananay\n",
      "c         100        3  Bhavesh\n",
      "d         100        4   Ishita\n",
      "e         100        5  Kritika\n"
     ]
    }
   ],
   "source": [
    "import pandas as pd \n",
    "l2=[[1,\"Aryan\"],[2,\"Ananay\"],[3,\"Bhavesh\"],[4,\"Ishita\"],[5,\"Kritika\"]]\n",
    "df=pd.DataFrame(l2,index=[\"a\",\"b\",\"c\",\"d\",\"e\"],columns=[\"RollNo.\",\"Name\"])\n",
    "df.insert(0,\"Percentage\",[100,100,100,100,100])\n",
    "print(df)"
   ]
  },
  {
   "cell_type": "markdown",
   "id": "75a09453",
   "metadata": {},
   "source": [
    "## New Column using loc method"
   ]
  },
  {
   "cell_type": "code",
   "execution_count": 11,
   "id": "50de63fc",
   "metadata": {},
   "outputs": [
    {
     "name": "stdout",
     "output_type": "stream",
     "text": [
      "   RollNo.     Name  Sign\n",
      "a        1    Aryan    12\n",
      "b        2   Ananay     9\n",
      "c        3  Bhavesh    19\n",
      "d        4   Ishita    25\n",
      "e        5  Kritika    31\n"
     ]
    }
   ],
   "source": [
    "import pandas as pd \n",
    "l2=[[1,\"Aryan\"],[2,\"Ananay\"],[3,\"Bhavesh\"],[4,\"Ishita\"],[5,\"Kritika\"]]\n",
    "df=pd.DataFrame(l2,index=[\"a\",\"b\",\"c\",\"d\",\"e\"],columns=[\"RollNo.\",\"Name\"])\n",
    "df.loc[:,\"Sign\"]=[12,9,19,25,31]\n",
    "print(df)"
   ]
  },
  {
   "cell_type": "markdown",
   "id": "f5d1e7b9",
   "metadata": {},
   "source": [
    "## Adding row using loc method"
   ]
  },
  {
   "cell_type": "code",
   "execution_count": 12,
   "id": "b8b44a3a",
   "metadata": {},
   "outputs": [
    {
     "name": "stdout",
     "output_type": "stream",
     "text": [
      "   RollNo.        Name\n",
      "a        1       Aryan\n",
      "b        2      Ananay\n",
      "c        3     Bhavesh\n",
      "d        4      Ishita\n",
      "e        5     Kritika\n",
      "5        6  Rajesh Sir\n"
     ]
    }
   ],
   "source": [
    "import pandas as pd \n",
    "l2=[[1,\"Aryan\"],[2,\"Ananay\"],[3,\"Bhavesh\"],[4,\"Ishita\"],[5,\"Kritika\"]]\n",
    "df=pd.DataFrame(l2,index=[\"a\",\"b\",\"c\",\"d\",\"e\"],columns=[\"RollNo.\",\"Name\"])\n",
    "df.loc[5]=[6,\"Rajesh Sir\"]\n",
    "print(df)"
   ]
  },
  {
   "cell_type": "markdown",
   "id": "b76e3047",
   "metadata": {},
   "source": [
    "## Deleting row "
   ]
  },
  {
   "cell_type": "code",
   "execution_count": 13,
   "id": "aa422d85",
   "metadata": {},
   "outputs": [
    {
     "name": "stdout",
     "output_type": "stream",
     "text": [
      "   RollNo.     Name\n",
      "0        1    Aryan\n",
      "1        2   Ananay\n",
      "2        3  Bhavesh\n",
      "3        4   Ishita\n",
      "4        5  Kritika\n",
      "   RollNo.     Name\n",
      "0        1    Aryan\n",
      "1        2   Ananay\n",
      "3        4   Ishita\n",
      "4        5  Kritika\n"
     ]
    }
   ],
   "source": [
    "import pandas as pd \n",
    "l2=[[1,\"Aryan\"],[2,\"Ananay\"],[3,\"Bhavesh\"],[4,\"Ishita\"],[5,\"Kritika\"]]\n",
    "df=pd.DataFrame(l2,columns=[\"RollNo.\",\"Name\"])\n",
    "print(df)\n",
    "c=df.drop(2,axis=0)\n",
    "print(c)"
   ]
  },
  {
   "cell_type": "markdown",
   "id": "ca38ce47",
   "metadata": {},
   "source": [
    "## Deleting Column"
   ]
  },
  {
   "cell_type": "code",
   "execution_count": 14,
   "id": "b18b5a27",
   "metadata": {},
   "outputs": [
    {
     "name": "stdout",
     "output_type": "stream",
     "text": [
      "   RollNo.     Name\n",
      "0        1    Aryan\n",
      "1        2   Ananay\n",
      "2        3  Bhavesh\n",
      "3        4   Ishita\n",
      "4        5  Kritika\n",
      "      Name\n",
      "0    Aryan\n",
      "1   Ananay\n",
      "2  Bhavesh\n",
      "3   Ishita\n",
      "4  Kritika\n"
     ]
    }
   ],
   "source": [
    "import pandas as pd \n",
    "l2=[[1,\"Aryan\"],[2,\"Ananay\"],[3,\"Bhavesh\"],[4,\"Ishita\"],[5,\"Kritika\"]]\n",
    "df=pd.DataFrame(l2,columns=[\"RollNo.\",\"Name\"])\n",
    "print(df)\n",
    "c=df.drop(\"RollNo.\",axis=1)\n",
    "print(c)"
   ]
  },
  {
   "cell_type": "markdown",
   "id": "3417ad4f",
   "metadata": {},
   "source": [
    "## Deleting Multiple Rows in DataFrame"
   ]
  },
  {
   "cell_type": "code",
   "execution_count": 15,
   "id": "ebcfbffc",
   "metadata": {},
   "outputs": [
    {
     "name": "stdout",
     "output_type": "stream",
     "text": [
      "   RollNo.     Name\n",
      "0        1    Aryan\n",
      "1        2   Ananay\n",
      "2        3  Bhavesh\n",
      "3        4   Ishita\n",
      "4        5  Kritika\n",
      "   RollNo.    Name\n",
      "0        1   Aryan\n",
      "3        4  Ishita\n"
     ]
    }
   ],
   "source": [
    "import pandas as pd \n",
    "l2=[[1,\"Aryan\"],[2,\"Ananay\"],[3,\"Bhavesh\"],[4,\"Ishita\"],[5,\"Kritika\"]]\n",
    "df=pd.DataFrame(l2,columns=[\"RollNo.\",\"Name\"])\n",
    "print(df)\n",
    "c=df.drop([1,2,4],axis=0)\n",
    "print(c)"
   ]
  },
  {
   "cell_type": "markdown",
   "id": "04d3d15c",
   "metadata": {},
   "source": [
    "# Updating DataFrame\n"
   ]
  },
  {
   "cell_type": "code",
   "execution_count": 16,
   "id": "99432fd5",
   "metadata": {},
   "outputs": [
    {
     "name": "stdout",
     "output_type": "stream",
     "text": [
      "   RollNo.     Name\n",
      "0      100    Aryan\n",
      "1      101   Ananay\n",
      "2      102  Bhavesh\n",
      "3      103   Ishita\n",
      "4      104  Kritika\n"
     ]
    }
   ],
   "source": [
    "import pandas as pd \n",
    "l2=[[1,\"Aryan\"],[2,\"Ananay\"],[3,\"Bhavesh\"],[4,\"Ishita\"],[5,\"Kritika\"]]\n",
    "df=pd.DataFrame(l2,columns=[\"RollNo.\",\"Name\"])\n",
    "df[\"RollNo.\"]=[100,101,102,103,104]\n",
    "print(df)"
   ]
  },
  {
   "cell_type": "markdown",
   "id": "e45ab02a",
   "metadata": {},
   "source": [
    "# Updating DataFrame using loc\n"
   ]
  },
  {
   "cell_type": "code",
   "execution_count": 17,
   "id": "efe09cb3",
   "metadata": {},
   "outputs": [
    {
     "name": "stdout",
     "output_type": "stream",
     "text": [
      "   RollNo.     Name\n",
      "0        1    Aryan\n",
      "1      100      101\n",
      "2        3  Bhavesh\n",
      "3        4   Ishita\n",
      "4        5  Kritika\n"
     ]
    }
   ],
   "source": [
    "import pandas as pd \n",
    "l2=[[1,\"Aryan\"],[2,\"Ananay\"],[3,\"Bhavesh\"],[4,\"Ishita\"],[5,\"Kritika\"]]\n",
    "df=pd.DataFrame(l2,columns=[\"RollNo.\",\"Name\"])\n",
    "df.loc[1]=[100,101]\n",
    "print(df)"
   ]
  },
  {
   "cell_type": "markdown",
   "id": "b070da86",
   "metadata": {},
   "source": [
    "# Renaming Row "
   ]
  },
  {
   "cell_type": "code",
   "execution_count": 23,
   "id": "9720417c",
   "metadata": {},
   "outputs": [
    {
     "name": "stdout",
     "output_type": "stream",
     "text": [
      "    RollNo.     Name\n",
      "R1        1    Aryan\n",
      "1         2   Ananay\n",
      "2         3  Bhavesh\n",
      "3         4   Ishita\n",
      "4         5  Kritika\n"
     ]
    }
   ],
   "source": [
    "import pandas as pd \n",
    "l2=[[1,\"Aryan\"],[2,\"Ananay\"],[3,\"Bhavesh\"],[4,\"Ishita\"],[5,\"Kritika\"]]\n",
    "df=pd.DataFrame(l2,columns=[\"RollNo.\",\"Name\"])\n",
    "a=df.rename({0:\"R1\"},axis='rows')\n",
    "print(a)"
   ]
  },
  {
   "cell_type": "markdown",
   "id": "6f7dfb08",
   "metadata": {},
   "source": [
    "# Renaming Column"
   ]
  },
  {
   "cell_type": "code",
   "execution_count": 21,
   "id": "f694e28b",
   "metadata": {},
   "outputs": [
    {
     "name": "stdout",
     "output_type": "stream",
     "text": [
      "   ID     Name\n",
      "0   1    Aryan\n",
      "1   2   Ananay\n",
      "2   3  Bhavesh\n",
      "3   4   Ishita\n",
      "4   5  Kritika\n"
     ]
    }
   ],
   "source": [
    "import pandas as pd \n",
    "l2=[[1,\"Aryan\"],[2,\"Ananay\"],[3,\"Bhavesh\"],[4,\"Ishita\"],[5,\"Kritika\"]]\n",
    "df=pd.DataFrame(l2,columns=[\"RollNo.\",\"Name\"])\n",
    "a=df.rename({\"RollNo.\":\"ID\"},axis='columns')\n",
    "print(a)"
   ]
  },
  {
   "cell_type": "markdown",
   "id": "d540eb94",
   "metadata": {},
   "source": [
    "# Accessing DataFrames"
   ]
  },
  {
   "cell_type": "markdown",
   "id": "08fe1784",
   "metadata": {},
   "source": [
    "## Using DataFrame.loc()method"
   ]
  },
  {
   "cell_type": "markdown",
   "id": "5d465ea0",
   "metadata": {},
   "source": [
    "### To Display Single Column"
   ]
  },
  {
   "cell_type": "code",
   "execution_count": 26,
   "id": "2a460478",
   "metadata": {},
   "outputs": [
    {
     "name": "stdout",
     "output_type": "stream",
     "text": [
      "0      Aryan\n",
      "1     Ananay\n",
      "2    Bhavesh\n",
      "3     Ishita\n",
      "4    Kritika\n",
      "Name: Name, dtype: object\n"
     ]
    }
   ],
   "source": [
    "import pandas as pd \n",
    "l2=[[1,\"Aryan\"],[2,\"Ananay\"],[3,\"Bhavesh\"],[4,\"Ishita\"],[5,\"Kritika\"]]\n",
    "df=pd.DataFrame(l2,columns=[\"RollNo.\",\"Name\"])\n",
    "print(df.Name)"
   ]
  },
  {
   "cell_type": "markdown",
   "id": "795587f0",
   "metadata": {},
   "source": [
    "### To Display Multiple Columns"
   ]
  },
  {
   "cell_type": "code",
   "execution_count": 28,
   "id": "e4b5b2ad",
   "metadata": {},
   "outputs": [
    {
     "name": "stdout",
     "output_type": "stream",
     "text": [
      "   RollNo.     Name\n",
      "0        1    Aryan\n",
      "1        2   Ananay\n",
      "2        3  Bhavesh\n",
      "3        4   Ishita\n",
      "4        5  Kritika\n"
     ]
    }
   ],
   "source": [
    "import pandas as pd \n",
    "l2=[[1,\"Aryan\"],[2,\"Ananay\"],[3,\"Bhavesh\"],[4,\"Ishita\"],[5,\"Kritika\"]]\n",
    "df=pd.DataFrame(l2,columns=[\"RollNo.\",\"Name\"])\n",
    "print(df[[\"RollNo.\",\"Name\"]])"
   ]
  },
  {
   "cell_type": "markdown",
   "id": "db0cfcc6",
   "metadata": {},
   "source": [
    "### To Display single row and all columns"
   ]
  },
  {
   "cell_type": "code",
   "execution_count": 34,
   "id": "70b4ff0f",
   "metadata": {},
   "outputs": [
    {
     "name": "stdout",
     "output_type": "stream",
     "text": [
      "RollNo.          3\n",
      "Name       Bhavesh\n",
      "Name: 2, dtype: object\n"
     ]
    }
   ],
   "source": [
    "import pandas as pd \n",
    "l2=[[1,\"Aryan\"],[2,\"Ananay\"],[3,\"Bhavesh\"],[4,\"Ishita\"],[5,\"Kritika\"]]\n",
    "df=pd.DataFrame(l2,columns=[\"RollNo.\",\"Name\"])\n",
    "print(df.loc[2])"
   ]
  },
  {
   "cell_type": "markdown",
   "id": "355b7199",
   "metadata": {},
   "source": [
    "### To display specific rows and all columns"
   ]
  },
  {
   "cell_type": "code",
   "execution_count": 40,
   "id": "2157c2b9",
   "metadata": {},
   "outputs": [
    {
     "name": "stdout",
     "output_type": "stream",
     "text": [
      "   RollNo.     Name\n",
      "0        1    Aryan\n",
      "2        3  Bhavesh\n"
     ]
    }
   ],
   "source": [
    "import pandas as pd \n",
    "l2=[[1,\"Aryan\"],[2,\"Ananay\"],[3,\"Bhavesh\"],[4,\"Ishita\"],[5,\"Kritika\"]]\n",
    "df=pd.DataFrame(l2,columns=[\"RollNo.\",\"Name\"])\n",
    "print(df.loc[[0,2]])"
   ]
  },
  {
   "cell_type": "markdown",
   "id": "58908022",
   "metadata": {},
   "source": [
    "### To display range of rows and all columns"
   ]
  },
  {
   "cell_type": "code",
   "execution_count": 41,
   "id": "c0f9aecd",
   "metadata": {},
   "outputs": [
    {
     "name": "stdout",
     "output_type": "stream",
     "text": [
      "   RollNo.     Name\n",
      "0        1    Aryan\n",
      "1        2   Ananay\n",
      "2        3  Bhavesh\n"
     ]
    }
   ],
   "source": [
    "import pandas as pd \n",
    "l2=[[1,\"Aryan\"],[2,\"Ananay\"],[3,\"Bhavesh\"],[4,\"Ishita\"],[5,\"Kritika\"]]\n",
    "df=pd.DataFrame(l2,columns=[\"RollNo.\",\"Name\"])\n",
    "print(df.loc[0:2])"
   ]
  },
  {
   "cell_type": "markdown",
   "id": "5f7011c8",
   "metadata": {},
   "source": [
    "### To display single column and all rows"
   ]
  },
  {
   "cell_type": "code",
   "execution_count": 42,
   "id": "6f752212",
   "metadata": {},
   "outputs": [
    {
     "name": "stdout",
     "output_type": "stream",
     "text": [
      "0      Aryan\n",
      "1     Ananay\n",
      "2    Bhavesh\n",
      "3     Ishita\n",
      "4    Kritika\n",
      "Name: Name, dtype: object\n"
     ]
    }
   ],
   "source": [
    "import pandas as pd \n",
    "l2=[[1,\"Aryan\"],[2,\"Ananay\"],[3,\"Bhavesh\"],[4,\"Ishita\"],[5,\"Kritika\"]]\n",
    "df=pd.DataFrame(l2,columns=[\"RollNo.\",\"Name\"])\n",
    "print(df.loc[:,\"Name\"])"
   ]
  },
  {
   "cell_type": "markdown",
   "id": "a92bc66f",
   "metadata": {},
   "source": [
    "### To display multiple columns and all rows"
   ]
  },
  {
   "cell_type": "code",
   "execution_count": 47,
   "id": "94fdfc78",
   "metadata": {},
   "outputs": [
    {
     "name": "stdout",
     "output_type": "stream",
     "text": [
      "      Name  RollNo.\n",
      "0    Aryan        1\n",
      "1   Ananay        2\n",
      "2  Bhavesh        3\n",
      "3   Ishita        4\n",
      "4  Kritika        5\n"
     ]
    }
   ],
   "source": [
    "import pandas as pd \n",
    "l2=[[1,\"Aryan\"],[2,\"Ananay\"],[3,\"Bhavesh\"],[4,\"Ishita\"],[5,\"Kritika\"]]\n",
    "df=pd.DataFrame(l2,columns=[\"RollNo.\",\"Name\"])\n",
    "print(df.loc[:,[\"Name\",\"RollNo.\"]])# if Q like print name first and rollno. later use this "
   ]
  },
  {
   "cell_type": "markdown",
   "id": "4bd440a6",
   "metadata": {},
   "source": [
    "### To display range of columns and all rows "
   ]
  },
  {
   "cell_type": "code",
   "execution_count": 49,
   "id": "890d868f",
   "metadata": {},
   "outputs": [
    {
     "name": "stdout",
     "output_type": "stream",
     "text": [
      "Empty DataFrame\n",
      "Columns: []\n",
      "Index: [0, 1, 2, 3, 4]\n"
     ]
    }
   ],
   "source": [
    "import pandas as pd \n",
    "l2=[[1,\"Aryan\"],[2,\"Ananay\"],[3,\"Bhavesh\"],[4,\"Ishita\"],[5,\"Kritika\"]]\n",
    "df=pd.DataFrame(l2,columns=[\"RollNo.\",\"Name\"])\n",
    "print(df.loc[:,\"Name\":\"RollNo.\"])"
   ]
  },
  {
   "cell_type": "markdown",
   "id": "13b903ce",
   "metadata": {},
   "source": [
    "### To display specific rows and specific columns"
   ]
  },
  {
   "cell_type": "code",
   "execution_count": 52,
   "id": "6cf00986",
   "metadata": {},
   "outputs": [
    {
     "name": "stdout",
     "output_type": "stream",
     "text": [
      "      Name  RollNo.\n",
      "0    Aryan        1\n",
      "2  Bhavesh        3\n"
     ]
    }
   ],
   "source": [
    "import pandas as pd \n",
    "l2=[[1,\"Aryan\"],[2,\"Ananay\"],[3,\"Bhavesh\"],[4,\"Ishita\"],[5,\"Kritika\"]]\n",
    "df=pd.DataFrame(l2,columns=[\"RollNo.\",\"Name\"])\n",
    "print(df.loc[[0,2],[\"Name\",\"RollNo.\"]])"
   ]
  },
  {
   "cell_type": "markdown",
   "id": "fac48190",
   "metadata": {},
   "source": [
    "### To display specific rows and specific columns in a range"
   ]
  },
  {
   "cell_type": "code",
   "execution_count": 60,
   "id": "6ea0bd5b",
   "metadata": {},
   "outputs": [
    {
     "name": "stdout",
     "output_type": "stream",
     "text": [
      "Empty DataFrame\n",
      "Columns: []\n",
      "Index: [a, b, c]\n"
     ]
    }
   ],
   "source": [
    "import pandas as pd \n",
    "l2=[[1,\"Aryan\"],[2,\"Ananay\"],[3,\"Bhavesh\"],[4,\"Ishita\"],[5,\"Kritika\"]]\n",
    "df=pd.DataFrame(l2,index=[\"a\",\"b\",\"c\",\"d\",\"e\"],columns=[\"RollNo.\",\"Name\"])\n",
    "df.loc[:,\"Sign\"]=[12,9,19,25,31]\n",
    "print(df.loc['a':'c',\"Name\":\"RollNo.\"])"
   ]
  },
  {
   "cell_type": "markdown",
   "id": "ebbb3ec0",
   "metadata": {},
   "source": [
    "### To display all rows and all columns (other way using loc)"
   ]
  },
  {
   "cell_type": "code",
   "execution_count": 61,
   "id": "a8b6d029",
   "metadata": {},
   "outputs": [
    {
     "name": "stdout",
     "output_type": "stream",
     "text": [
      "   RollNo.     Name\n",
      "0        1    Aryan\n",
      "1        2   Ananay\n",
      "2        3  Bhavesh\n",
      "3        4   Ishita\n",
      "4        5  Kritika\n"
     ]
    }
   ],
   "source": [
    "import pandas as pd \n",
    "l2=[[1,\"Aryan\"],[2,\"Ananay\"],[3,\"Bhavesh\"],[4,\"Ishita\"],[5,\"Kritika\"]]\n",
    "df=pd.DataFrame(l2,columns=[\"RollNo.\",\"Name\"])\n",
    "print(df.loc[::,::])# *"
   ]
  },
  {
   "cell_type": "markdown",
   "id": "ad295164",
   "metadata": {},
   "source": [
    "# Label Indexing"
   ]
  },
  {
   "cell_type": "code",
   "execution_count": 65,
   "id": "0911292c",
   "metadata": {},
   "outputs": [
    {
     "name": "stdout",
     "output_type": "stream",
     "text": [
      "Name                 Suryakumar Yadav\n",
      "Number of Matches                 452\n",
      "Average Score                      34\n",
      "Name: 2, dtype: object\n"
     ]
    }
   ],
   "source": [
    "import pandas as pd \n",
    "l=[{\"Name\":\"Virat Kohli\",\"Number of Matches\":1072,\"Average Score\":57},\n",
    "   {\"Name\":\"Rohit Sharma\",\"Number of Matches\":906,\"Average Score\":46},\n",
    "   {\"Name\":\"Suryakumar Yadav\",\"Number of Matches\":452,\"Average Score\":34},\n",
    "   {\"Name\":\"Rishabh Pant\",\"Number of Matches\":569,\"Average Score\":45},\n",
    "   {\"Name\":\"Dinesh Kartik\",\"Number of Matches\":678,\"Average Score\":29}]\n",
    "CricketPlayer=pd.DataFrame(l)\n",
    "print(CricketPlayer.loc[2,:])"
   ]
  },
  {
   "cell_type": "markdown",
   "id": "65a83129",
   "metadata": {},
   "source": [
    "# Boolean Indexing\n"
   ]
  },
  {
   "cell_type": "code",
   "execution_count": 66,
   "id": "9d85b456",
   "metadata": {},
   "outputs": [
    {
     "name": "stdout",
     "output_type": "stream",
     "text": [
      "0     True\n",
      "1     True\n",
      "2    False\n",
      "3    False\n",
      "4    False\n",
      "Name: Number of Matches, dtype: bool\n"
     ]
    }
   ],
   "source": [
    "print(CricketPlayer['Number of Matches']>700)"
   ]
  },
  {
   "cell_type": "markdown",
   "id": "1b3cab7f",
   "metadata": {},
   "source": [
    "# Slicing"
   ]
  },
  {
   "cell_type": "code",
   "execution_count": 69,
   "id": "2f28849c",
   "metadata": {},
   "outputs": [
    {
     "name": "stdout",
     "output_type": "stream",
     "text": [
      "               Name  Number of Matches  Average Score\n",
      "2  Suryakumar Yadav                452             34\n",
      "3      Rishabh Pant                569             45\n",
      "               Name  Number of Matches  Average Score\n",
      "0       Virat Kohli               1072             57\n",
      "1      Rohit Sharma                906             46\n",
      "2  Suryakumar Yadav                452             34\n",
      "3      Rishabh Pant                569             45\n",
      "            Name  Number of Matches  Average Score\n",
      "0    Virat Kohli               1072             57\n",
      "4  Dinesh Kartik                678             29\n"
     ]
    }
   ],
   "source": [
    "print(CricketPlayer[2:4])#only 2 and 3 not 4\n",
    "print(CricketPlayer[:4])#all till 3 , 4 excluded\n",
    "print(CricketPlayer[::4])#only 0 and 4"
   ]
  },
  {
   "cell_type": "markdown",
   "id": "3620c14b",
   "metadata": {},
   "source": [
    "# Iterating"
   ]
  },
  {
   "cell_type": "markdown",
   "id": "462b1b9d",
   "metadata": {},
   "source": [
    "## Iterating with iteritems"
   ]
  },
  {
   "cell_type": "code",
   "execution_count": 72,
   "id": "d9fcd80b",
   "metadata": {},
   "outputs": [
    {
     "name": "stdout",
     "output_type": "stream",
     "text": [
      "Itemwise:-\n",
      " Name \n",
      " 0         Virat Kohli\n",
      "1        Rohit Sharma\n",
      "2    Suryakumar Yadav\n",
      "3        Rishabh Pant\n",
      "4       Dinesh Kartik\n",
      "Name: Name, dtype: object\n",
      "Itemwise:-\n",
      " Number of Matches \n",
      " 0    1072\n",
      "1     906\n",
      "2     452\n",
      "3     569\n",
      "4     678\n",
      "Name: Number of Matches, dtype: int64\n",
      "Itemwise:-\n",
      " Average Score \n",
      " 0    57\n",
      "1    46\n",
      "2    34\n",
      "3    45\n",
      "4    29\n",
      "Name: Average Score, dtype: int64\n"
     ]
    }
   ],
   "source": [
    "import pandas as pd \n",
    "l=[{\"Name\":\"Virat Kohli\",\"Number of Matches\":1072,\"Average Score\":57},\n",
    "   {\"Name\":\"Rohit Sharma\",\"Number of Matches\":906,\"Average Score\":46},\n",
    "   {\"Name\":\"Suryakumar Yadav\",\"Number of Matches\":452,\"Average Score\":34},\n",
    "   {\"Name\":\"Rishabh Pant\",\"Number of Matches\":569,\"Average Score\":45},\n",
    "   {\"Name\":\"Dinesh Kartik\",\"Number of Matches\":678,\"Average Score\":29}]\n",
    "CricketPlayer=pd.DataFrame(l)\n",
    "for key,values in CricketPlayer.iteritems():\n",
    "    print(\"Itemwise:-\\n\",key,\"\\n\",values)"
   ]
  },
  {
   "cell_type": "markdown",
   "id": "14192efc",
   "metadata": {},
   "source": [
    "## Iterating with iterrows()"
   ]
  },
  {
   "cell_type": "code",
   "execution_count": 73,
   "id": "8c2d8536",
   "metadata": {},
   "outputs": [
    {
     "name": "stdout",
     "output_type": "stream",
     "text": [
      "Row-Wise Data sets \n",
      " 0 Name                 Virat Kohli\n",
      "Number of Matches           1072\n",
      "Average Score                 57\n",
      "Name: 0, dtype: object\n",
      "Row-Wise Data sets \n",
      " 1 Name                 Rohit Sharma\n",
      "Number of Matches             906\n",
      "Average Score                  46\n",
      "Name: 1, dtype: object\n",
      "Row-Wise Data sets \n",
      " 2 Name                 Suryakumar Yadav\n",
      "Number of Matches                 452\n",
      "Average Score                      34\n",
      "Name: 2, dtype: object\n",
      "Row-Wise Data sets \n",
      " 3 Name                 Rishabh Pant\n",
      "Number of Matches             569\n",
      "Average Score                  45\n",
      "Name: 3, dtype: object\n",
      "Row-Wise Data sets \n",
      " 4 Name                 Dinesh Kartik\n",
      "Number of Matches              678\n",
      "Average Score                   29\n",
      "Name: 4, dtype: object\n"
     ]
    }
   ],
   "source": [
    "for row_index,row in CricketPlayer.iterrows():\n",
    "    print(\"Row-Wise Data sets \\n\",row_index,row) #cool"
   ]
  },
  {
   "cell_type": "markdown",
   "id": "90d8054c",
   "metadata": {},
   "source": [
    "## Iterating with itertuples()"
   ]
  },
  {
   "cell_type": "code",
   "execution_count": 74,
   "id": "8d9933cf",
   "metadata": {},
   "outputs": [
    {
     "name": "stdout",
     "output_type": "stream",
     "text": [
      "Pandas(Index=0, Name='Virat Kohli', _2=1072, _3=57)\n",
      "Pandas(Index=1, Name='Rohit Sharma', _2=906, _3=46)\n",
      "Pandas(Index=2, Name='Suryakumar Yadav', _2=452, _3=34)\n",
      "Pandas(Index=3, Name='Rishabh Pant', _2=569, _3=45)\n",
      "Pandas(Index=4, Name='Dinesh Kartik', _2=678, _3=29)\n"
     ]
    }
   ],
   "source": [
    "for row in CricketPlayer.itertuples():\n",
    "    print(row)"
   ]
  },
  {
   "cell_type": "markdown",
   "id": "4df6ab98",
   "metadata": {},
   "source": [
    "# Head and Tail Functions\n"
   ]
  },
  {
   "cell_type": "code",
   "execution_count": 76,
   "id": "8c29b64a",
   "metadata": {},
   "outputs": [
    {
     "name": "stdout",
     "output_type": "stream",
     "text": [
      "               Name  Number of Matches  Average Score\n",
      "0       Virat Kohli               1072             57\n",
      "1      Rohit Sharma                906             46\n",
      "2  Suryakumar Yadav                452             34\n"
     ]
    }
   ],
   "source": [
    "print(CricketPlayer.head(3))#Default is first 5"
   ]
  },
  {
   "cell_type": "code",
   "execution_count": 77,
   "id": "cfa30292",
   "metadata": {},
   "outputs": [
    {
     "name": "stdout",
     "output_type": "stream",
     "text": [
      "               Name  Number of Matches  Average Score\n",
      "2  Suryakumar Yadav                452             34\n",
      "3      Rishabh Pant                569             45\n",
      "4     Dinesh Kartik                678             29\n"
     ]
    }
   ],
   "source": [
    "print(CricketPlayer.tail(3))#Default is last 5"
   ]
  },
  {
   "cell_type": "markdown",
   "id": "539a9234",
   "metadata": {},
   "source": [
    "# Joining DataFrames"
   ]
  },
  {
   "cell_type": "markdown",
   "id": "4c61d761",
   "metadata": {},
   "source": [
    "## Using Join Function with left method"
   ]
  },
  {
   "cell_type": "code",
   "execution_count": 79,
   "id": "3bde6f05",
   "metadata": {},
   "outputs": [
    {
     "name": "stdout",
     "output_type": "stream",
     "text": [
      "               Name  Number of Matches  Average Score  0        1\n",
      "0       Virat Kohli               1072             57  1    Aryan\n",
      "1      Rohit Sharma                906             46  2   Ananay\n",
      "2  Suryakumar Yadav                452             34  3  Bhavesh\n",
      "3      Rishabh Pant                569             45  4   Ishita\n",
      "4     Dinesh Kartik                678             29  5  Kritika\n"
     ]
    }
   ],
   "source": [
    "import pandas as pd \n",
    "l=[{\"Name\":\"Virat Kohli\",\"Number of Matches\":1072,\"Average Score\":57},\n",
    "   {\"Name\":\"Rohit Sharma\",\"Number of Matches\":906,\"Average Score\":46},\n",
    "   {\"Name\":\"Suryakumar Yadav\",\"Number of Matches\":452,\"Average Score\":34},\n",
    "   {\"Name\":\"Rishabh Pant\",\"Number of Matches\":569,\"Average Score\":45},\n",
    "   {\"Name\":\"Dinesh Kartik\",\"Number of Matches\":678,\"Average Score\":29}]\n",
    "CricketPlayer=pd.DataFrame(l)\n",
    "\n",
    "l2=[[1,\"Aryan\"],[2,\"Ananay\"],[3,\"Bhavesh\"],[4,\"Ishita\"],[5,\"Kritika\"]]\n",
    "df=pd.DataFrame(l2)\n",
    "\n",
    "d3=CricketPlayer.join(df,how='left')#first from cricetplayers from left and then df\n",
    "print(d3)"
   ]
  },
  {
   "cell_type": "markdown",
   "id": "2d5d166c",
   "metadata": {},
   "source": [
    "## Using Join Function with right method"
   ]
  },
  {
   "cell_type": "code",
   "execution_count": 82,
   "id": "6795b0e9",
   "metadata": {},
   "outputs": [
    {
     "name": "stdout",
     "output_type": "stream",
     "text": [
      "               Name  Number of Matches  Average Score  0        1\n",
      "0       Virat Kohli               1072             57  1    Aryan\n",
      "1      Rohit Sharma                906             46  2   Ananay\n",
      "2  Suryakumar Yadav                452             34  3  Bhavesh\n",
      "3      Rishabh Pant                569             45  4   Ishita\n",
      "4     Dinesh Kartik                678             29  5  Kritika\n"
     ]
    }
   ],
   "source": [
    "import pandas as pd \n",
    "l=[{\"Name\":\"Virat Kohli\",\"Number of Matches\":1072,\"Average Score\":57},\n",
    "   {\"Name\":\"Rohit Sharma\",\"Number of Matches\":906,\"Average Score\":46},\n",
    "   {\"Name\":\"Suryakumar Yadav\",\"Number of Matches\":452,\"Average Score\":34},\n",
    "   {\"Name\":\"Rishabh Pant\",\"Number of Matches\":569,\"Average Score\":45},\n",
    "   {\"Name\":\"Dinesh Kartik\",\"Number of Matches\":678,\"Average Score\":29}]\n",
    "CricketPlayer=pd.DataFrame(l)\n",
    "\n",
    "l2=[[1,\"Aryan\"],[2,\"Ananay\"],[3,\"Bhavesh\"],[4,\"Ishita\"],[5,\"Kritika\"]]\n",
    "df=pd.DataFrame(l2)\n",
    "\n",
    "d3=CricketPlayer.join(df,how=\"right\")\n",
    "print(d3)"
   ]
  },
  {
   "cell_type": "markdown",
   "id": "a3c92b3f",
   "metadata": {},
   "source": [
    "## Using Join Function with inner method"
   ]
  },
  {
   "cell_type": "code",
   "execution_count": 83,
   "id": "25697054",
   "metadata": {},
   "outputs": [
    {
     "name": "stdout",
     "output_type": "stream",
     "text": [
      "               Name  Number of Matches  Average Score  0        1\n",
      "0       Virat Kohli               1072             57  1    Aryan\n",
      "1      Rohit Sharma                906             46  2   Ananay\n",
      "2  Suryakumar Yadav                452             34  3  Bhavesh\n",
      "3      Rishabh Pant                569             45  4   Ishita\n",
      "4     Dinesh Kartik                678             29  5  Kritika\n"
     ]
    }
   ],
   "source": [
    "import pandas as pd \n",
    "l=[{\"Name\":\"Virat Kohli\",\"Number of Matches\":1072,\"Average Score\":57},\n",
    "   {\"Name\":\"Rohit Sharma\",\"Number of Matches\":906,\"Average Score\":46},\n",
    "   {\"Name\":\"Suryakumar Yadav\",\"Number of Matches\":452,\"Average Score\":34},\n",
    "   {\"Name\":\"Rishabh Pant\",\"Number of Matches\":569,\"Average Score\":45},\n",
    "   {\"Name\":\"Dinesh Kartik\",\"Number of Matches\":678,\"Average Score\":29}]\n",
    "CricketPlayer=pd.DataFrame(l)\n",
    "\n",
    "l2=[[1,\"Aryan\"],[2,\"Ananay\"],[3,\"Bhavesh\"],[4,\"Ishita\"],[5,\"Kritika\"]]\n",
    "df=pd.DataFrame(l2)\n",
    "\n",
    "d3=CricketPlayer.join(df,how=\"inner\")\n",
    "print(d3)"
   ]
  },
  {
   "cell_type": "markdown",
   "id": "5e5a8817",
   "metadata": {},
   "source": [
    "## Using Join Function with outer method"
   ]
  },
  {
   "cell_type": "code",
   "execution_count": 84,
   "id": "7ed9644e",
   "metadata": {},
   "outputs": [
    {
     "name": "stdout",
     "output_type": "stream",
     "text": [
      "               Name  Number of Matches  Average Score  0        1\n",
      "0       Virat Kohli               1072             57  1    Aryan\n",
      "1      Rohit Sharma                906             46  2   Ananay\n",
      "2  Suryakumar Yadav                452             34  3  Bhavesh\n",
      "3      Rishabh Pant                569             45  4   Ishita\n",
      "4     Dinesh Kartik                678             29  5  Kritika\n"
     ]
    }
   ],
   "source": [
    "import pandas as pd \n",
    "l=[{\"Name\":\"Virat Kohli\",\"Number of Matches\":1072,\"Average Score\":57},\n",
    "   {\"Name\":\"Rohit Sharma\",\"Number of Matches\":906,\"Average Score\":46},\n",
    "   {\"Name\":\"Suryakumar Yadav\",\"Number of Matches\":452,\"Average Score\":34},\n",
    "   {\"Name\":\"Rishabh Pant\",\"Number of Matches\":569,\"Average Score\":45},\n",
    "   {\"Name\":\"Dinesh Kartik\",\"Number of Matches\":678,\"Average Score\":29}]\n",
    "CricketPlayer=pd.DataFrame(l)\n",
    "\n",
    "l2=[[1,\"Aryan\"],[2,\"Ananay\"],[3,\"Bhavesh\"],[4,\"Ishita\"],[5,\"Kritika\"]]\n",
    "df=pd.DataFrame(l2)\n",
    "\n",
    "d3=CricketPlayer.join(df,how=\"outer\")\n",
    "print(d3)"
   ]
  },
  {
   "cell_type": "markdown",
   "id": "fd2690f5",
   "metadata": {},
   "source": [
    "# Merging DataFrames"
   ]
  },
  {
   "cell_type": "code",
   "execution_count": 88,
   "id": "0392c92d",
   "metadata": {},
   "outputs": [
    {
     "name": "stdout",
     "output_type": "stream",
     "text": [
      "  key  data1  data2\n",
      "0   a      0      0\n",
      "1   d      3      1\n"
     ]
    }
   ],
   "source": [
    "import pandas as pd\n",
    "df1=pd.DataFrame({'key':['a','b','c','d'],'data1':range(4)})\n",
    "df2=pd.DataFrame({'key':['a','d'],'data2':range(2)})\n",
    "x=pd.merge(df1,df2)\n",
    "print(x)"
   ]
  },
  {
   "cell_type": "markdown",
   "id": "9c33e44e",
   "metadata": {},
   "source": [
    "# Merging DataFrames on keys"
   ]
  },
  {
   "cell_type": "code",
   "execution_count": 89,
   "id": "d218c833",
   "metadata": {},
   "outputs": [
    {
     "name": "stdout",
     "output_type": "stream",
     "text": [
      "  key  data1  data2\n",
      "0   a      0      0\n",
      "1   d      3      1\n"
     ]
    }
   ],
   "source": [
    "import pandas as pd\n",
    "df1=pd.DataFrame({'key':['a','b','c','d'],'data1':range(4)})\n",
    "df2=pd.DataFrame({'key':['a','d'],'data2':range(2)})\n",
    "x=pd.merge(df1,df2,on='key')\n",
    "print(x)"
   ]
  },
  {
   "cell_type": "markdown",
   "id": "32caf83f",
   "metadata": {},
   "source": [
    "# Cocatenating DataFrames"
   ]
  },
  {
   "cell_type": "markdown",
   "id": "c1d454d0",
   "metadata": {},
   "source": [
    "# Cocatenating DataFrames along rows"
   ]
  },
  {
   "cell_type": "code",
   "execution_count": 91,
   "id": "bf7458f6",
   "metadata": {},
   "outputs": [
    {
     "name": "stdout",
     "output_type": "stream",
     "text": [
      "               Name  Number of Matches  Average Score\n",
      "1       Virat Kohli               1072             57\n",
      "2      Rohit Sharma                906             46\n",
      "3  Suryakumar Yadav                452             34\n",
      "4      Rishabh Pant                569             45\n",
      "5     Dinesh Kartik                678             29\n",
      "     Name  Number of Matches  Average Score\n",
      "1  Jordan                500            200\n",
      "2    Kobe                430            180\n",
      "3   Curry                300            160\n",
      "4  Lebron                400            140\n",
      "5  Lamelo                170            120\n",
      "               Name  Number of Matches  Average Score\n",
      "0       Virat Kohli               1072             57\n",
      "1      Rohit Sharma                906             46\n",
      "2  Suryakumar Yadav                452             34\n",
      "3      Rishabh Pant                569             45\n",
      "4     Dinesh Kartik                678             29\n",
      "5            Jordan                500            200\n",
      "6              Kobe                430            180\n",
      "7             Curry                300            160\n",
      "8            Lebron                400            140\n",
      "9            Lamelo                170            120\n"
     ]
    }
   ],
   "source": [
    "import pandas as pd \n",
    "l=[{\"Name\":\"Virat Kohli\",\"Number of Matches\":1072,\"Average Score\":57},\n",
    "   {\"Name\":\"Rohit Sharma\",\"Number of Matches\":906,\"Average Score\":46},\n",
    "   {\"Name\":\"Suryakumar Yadav\",\"Number of Matches\":452,\"Average Score\":34},\n",
    "   {\"Name\":\"Rishabh Pant\",\"Number of Matches\":569,\"Average Score\":45},\n",
    "   {\"Name\":\"Dinesh Kartik\",\"Number of Matches\":678,\"Average Score\":29}]\n",
    "l2=[{\"Name\":\"Jordan\",\"Number of Matches\":500,\"Average Score\":200},\n",
    "   {\"Name\":\"Kobe\",\"Number of Matches\":430,\"Average Score\":180},\n",
    "   {\"Name\":\"Curry\",\"Number of Matches\":300,\"Average Score\":160},\n",
    "   {\"Name\":\"Lebron\",\"Number of Matches\":400,\"Average Score\":140},\n",
    "   {\"Name\":\"Lamelo\",\"Number of Matches\":170,\"Average Score\":120}]\n",
    "CP=pd.DataFrame(l,index=[1,2,3,4,5])\n",
    "BP=pd.DataFrame(l2,index=[1,2,3,4,5])\n",
    "print(CP)\n",
    "print(BP)\n",
    "con=pd.concat([CP,BP],axis=0,ignore_index=True)\n",
    "print(con)\n"
   ]
  },
  {
   "cell_type": "markdown",
   "id": "67ab7054",
   "metadata": {},
   "source": [
    "# Cocatenating DataFrames along columns"
   ]
  },
  {
   "cell_type": "code",
   "execution_count": 93,
   "id": "1d402b83",
   "metadata": {},
   "outputs": [
    {
     "name": "stdout",
     "output_type": "stream",
     "text": [
      "               Name  Number of Matches  Average Score\n",
      "1       Virat Kohli               1072             57\n",
      "2      Rohit Sharma                906             46\n",
      "3  Suryakumar Yadav                452             34\n",
      "4      Rishabh Pant                569             45\n",
      "5     Dinesh Kartik                678             29\n",
      "     Name  Number of Matches  Average Score\n",
      "1  Jordan                500            200\n",
      "2    Kobe                430            180\n",
      "3   Curry                300            160\n",
      "4  Lebron                400            140\n",
      "5  Lamelo                170            120\n",
      "               Name  Number of Matches  Average Score    Name  \\\n",
      "1       Virat Kohli               1072             57  Jordan   \n",
      "2      Rohit Sharma                906             46    Kobe   \n",
      "3  Suryakumar Yadav                452             34   Curry   \n",
      "4      Rishabh Pant                569             45  Lebron   \n",
      "5     Dinesh Kartik                678             29  Lamelo   \n",
      "\n",
      "   Number of Matches  Average Score  \n",
      "1                500            200  \n",
      "2                430            180  \n",
      "3                300            160  \n",
      "4                400            140  \n",
      "5                170            120  \n"
     ]
    }
   ],
   "source": [
    "import pandas as pd \n",
    "l=[{\"Name\":\"Virat Kohli\",\"Number of Matches\":1072,\"Average Score\":57},\n",
    "   {\"Name\":\"Rohit Sharma\",\"Number of Matches\":906,\"Average Score\":46},\n",
    "   {\"Name\":\"Suryakumar Yadav\",\"Number of Matches\":452,\"Average Score\":34},\n",
    "   {\"Name\":\"Rishabh Pant\",\"Number of Matches\":569,\"Average Score\":45},\n",
    "   {\"Name\":\"Dinesh Kartik\",\"Number of Matches\":678,\"Average Score\":29}]\n",
    "l2=[{\"Name\":\"Jordan\",\"Number of Matches\":500,\"Average Score\":200},\n",
    "   {\"Name\":\"Kobe\",\"Number of Matches\":430,\"Average Score\":180},\n",
    "   {\"Name\":\"Curry\",\"Number of Matches\":300,\"Average Score\":160},\n",
    "   {\"Name\":\"Lebron\",\"Number of Matches\":400,\"Average Score\":140},\n",
    "   {\"Name\":\"Lamelo\",\"Number of Matches\":170,\"Average Score\":120}]\n",
    "CP=pd.DataFrame(l,index=[1,2,3,4,5])\n",
    "BP=pd.DataFrame(l2,index=[1,2,3,4,5])\n",
    "print(CP)\n",
    "print(BP)\n",
    "con=pd.concat([CP,BP],axis=1,ignore_index=False)\n",
    "print(con)\n"
   ]
  },
  {
   "cell_type": "code",
   "execution_count": null,
   "id": "b83b4392",
   "metadata": {},
   "outputs": [],
   "source": []
  },
  {
   "cell_type": "markdown",
   "id": "d736d0ca",
   "metadata": {},
   "source": [
    "# DATA VISUALISATION"
   ]
  },
  {
   "cell_type": "markdown",
   "id": "040727f4",
   "metadata": {},
   "source": [
    "# Matplotlib.pyplot"
   ]
  },
  {
   "cell_type": "markdown",
   "id": "137f2765",
   "metadata": {},
   "source": [
    "## Line Chart or Line Graph"
   ]
  },
  {
   "cell_type": "code",
   "execution_count": 95,
   "id": "4a1a9ee0",
   "metadata": {},
   "outputs": [
    {
     "data": {
      "image/png": "[encoded data removed]",
      "text/plain": [
       "<Figure size 432x288 with 1 Axes>"
      ]
     },
     "metadata": {
      "needs_background": "light"
     },
     "output_type": "display_data"
    }
   ],
   "source": [
    "import matplotlib.pyplot as plt\n",
    "x=[1,2,3,4,5]\n",
    "y=[2,3.5,5,6.5,8]\n",
    "plt.plot(x,y)\n",
    "plt.show()"
   ]
  },
  {
   "cell_type": "markdown",
   "id": "299f8c89",
   "metadata": {},
   "source": [
    "## Customizing line plot with color , marker and other functions"
   ]
  },
  {
   "cell_type": "code",
   "execution_count": 111,
   "id": "9891d0eb",
   "metadata": {},
   "outputs": [
    {
     "data": {
      "image/png": "[encoded data removed]",
      "text/plain": [
       "<Figure size 432x288 with 1 Axes>"
      ]
     },
     "metadata": {
      "needs_background": "light"
     },
     "output_type": "display_data"
    }
   ],
   "source": [
    "import matplotlib.pyplot as plt\n",
    "x=[10,20,30,40,50,90,70,80,60,100]\n",
    "y=[5,10,15,20,25,30,35,40,45,50]\n",
    "plt.plot(x,y,color='y',marker='*',markersize='10',markeredgecolor='r',\n",
    "        linewidth=2,linestyle='--',label='GB')\n",
    "plt.plot(y,x,color='m',marker='*',markersize='10',markeredgecolor='b',\n",
    "        linewidth=2,linestyle='--',label='TB')\n",
    "plt.title(\"Line Plot\",fontsize=30,color='g',fontname='Arial')\n",
    "plt.xlabel(\"Time\",fontsize='20',color='b',fontname='Comic Sans MS')\n",
    "plt.ylabel(\"Distance\",fontsize='20',color='b',fontname='Comic Sans MS')\n",
    "plt.grid()#for grids\n",
    "plt.legend()\n",
    "plt.show()"
   ]
  },
  {
   "cell_type": "markdown",
   "id": "56546ff9",
   "metadata": {},
   "source": [
    "## Plotting Data stored in a DataFrame using Line Plot"
   ]
  },
  {
   "cell_type": "code",
   "execution_count": 118,
   "id": "56537a8b",
   "metadata": {},
   "outputs": [
    {
     "data": {
      "image/png": "[encoded data removed]",
      "text/plain": [
       "<Figure size 432x288 with 1 Axes>"
      ]
     },
     "metadata": {
      "needs_background": "light"
     },
     "output_type": "display_data"
    }
   ],
   "source": [
    "import pandas as pd\n",
    "import matplotlib.pyplot as plt\n",
    "d1={\"RollNo\":pd.Series([1,2,3,4,5,6,7,8,9,10],index=[1,2,3,4,5,6,7,8,9,10]),\n",
    "    \"Total\":pd.Series([300,350,314,125,250,270,406,222,120,500],index=[1,2,3,4,5,6,7,8,9,10])}\n",
    "df=pd.DataFrame(d1)\n",
    "a=df.RollNo\n",
    "b=df.Total\n",
    "plt.title(\"TERM 1 REPORT\")\n",
    "plt.xlabel(\"RollNo.\")\n",
    "plt.ylabel(\"Total\")\n",
    "plt.plot(a,b,label='Marks',color='red')\n",
    "plt.legend()\n",
    "plt.show()    "
   ]
  },
  {
   "cell_type": "markdown",
   "id": "1e1c25e0",
   "metadata": {},
   "source": [
    "## Plotting Data Stored in CSV Files"
   ]
  },
  {
   "cell_type": "code",
   "execution_count": 124,
   "id": "6757fd69",
   "metadata": {},
   "outputs": [
    {
     "data": {
      "image/png": "[encoded data removed]",
      "text/plain": [
       "<Figure size 432x288 with 1 Axes>"
      ]
     },
     "metadata": {
      "needs_background": "light"
     },
     "output_type": "display_data"
    }
   ],
   "source": [
    "import pandas as pd\n",
    "import matplotlib.pyplot as plt\n",
    "df=pd.read_csv('Cricket.csv')\n",
    "df.plot(kind='line',color=['r','g','b'],marker='*',markeredgecolor='m')\n",
    "plt.title('IPL REPORT',fontsize=20,color='r')\n",
    "plt.xlabel('xyz')\n",
    "plt.ylabel('abc')\n",
    "plt.legend()\n",
    "plt.show()"
   ]
  },
  {
   "cell_type": "markdown",
   "id": "bfe2abf6",
   "metadata": {},
   "source": [
    "## Bar Plot"
   ]
  },
  {
   "cell_type": "code",
   "execution_count": 126,
   "id": "59249477",
   "metadata": {},
   "outputs": [
    {
     "data": {
      "image/png": "[encoded data removed]",
      "text/plain": [
       "<Figure size 432x288 with 1 Axes>"
      ]
     },
     "metadata": {
      "needs_background": "light"
     },
     "output_type": "display_data"
    }
   ],
   "source": [
    "import matplotlib.pyplot as plt\n",
    "year=[2002,2003,2004,2005,2006]\n",
    "sales=[1200,1400,1100,2500,1250]\n",
    "plt.bar(year,sales)\n",
    "plt.show()"
   ]
  },
  {
   "cell_type": "markdown",
   "id": "49ba7371",
   "metadata": {},
   "source": [
    "## Customizing Bar Plot"
   ]
  },
  {
   "cell_type": "code",
   "execution_count": 133,
   "id": "fa84f266",
   "metadata": {},
   "outputs": [
    {
     "data": {
      "image/png": "[encoded data removed]",
      "text/plain": [
       "<Figure size 432x288 with 1 Axes>"
      ]
     },
     "metadata": {
      "needs_background": "light"
     },
     "output_type": "display_data"
    }
   ],
   "source": [
    "import matplotlib.pyplot as plt\n",
    "year=[2002,2003,2004,2005,2006]\n",
    "sales=[1200,1400,1100,2500,1250]\n",
    "plt.bar(year,sales,width=0.2,color=['r','g','b','m','y'])\n",
    "plt.xlabel('YEARS',fontsize=20,color='g')\n",
    "plt.ylabel('SALES',fontsize=20,color='r')\n",
    "plt.title('GB PRIVATE LTD.',fontsize=30,color='b')\n",
    "plt.show()"
   ]
  },
  {
   "cell_type": "markdown",
   "id": "405e9968",
   "metadata": {},
   "source": [
    "## Multiple Bar Graphs"
   ]
  },
  {
   "cell_type": "code",
   "execution_count": 145,
   "id": "a7a7ee49",
   "metadata": {},
   "outputs": [
    {
     "data": {
      "image/png": "[encoded data removed]",
      "text/plain": [
       "<Figure size 432x288 with 1 Axes>"
      ]
     },
     "metadata": {
      "needs_background": "light"
     },
     "output_type": "display_data"
    }
   ],
   "source": [
    "import matplotlib.pyplot as plt\n",
    "import numpy as np\n",
    "a=np.arange(1,6)\n",
    "sub=['French','English','ComputerScience','Maths','Hindi']\n",
    "Girls=[30,40,20,35,55]\n",
    "Boys=[44,52,72,33,60]\n",
    "plt.bar(a,Girls,width=0.2,label='GIRLS',color='m')\n",
    "plt.bar(a+.2,Boys,width=0.2,label='BOYS',color='b')\n",
    "plt.title(\"MRA DAV SCHOOL\")\n",
    "plt.xlabel(sub)\n",
    "plt.ylabel('Girls/Boys')\n",
    "plt.legend()\n",
    "plt.show()"
   ]
  },
  {
   "cell_type": "markdown",
   "id": "37c954ab",
   "metadata": {},
   "source": [
    "## Multiple Bar Graphs using linspace"
   ]
  },
  {
   "cell_type": "code",
   "execution_count": 146,
   "id": "a3ca55c2",
   "metadata": {},
   "outputs": [
    {
     "data": {
      "image/png": "[encoded data removed]",
      "text/plain": [
       "<Figure size 432x288 with 1 Axes>"
      ]
     },
     "metadata": {
      "needs_background": "light"
     },
     "output_type": "display_data"
    }
   ],
   "source": [
    "import matplotlib.pyplot as plt\n",
    "import numpy as np\n",
    "a=[30,40,20,35,55]\n",
    "b=[44,52,72,33,60]\n",
    "x=np.linspace(1,51,5)\n",
    "plt.bar(x,a,width=3,color='y',label='Australia')\n",
    "plt.bar(x+3,b,width=3,color='b',label='India')\n",
    "plt.xlabel('Overs')\n",
    "plt.ylabel(\"Runs\")\n",
    "plt.title(\"India tour of Australia\")\n",
    "plt.legend()\n",
    "plt.show()\n"
   ]
  },
  {
   "cell_type": "markdown",
   "id": "42617daa",
   "metadata": {},
   "source": [
    "## Multiple Bar Graphs from a CSV File"
   ]
  },
  {
   "cell_type": "code",
   "execution_count": 148,
   "id": "1b29737d",
   "metadata": {},
   "outputs": [
    {
     "data": {
      "image/png": "[encoded data removed]",
      "text/plain": [
       "<Figure size 432x288 with 1 Axes>"
      ]
     },
     "metadata": {
      "needs_background": "light"
     },
     "output_type": "display_data"
    }
   ],
   "source": [
    "import pandas as pd\n",
    "import numpy as np\n",
    "import matplotlib.pyplot as plt\n",
    "df=pd.read_csv(\"Cricket.csv\")\n",
    "df.plot(kind='bar',width=0.5)\n",
    "plt.show()"
   ]
  },
  {
   "cell_type": "markdown",
   "id": "d0edfbc4",
   "metadata": {},
   "source": [
    "## Horizontal Bar Graph"
   ]
  },
  {
   "cell_type": "code",
   "execution_count": 151,
   "id": "42db56c2",
   "metadata": {},
   "outputs": [
    {
     "data": {
      "image/png": "[encoded data removed]",
      "text/plain": [
       "<Figure size 432x288 with 1 Axes>"
      ]
     },
     "metadata": {
      "needs_background": "light"
     },
     "output_type": "display_data"
    }
   ],
   "source": [
    "import matplotlib.pyplot as plt\n",
    "import numpy as np\n",
    "a=[30,40,20,35,55]\n",
    "b=[44,52,72,33,60]\n",
    "x=np.linspace(1,51,5)\n",
    "plt.barh(x,a,color='y',label='Australia')\n",
    "plt.barh(x+3,b,color='b',label='India')\n",
    "plt.xlabel('Overs')\n",
    "plt.ylabel(\"Runs\")\n",
    "plt.title(\"India tour of Australia\")\n",
    "plt.legend()\n",
    "plt.show()"
   ]
  },
  {
   "cell_type": "markdown",
   "id": "4bffdb55",
   "metadata": {},
   "source": [
    "## Setting limits and ticks"
   ]
  },
  {
   "cell_type": "code",
   "execution_count": 155,
   "id": "aa837cc5",
   "metadata": {},
   "outputs": [
    {
     "data": {
      "image/png": "[encoded data removed]",
      "text/plain": [
       "<Figure size 432x288 with 1 Axes>"
      ]
     },
     "metadata": {
      "needs_background": "light"
     },
     "output_type": "display_data"
    }
   ],
   "source": [
    "import matplotlib.pyplot as plt\n",
    "import numpy as np\n",
    "a=np.arange(0,5)\n",
    "b=[5,20,30,40,50]\n",
    "plt.xlim(-2,5)\n",
    "plt.ylim(5,50)\n",
    "plt.bar(a,b)\n",
    "plt.show()\n"
   ]
  },
  {
   "cell_type": "markdown",
   "id": "3b9a7ccd",
   "metadata": {},
   "source": [
    "# Histogram"
   ]
  },
  {
   "cell_type": "code",
   "execution_count": 157,
   "id": "9cf835da",
   "metadata": {},
   "outputs": [
    {
     "data": {
      "image/png": "[encoded data removed]",
      "text/plain": [
       "<Figure size 432x288 with 1 Axes>"
      ]
     },
     "metadata": {
      "needs_background": "light"
     },
     "output_type": "display_data"
    }
   ],
   "source": [
    "import matplotlib.pyplot as plt\n",
    "import numpy as np\n",
    "marks=[80,10,97,26,90,37,89,48,99,58,99,92,67,88,78,77]\n",
    "bin=[0,10,20,30,40,50,60,70,80,90,100]\n",
    "plt.hist(marks,bins=bin,color='m',edgecolor='y')\n",
    "plt.xlabel('Marks')\n",
    "plt.ylabel('No. of Students')\n",
    "plt.title('HISTOGRAM',color='r')\n",
    "plt.show()"
   ]
  },
  {
   "cell_type": "markdown",
   "id": "1f2d96d5",
   "metadata": {},
   "source": [
    "## Weighted Histogram"
   ]
  },
  {
   "cell_type": "code",
   "execution_count": 159,
   "id": "c9660c79",
   "metadata": {},
   "outputs": [
    {
     "data": {
      "image/png": "[encoded data removed]",
      "text/plain": [
       "<Figure size 432x288 with 1 Axes>"
      ]
     },
     "metadata": {
      "needs_background": "light"
     },
     "output_type": "display_data"
    }
   ],
   "source": [
    "import matplotlib.pyplot as plt\n",
    "import numpy as np\n",
    "marks=[80,10,97,26,90,37,89,48,99,58,99,92,67,88,78,77]\n",
    "bin=[0,10,20,30,40,50,60,70,80,90,100]\n",
    "plt.hist(marks,bins=bin,color='m',edgecolor='g',hatch='*',linestyle='--',fill=False,)\n",
    "plt.xlabel('Marks')\n",
    "plt.ylabel('No. of Students')\n",
    "plt.title('HISTOGRAM',color='r')\n",
    "plt.show()"
   ]
  },
  {
   "cell_type": "markdown",
   "id": "8716bb9a",
   "metadata": {},
   "source": [
    "## Plotting Histogram by histtype with multiple Data"
   ]
  },
  {
   "cell_type": "code",
   "execution_count": 162,
   "id": "e2964ca9",
   "metadata": {},
   "outputs": [
    {
     "data": {
      "image/png": "[encoded data removed]",
      "text/plain": [
       "<Figure size 432x288 with 1 Axes>"
      ]
     },
     "metadata": {
      "needs_background": "light"
     },
     "output_type": "display_data"
    }
   ],
   "source": [
    "import matplotlib.pyplot as plt\n",
    "import numpy as np\n",
    "x=np.random.randn(100000)\n",
    "y=np.random.randn(100000)\n",
    "plt.hist(x,bins=20,histtype='step',linestyle='--')\n",
    "plt.hist(y,bins=50,histtype='barstacked')\n",
    "plt.xticks([-5,-4,-3,-2,-1,0,1,2,3,4,5])\n",
    "plt.show()"
   ]
  },
  {
   "cell_type": "markdown",
   "id": "499424ef",
   "metadata": {},
   "source": [
    "# Extra OP"
   ]
  },
  {
   "cell_type": "code",
   "execution_count": 163,
   "id": "73d0f835",
   "metadata": {},
   "outputs": [
    {
     "data": {
      "image/png": "[encoded data removed]",
      "text/plain": [
       "<Figure size 432x288 with 1 Axes>"
      ]
     },
     "metadata": {},
     "output_type": "display_data"
    }
   ],
   "source": [
    "import matplotlib.pyplot as plt\n",
    "# data to display on plots\n",
    "x = [1, 2, 3, 4]\n",
    "\n",
    "# this will explode the 1st wedge\n",
    "# i.e. will separate the 1st wedge\n",
    "# from the chart\n",
    "e =(0.1, 0, 0, 0)\n",
    "\n",
    "# This will plot a simple pie chart\n",
    "plt.pie(x, explode = e)\n",
    "\n",
    "# Title to the plot\n",
    "plt.title(\"Pie chart\")\n",
    "plt.show()\n"
   ]
  },
  {
   "cell_type": "code",
   "execution_count": 164,
   "id": "14113d68",
   "metadata": {},
   "outputs": [
    {
     "data": {
      "image/png": "[encoded data removed]",
      "text/plain": [
       "<Figure size 432x288 with 1 Axes>"
      ]
     },
     "metadata": {
      "needs_background": "light"
     },
     "output_type": "display_data"
    }
   ],
   "source": [
    "import matplotlib.pyplot as plt\n",
    "# Creating the figure object\n",
    "fig = plt.figure()\n",
    "\n",
    "# keeping the projection = 3d\n",
    "# ctreates the 3d plot\n",
    "ax = plt.axes(projection = '3d')\n"
   ]
  },
  {
   "cell_type": "code",
   "execution_count": 165,
   "id": "61d14953",
   "metadata": {},
   "outputs": [
    {
     "data": {
      "image/png": "[encoded data removed]",
      "text/plain": [
       "<Figure size 720x504 with 1 Axes>"
      ]
     },
     "metadata": {
      "needs_background": "light"
     },
     "output_type": "display_data"
    }
   ],
   "source": [
    "import matplotlib.pyplot as plt\n",
    "import numpy as np\n",
    "from matplotlib import colors\n",
    "from matplotlib.ticker import PercentFormatter\n",
    "\n",
    "\n",
    "# Creating dataset\n",
    "np.random.seed(23685752)\n",
    "N_points = 10000\n",
    "n_bins = 20\n",
    "\n",
    "# Creating distribution\n",
    "x = np.random.randn(N_points)\n",
    "y = .8 ** x + np.random.randn(10000) + 25\n",
    "legend = ['distribution']\n",
    "\n",
    "# Creating histogram\n",
    "fig, axs = plt.subplots(1, 1,\n",
    "\t\t\t\t\t\tfigsize =(10, 7),\n",
    "\t\t\t\t\t\ttight_layout = True)\n",
    "\n",
    "\n",
    "# Remove axes splines\n",
    "for s in ['top', 'bottom', 'left', 'right']:\n",
    "\taxs.spines[s].set_visible(False)\n",
    "\n",
    "# Remove x, y ticks\n",
    "axs.xaxis.set_ticks_position('none')\n",
    "axs.yaxis.set_ticks_position('none')\n",
    "\n",
    "# Add padding between axes and labels\n",
    "axs.xaxis.set_tick_params(pad = 5)\n",
    "axs.yaxis.set_tick_params(pad = 10)\n",
    "\n",
    "# Add x, y gridlines\n",
    "axs.grid(b = True, color ='grey',\n",
    "\t\tlinestyle ='-.', linewidth = 0.5,\n",
    "\t\talpha = 0.6)\n",
    "\n",
    "# Add Text watermark\n",
    "fig.text(0.9, 0.15, 'Jeeteshgavande30',\n",
    "\t\tfontsize = 12,\n",
    "\t\tcolor ='red',\n",
    "\t\tha ='right',\n",
    "\t\tva ='bottom',\n",
    "\t\talpha = 0.7)\n",
    "\n",
    "# Creating histogram\n",
    "N, bins, patches = axs.hist(x, bins = n_bins)\n",
    "\n",
    "# Setting color\n",
    "fracs = ((N**(1 / 5)) / N.max())\n",
    "norm = colors.Normalize(fracs.min(), fracs.max())\n",
    "\n",
    "for thisfrac, thispatch in zip(fracs, patches):\n",
    "\tcolor = plt.cm.viridis(norm(thisfrac))\n",
    "\tthispatch.set_facecolor(color)\n",
    "\n",
    "# Adding extra features\n",
    "plt.xlabel(\"X-axis\")\n",
    "plt.ylabel(\"y-axis\")\n",
    "plt.legend(legend)\n",
    "plt.title('Customized histogram')\n",
    "\n",
    "# Show plot\n",
    "plt.show()\n"
   ]
  },
  {
   "cell_type": "code",
   "execution_count": null,
   "id": "8f510e72",
   "metadata": {},
   "outputs": [],
   "source": []
  }
 ],
 "metadata": {
  "kernelspec": {
   "display_name": "Python 3 (ipykernel)",
   "language": "python",
   "name": "python3"
  },
  "language_info": {
   "codemirror_mode": {
    "name": "ipython",
    "version": 3
   },
   "file_extension": ".py",
   "mimetype": "text/x-python",
   "name": "python",
   "nbconvert_exporter": "python",
   "pygments_lexer": "ipython3",
   "version": "3.9.7"
  }
 },
 "nbformat": 4,
 "nbformat_minor": 5
}
