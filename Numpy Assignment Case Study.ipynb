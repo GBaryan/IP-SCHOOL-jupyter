{
 "cells": [
  {
   "cell_type": "markdown",
   "id": "ff5320e5",
   "metadata": {},
   "source": [
    "#  Assignment Realated Numpy  (Case Study)"
   ]
  },
  {
   "cell_type": "markdown",
   "id": "2150e08a",
   "metadata": {},
   "source": [
    "<h5 style='color:blue', align = 'Justify'> We have already learnt that a data set (or dataset) is a collection of data. Usually a data set corresponds to the contents of a database table, or a statistical data matrix, where every column of the table represents a particular variable, and each row corresponds to a member or an item etc. A data set lists values for each of the variables, such as height and weight of a student, for each row (item) of the dataset. Open data refers to information released in a publicly accessible repository.</h5>\n",
    "<h5 style='color:blue', align = 'Justify'>The Iris flower data set is an example of an open data. It is also called Fisher's Iris data set as this data set was introduced by the British statistician and biologist Ronald Fisher in 1936. The Iris data set consists of 50 samples from each of the three species of the flower Iris (Iris setosa, Iris virginica and Iris versicolor). Four features were measured for each sample: the length and the width of the sepals and petals, in centimeters. Based on the combination of these four features, Fisher developed a model to distinguish one species from each other. The full data set is freely available on UCI Machine Learning Repository at <b><font color = 'red'>https://archive.ics.uci.edu/ml/datasets/iris</font>. We shall use the following smaller section of this data set having 30 rows (10 rows for each of the three species). We shall include a column for species number that has a value 1 for Iris setosa, 2 for Iris virginica and 3 for Iris versicolor.</h5>\n",
    "    "
   ]
  },
  {
   "cell_type": "markdown",
   "id": "b0ed9431",
   "metadata": {},
   "source": [
    "### By using iris data file Solve the following Numpy  questions. Datafile name iris.txt"
   ]
  },
  {
   "cell_type": "markdown",
   "id": "d9b24a49",
   "metadata": {},
   "source": [
    "<h4 style= color= 'Green' 1. Load the data in the file Iris.txt in a 2-D array called iris."
   ]
  },
  {
   "cell_type": "markdown",
   "id": "175dd705",
   "metadata": {},
   "source": [
    "<h4 style = 'color:blue'>1. Load the data in the file Iris.txt in a 2-D array called iris.</h4>"
   ]
  },
  {
   "cell_type": "code",
   "execution_count": null,
   "id": "0da78f34",
   "metadata": {},
   "outputs": [],
   "source": []
  },
  {
   "cell_type": "markdown",
   "id": "05f19026",
   "metadata": {},
   "source": [
    "<h4 style = 'color:blue'>2. Drop column whose index = 4 from the array iris.</h4>"
   ]
  },
  {
   "cell_type": "code",
   "execution_count": null,
   "id": "21a7288c",
   "metadata": {},
   "outputs": [],
   "source": []
  },
  {
   "cell_type": "markdown",
   "id": "64b9ac42",
   "metadata": {},
   "source": [
    "<h4 style = 'color:blue'>3. Display the shape, dimensions and size of iris.</h4>"
   ]
  },
  {
   "cell_type": "code",
   "execution_count": null,
   "id": "436e9b1d",
   "metadata": {},
   "outputs": [],
   "source": []
  },
  {
   "cell_type": "markdown",
   "id": "59ac4822",
   "metadata": {},
   "source": [
    "<h4 style = 'color:blue'>4. Split iris into three 2-D arrays, each array for a different species. Call them iris1, iris2, iris3.</h4>"
   ]
  },
  {
   "cell_type": "code",
   "execution_count": null,
   "id": "dc1bb397",
   "metadata": {},
   "outputs": [],
   "source": []
  },
  {
   "cell_type": "markdown",
   "id": "8a71a941",
   "metadata": {},
   "source": [
    "<h4 style = 'color:blue'>5. Print the three arrays iris1, iris2, iris3</h4>"
   ]
  },
  {
   "cell_type": "code",
   "execution_count": null,
   "id": "e8545736",
   "metadata": {},
   "outputs": [],
   "source": []
  },
  {
   "cell_type": "markdown",
   "id": "02a87e86",
   "metadata": {},
   "source": [
    "<h4 style = 'color:blue'>6. Create a 1-D array header having elements \"sepal length\", \"sepal width\", \"petal length\", \"petal width\", \"Species No\" in that order.</h4>"
   ]
  },
  {
   "cell_type": "code",
   "execution_count": null,
   "id": "1b877a4a",
   "metadata": {},
   "outputs": [],
   "source": []
  },
  {
   "cell_type": "markdown",
   "id": "0b3f515e",
   "metadata": {},
   "source": [
    "<h4 style = 'color:blue'> 7. Display the array header.</h4>"
   ]
  },
  {
   "cell_type": "code",
   "execution_count": null,
   "id": "4668cc7a",
   "metadata": {},
   "outputs": [],
   "source": []
  },
  {
   "cell_type": "markdown",
   "id": "d4ea471d",
   "metadata": {},
   "source": [
    "<h4 style = 'color:blue'>8. Find the max, min, mean and standard deviation for the columns of the iris and store the results in the arrays iris_max, iris_min, iris_avg, iris_std, iris_var respectively. The results must be rounded to not more than two decimal places.</h4>"
   ]
  },
  {
   "cell_type": "code",
   "execution_count": null,
   "id": "0369c568",
   "metadata": {},
   "outputs": [],
   "source": []
  },
  {
   "cell_type": "markdown",
   "id": "a2b4cca1",
   "metadata": {},
   "source": [
    "<h4 style = 'color:green' align = 'justify'>9. Similarly find the max, min, mean and standard deviation for the columns of the iris1, iris2 and iris3 and store the results in the arrays with appropriate names.</h4>"
   ]
  },
  {
   "cell_type": "code",
   "execution_count": null,
   "id": "ce141586",
   "metadata": {},
   "outputs": [],
   "source": []
  },
  {
   "cell_type": "markdown",
   "id": "127032cf",
   "metadata": {},
   "source": [
    "<h4 style = 'color:red' align = 'justify'>10. Compare Iris setosa’s average sepal width to that of Iris virginica.</h4>"
   ]
  },
  {
   "cell_type": "code",
   "execution_count": null,
   "id": "354f6e72",
   "metadata": {},
   "outputs": [],
   "source": []
  },
  {
   "cell_type": "markdown",
   "id": "ded4a83c",
   "metadata": {},
   "source": [
    "<h4 style = 'color:blue' align = 'justify'>11. Compare Iris setosa’s average petal length to that of Iris virginica.</h4>"
   ]
  },
  {
   "cell_type": "code",
   "execution_count": null,
   "id": "2913f401",
   "metadata": {},
   "outputs": [],
   "source": []
  },
  {
   "cell_type": "markdown",
   "id": "40bc1fbe",
   "metadata": {},
   "source": [
    "<h4 style = 'color:green' align = 'justify'>12. Compare Iris setosa’s average petal width to that of Iris virginica.</h4>\n"
   ]
  },
  {
   "cell_type": "code",
   "execution_count": null,
   "id": "909e0fa6",
   "metadata": {},
   "outputs": [],
   "source": []
  },
  {
   "cell_type": "markdown",
   "id": "e9951006",
   "metadata": {},
   "source": [
    "<h4 style = 'color:red' align = 'justify'>13. Save the array iris_avg in a comma separated file named IrisMeanValues.txt on the hard disk.</h4>\n"
   ]
  },
  {
   "cell_type": "code",
   "execution_count": null,
   "id": "13938d75",
   "metadata": {},
   "outputs": [],
   "source": []
  },
  {
   "cell_type": "markdown",
   "id": "69237959",
   "metadata": {},
   "source": [
    "<h4 style = 'color:blue' align = 'justify'>14. Save the arrays iris_max, iris_avg, iris_min in a comma separated file named IrisStat.txt on thehard disk.</h4>"
   ]
  },
  {
   "cell_type": "code",
   "execution_count": null,
   "id": "de276cca",
   "metadata": {},
   "outputs": [],
   "source": []
  },
  {
   "cell_type": "markdown",
   "id": "f8278f5b",
   "metadata": {},
   "source": [
    "<h1 style = 'color:yellow', align = 'center'>All the best</h1>\n",
    "<h2 style = 'color:Green', align = 'center'>Stay Safe, Stay Home</h2>\n",
    "<h2 style = 'color:Green', align = 'center'>Rajesh Verma MRA DAV Public School, Solan</h2>"
   ]
  },
  {
   "cell_type": "code",
   "execution_count": null,
   "id": "c9a840cf",
   "metadata": {},
   "outputs": [],
   "source": []
  }
 ],
 "metadata": {
  "kernelspec": {
   "display_name": "Python 3",
   "language": "python",
   "name": "python3"
  },
  "language_info": {
   "codemirror_mode": {
    "name": "ipython",
    "version": 3
   },
   "file_extension": ".py",
   "mimetype": "text/x-python",
   "name": "python",
   "nbconvert_exporter": "python",
   "pygments_lexer": "ipython3",
   "version": "3.8.3"
  }
 },
 "nbformat": 4,
 "nbformat_minor": 5
}
